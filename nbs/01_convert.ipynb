{
 "cells": [
  {
   "cell_type": "code",
   "execution_count": null,
   "id": "diagnostic-beaver",
   "metadata": {},
   "outputs": [],
   "source": [
    "# default_exp convert"
   ]
  },
  {
   "cell_type": "markdown",
   "id": "agreed-representation",
   "metadata": {},
   "source": [
    "# Convert\n",
    "> The Jupyter Notebooks need to be turned into either Markdown or HTML documents to be compatible with the Medium API. Quite good tools to do just this already exists such as Jupyter's `nbconvert` or nbdev's `nbdev_nb2md` so we are not going to reinvent the wheel."
   ]
  },
  {
   "cell_type": "code",
   "execution_count": null,
   "id": "overhead-romance",
   "metadata": {},
   "outputs": [],
   "source": [
    "# hide\n",
    "from nbdev.showdoc import *"
   ]
  },
  {
   "cell_type": "code",
   "execution_count": null,
   "id": "ethical-johnson",
   "metadata": {},
   "outputs": [],
   "source": [
    "#export \n",
    "from nbconvert import MarkdownExporter, FilenameExtension\n",
    "from nbconvert.writers import FilesWriter"
   ]
  },
  {
   "cell_type": "markdown",
   "id": "demanding-relay",
   "metadata": {},
   "source": [
    "## Jupyter nbconvert"
   ]
  },
  {
   "cell_type": "markdown",
   "id": "supreme-lying",
   "metadata": {},
   "source": [
    "Jupyter's nbconvert is a well established tool created and maintained by the core jupyter developers. There is no need to reinvent the wheel, hence we will be using `nbconvert`'s python API to convert Jupyter Notebook to Markdown documents. You can read more about `nbconvert`'s function in the [official documentation](https://nbconvert.readthedocs.io/en/latest/nbconvert_library.html)"
   ]
  },
  {
   "cell_type": "markdown",
   "id": "favorite-polls",
   "metadata": {},
   "source": [
    "We will be using `Exporter`, namely the `MarkdownExporter` which can read a python notebook and extract the main body (text) and resources (images, etc). Let's first see the basics of how it works and then make a thin wrapper function around it."
   ]
  },
  {
   "cell_type": "code",
   "execution_count": null,
   "id": "departmental-selection",
   "metadata": {},
   "outputs": [],
   "source": [
    "m = MarkdownExporter()"
   ]
  },
  {
   "cell_type": "code",
   "execution_count": null,
   "id": "oriental-lender",
   "metadata": {},
   "outputs": [],
   "source": [
    "body, resources = m.from_filename('../tests/test-notebook.ipynb')"
   ]
  },
  {
   "cell_type": "markdown",
   "id": "double-sector",
   "metadata": {},
   "source": [
    "All notebook exporters return a tuple containing the body and the resources of the document, for instance the matplotlib image from our test notebook was stored as `output_4_1.png`"
   ]
  },
  {
   "cell_type": "code",
   "execution_count": null,
   "id": "minus-expense",
   "metadata": {},
   "outputs": [
    {
     "data": {
      "text/plain": [
       "dict_keys(['output_4_1.png', 'output_6_0.png', 'output_12_0.png', 'output_12_1.png'])"
      ]
     },
     "execution_count": null,
     "metadata": {},
     "output_type": "execute_result"
    }
   ],
   "source": [
    "resources['outputs']['output_4_1.png'];\n",
    "resources['outputs'].keys()"
   ]
  },
  {
   "cell_type": "markdown",
   "id": "dated-silver",
   "metadata": {},
   "source": [
    "Also it is important to know that so far, the notebook markdown representation only exists as a python object and no files have been written."
   ]
  },
  {
   "cell_type": "code",
   "execution_count": null,
   "id": "familiar-singer",
   "metadata": {},
   "outputs": [],
   "source": [
    "def nb2md_draft(notebook:str):\n",
    "    \"\"\"\n",
    "    Paper thin wrapper around nbconvert.MarkdownExporter. This function takes the path to a jupyter\n",
    "    notebook and passes it to `MarkdownExporter().from_filename` which returns the body and resources\n",
    "    of the document\n",
    "    \"\"\"\n",
    "    m = MarkdownExporter()\n",
    "    body, resources = m.from_filename(notebook)\n",
    "    return body, resources"
   ]
  },
  {
   "cell_type": "markdown",
   "id": "approximate-overview",
   "metadata": {},
   "source": [
    "This is a very basic notebook-to-markdown converter that is greatly improved and features are added to it with preprocessors further down in this module, hence this `nb2md()` function is not the one that will be exported and is hence marked as draft."
   ]
  },
  {
   "cell_type": "code",
   "execution_count": null,
   "id": "banner-short",
   "metadata": {},
   "outputs": [],
   "source": [
    "b, r = nb2md_draft('../tests/test-notebook.ipynb')"
   ]
  },
  {
   "cell_type": "markdown",
   "id": "through-limitation",
   "metadata": {},
   "source": [
    "## Writing Notebook to file"
   ]
  },
  {
   "cell_type": "markdown",
   "id": "alternative-sound",
   "metadata": {},
   "source": [
    "We use the `FilesWriter` object to write the resulting markdown file onto our laptop's storage. We can precise the `build_directory` attribute ([see more Writer options](https://nbconvert.readthedocs.io/en/latest/config_options.html#writer-options)) to indicate where we would like to store our Notebook and the auxiliary files (images, etc). The FilesWriter is \"aggresive\", meaning it will overwrite whatever files exists if there is a directory or filename clash. Lastly, it is also possible to write a custom Writer such as `MediumWriter` that renders the document and then uploads it to Medium but because I am learning I'd rather see every step in the pipeline."
   ]
  },
  {
   "cell_type": "code",
   "execution_count": null,
   "id": "chubby-elder",
   "metadata": {},
   "outputs": [],
   "source": [
    "f = FilesWriter(build_directory = 'Rendered/')"
   ]
  },
  {
   "cell_type": "markdown",
   "id": "adapted-mattress",
   "metadata": {},
   "source": [
    "Conveniently, the `write()` method of `FilesWriter` returns the output path."
   ]
  },
  {
   "cell_type": "code",
   "execution_count": null,
   "id": "coupled-graph",
   "metadata": {},
   "outputs": [
    {
     "data": {
      "text/plain": [
       "'Rendered/test-notebook.md'"
      ]
     },
     "execution_count": null,
     "metadata": {},
     "output_type": "execute_result"
    }
   ],
   "source": [
    "f.write(output = body, \n",
    "        resources = resources,\n",
    "        notebook_name = 'test-notebook')"
   ]
  },
  {
   "cell_type": "markdown",
   "id": "applicable-evening",
   "metadata": {},
   "source": [
    "### Simple writing function"
   ]
  },
  {
   "cell_type": "code",
   "execution_count": null,
   "id": "finished-pathology",
   "metadata": {},
   "outputs": [],
   "source": [
    "#export\n",
    "def WriteMarkdown(body, resources, dir_path = None, filename = None):\n",
    "    \"\"\"\n",
    "    body & resources are the output of any Jupyter nbconvert `Exporter`.\n",
    "    dir_path should be a relative path with respect to the current working directory. \n",
    "    If dir_path is not passed, the output document and its auxiliary files will be written\n",
    "    to the same location than the input jupyter notebook\n",
    "    filename should be the output document's name\n",
    "    \n",
    "    This function returns the location of the newly written file\n",
    "    \"\"\"\n",
    "    return FilesWriter(build_directory = '' if dir_path is None else dir_path) \\\n",
    "    .write(\n",
    "        output = body,\n",
    "        resources = resources,\n",
    "        notebook_name = filename\n",
    "    )"
   ]
  },
  {
   "cell_type": "markdown",
   "id": "raising-canon",
   "metadata": {},
   "source": [
    "#### Example 1 - Write to Jupyter's Notebook directory"
   ]
  },
  {
   "cell_type": "code",
   "execution_count": null,
   "id": "offensive-kuwait",
   "metadata": {},
   "outputs": [
    {
     "data": {
      "text/plain": [
       "'../tests/test-notebook.md'"
      ]
     },
     "execution_count": null,
     "metadata": {},
     "output_type": "execute_result"
    }
   ],
   "source": [
    "WriteMarkdown(body, resources, filename = 'test-notebook')"
   ]
  },
  {
   "cell_type": "markdown",
   "id": "dental-gabriel",
   "metadata": {},
   "source": [
    "#### Example 2 - Write to new directory"
   ]
  },
  {
   "cell_type": "code",
   "execution_count": null,
   "id": "greenhouse-electron",
   "metadata": {},
   "outputs": [
    {
     "data": {
      "text/plain": [
       "'Docs/test-notebook.md'"
      ]
     },
     "execution_count": null,
     "metadata": {},
     "output_type": "execute_result"
    }
   ],
   "source": [
    "WriteMarkdown(body, resources, dir_path= 'Docs', filename= 'test-notebook')"
   ]
  },
  {
   "cell_type": "markdown",
   "id": "pediatric-greenhouse",
   "metadata": {},
   "source": [
    "#### Example 3 - Write to directory with subdirectory"
   ]
  },
  {
   "cell_type": "code",
   "execution_count": null,
   "id": "dirty-remark",
   "metadata": {},
   "outputs": [
    {
     "data": {
      "text/plain": [
       "'Docs/Attempt1/test-notebook.md'"
      ]
     },
     "execution_count": null,
     "metadata": {},
     "output_type": "execute_result"
    }
   ],
   "source": [
    "WriteMarkdown(body, resources, dir_path= 'Docs/Attempt1', filename= 'test-notebook')"
   ]
  },
  {
   "cell_type": "markdown",
   "id": "fleet-romania",
   "metadata": {},
   "source": [
    "#### Example 4 - Write outside the current working directory"
   ]
  },
  {
   "cell_type": "code",
   "execution_count": null,
   "id": "union-scotland",
   "metadata": {},
   "outputs": [
    {
     "data": {
      "text/plain": [
       "'../Docs/test-notebook.md'"
      ]
     },
     "execution_count": null,
     "metadata": {},
     "output_type": "execute_result"
    }
   ],
   "source": [
    "WriteMarkdown(body, resources, dir_path= '../Docs', filename= 'test-notebook')"
   ]
  },
  {
   "cell_type": "code",
   "execution_count": null,
   "id": "computational-husband",
   "metadata": {},
   "outputs": [],
   "source": [
    "# hide\n",
    "!rm -rf Docs/ Rendered/ ../Docs/ ../tests/test-notebook.md ../tests/output*.png"
   ]
  },
  {
   "cell_type": "markdown",
   "id": "parallel-shirt",
   "metadata": {},
   "source": [
    "## Handling special tags"
   ]
  },
  {
   "cell_type": "markdown",
   "id": "armed-accordance",
   "metadata": {},
   "source": [
    "### Hide tags - Remove cell if cell has no output"
   ]
  },
  {
   "cell_type": "markdown",
   "id": "mysterious-patent",
   "metadata": {},
   "source": [
    "We may wish certain markdown or code cells to not be present in the output document. To achieve this we can use `nbconvert`'s [`RegexRemovePreprocessor`](https://nbconvert.readthedocs.io/en/latest/removing_cells.html#removing-cells-using-regular-expressions-on-cell-content). preprocessors such as this one can either be registered to an `Exporter`(see [how](https://nbconvert.readthedocs.io/en/latest/api/exporters.html#nbconvert.exporters.Exporter.register_preprocessor)) or passed as part of a config (see [how](https://nbconvert.readthedocs.io/en/latest/removing_cells.html#removing-pieces-of-cells-using-cell-tags)). "
   ]
  },
  {
   "cell_type": "code",
   "execution_count": null,
   "id": "smooth-connecticut",
   "metadata": {},
   "outputs": [],
   "source": [
    "#export \n",
    "from nbconvert.preprocessors import RegexRemovePreprocessor"
   ]
  },
  {
   "cell_type": "code",
   "execution_count": null,
   "id": "direct-bolivia",
   "metadata": {},
   "outputs": [],
   "source": [
    "m = MarkdownExporter()\n",
    "m.register_preprocessor(RegexRemovePreprocessor(patterns = ['^#\\s*hide-cell']), enabled = True);"
   ]
  },
  {
   "cell_type": "markdown",
   "id": "effective-antarctica",
   "metadata": {},
   "source": [
    "__Funnily enough__, the `RegexRemovePreprocessor` [only hides cells that have the tag AND that do no produce an output](https://github.com/jupyter/nbconvert/issues/1091). For example:\n",
    "```python \n",
    "#hide-cell\n",
    "a = 1\n",
    "```\n",
    "would be removed, but:\n",
    "```python \n",
    "#hide-cell\n",
    "a = 1\n",
    "print(a) # or simply a\n",
    "````\n",
    "would _not_ be removed."
   ]
  },
  {
   "cell_type": "markdown",
   "id": "plain-green",
   "metadata": {},
   "source": [
    "### Clear Output - Remove cell's output but keep cell's content"
   ]
  },
  {
   "cell_type": "markdown",
   "id": "upper-partition",
   "metadata": {},
   "source": [
    "The standard preprocessors aren't really useful for what I want to do. [`RegexRemovePreprocessors`](https://github.com/jupyter/nbconvert/blob/master/nbconvert/preprocessors/regexremove.py) only remove cells if they have no output in addition to matching the pattern(s) specified. The [`ClearOuputPreprocessor`](https://github.com/jupyter/nbconvert/blob/master/nbconvert/preprocessors/clearoutput.py) removes all outputs from a notebook. Hence I am just going to write a custom preprocessor that is able to hide either a cell's source, a cell's output or the whole cell based on pattern matching performed on a cell's source. After some investigation I realised that best way to achieve this was using [cell tags](https://stackoverflow.com/a/48084050/12821043), though I do not like Jupyter's current tag environment. I do not like them because you have to use the GUI entirely to add tags to a cell, navigating to the the top sidebar, then the **View** section and then the **Cell Toolbar** sub-section and finally click on **Tags** to enable this extra chunky section added to all your cells, even those you may not want to add tag onto. *Hence* I've gone for an implementation that allows for both the use of tags and the of use of text/regex based tagging in the custom preprocessor `HidePreprocessor` written below."
   ]
  },
  {
   "cell_type": "code",
   "execution_count": null,
   "id": "outstanding-oxygen",
   "metadata": {},
   "outputs": [],
   "source": [
    "#export \n",
    "from nbconvert.preprocessors import Preprocessor, TagRemovePreprocessor\n",
    "from traitlets import List, Unicode, Set\n",
    "import re\n",
    "\n",
    "class HidePreprocessor(Preprocessor):\n",
    "    \"\"\"\n",
    "    Preprocessor that hides cell's body and only keeps the output based on regex matching\n",
    "    \n",
    "    Regex matching is based on the [RegexRemovePreprocessor source]\n",
    "    (https://github.com/jupyter/nbconvert/blob/master/nbconvert/preprocessors/regexremove.py)\n",
    "\n",
    "    \"\"\"\n",
    "    \n",
    "    mode = Unicode().tag(config = True) # , 'output', 'all'\n",
    "    patterns = List(Unicode(), default_value=[]).tag(config=True)\n",
    "    remove_metadata_fields = Set(\n",
    "        {'collapsed', 'scrolled'}\n",
    "    ).tag(config=True)\n",
    "\n",
    "    def check_conditions(self, cell):\n",
    "        \"\"\"\n",
    "        Checks that a cell matches the pattern.\n",
    "        Returns: Boolean.\n",
    "        True means cell should *not* be removed.\n",
    "        \"\"\"\n",
    "\n",
    "        # Compile all the patterns into one: each pattern is first wrapped\n",
    "        # by a non-capturing group to ensure the correct order of precedence\n",
    "        # and the patterns are joined with a logical or\n",
    "        pattern = re.compile('|'.join('(?:%s)' % pattern\n",
    "                             for pattern in self.patterns))\n",
    "\n",
    "        # Filter out cells that meet the pattern and have no outputs\n",
    "        return pattern.match(cell.source)     \n",
    "    \n",
    "    def preprocess_cell(self, cell, resources, cell_index):\n",
    "        \"\"\"\n",
    "        Preprocessing to apply to each cell.\n",
    "        \"\"\"\n",
    "        # Skip preprocessing if the list of patterns is empty\n",
    "        if not self.patterns:\n",
    "            return cell, resources\n",
    "        \n",
    "        if self.mode == 'source': \n",
    "            cell, resources = self.hide_source(cell, resources)\n",
    "        elif self.mode == 'output': \n",
    "            cell, resources = self.hide_output(cell, resources)\n",
    "        elif self.mode == 'cell' or self.mode == 'all':\n",
    "            cell, resources = self.hide_cell(cell, resources)\n",
    "        \n",
    "        return cell, resources\n",
    "    \n",
    "    def hide_source(self, cell, resources):\n",
    "        \n",
    "        if self.check_conditions(cell):\n",
    "            cell.metadata.tags = ['hide-source']\n",
    "            \n",
    "        return cell, resources\n",
    "        \n",
    "    def hide_output(self, cell, resources):\n",
    "        \n",
    "        if cell.cell_type == 'code' and self.check_conditions(cell):\n",
    "            cell.metadata.tags = ['hide-output']\n",
    "                    \n",
    "        return cell, resources\n",
    "    \n",
    "    def hide_cell(self, cell, resources):\n",
    "        \n",
    "        if self.check_conditions(cell):\n",
    "            cell.metadata.tags = ['hide-cell']\n",
    "            \n",
    "        return cell, resources\n",
    "    "
   ]
  },
  {
   "cell_type": "markdown",
   "id": "unavailable-drunk",
   "metadata": {},
   "source": [
    "`nbconvert` uses [`traitlets`](https://github.com/ipython/traitlets) where I would normally expect an `__init__()` method. Luckily it is quite intuitive to work with traitlets but I do not grasp the pros and cons of using it."
   ]
  },
  {
   "cell_type": "code",
   "execution_count": null,
   "id": "caroline-animation",
   "metadata": {},
   "outputs": [
    {
     "data": {
      "text/plain": [
       "<nbconvert.preprocessors.tagremove.TagRemovePreprocessor at 0x7fca56168520>"
      ]
     },
     "execution_count": null,
     "metadata": {},
     "output_type": "execute_result"
    }
   ],
   "source": [
    "m = MarkdownExporter()\n",
    "m.register_preprocessor(HidePreprocessor(mode = 'source', patterns = ['^#\\s*hide-source']), enabled = True)\n",
    "m.register_preprocessor(HidePreprocessor(mode = 'output', patterns = ['^#\\s*hide-output']), enabled = True)\n",
    "m.register_preprocessor(HidePreprocessor(mode = 'cell', patterns = ['^#\\s*hide-cell']), enabled = True)\n",
    "m.register_preprocessor(\n",
    "    TagRemovePreprocessor(\n",
    "        remove_input_tags = ('hide-source',),\n",
    "        remove_all_outputs_tags = ('hide-output',),\n",
    "        remove_cell_tags = ('hide-cell',),\n",
    "        enabled = True)\n",
    ")"
   ]
  },
  {
   "cell_type": "markdown",
   "id": "unavailable-diary",
   "metadata": {},
   "source": [
    "The file `test-hiding.ipynb` contains 4 cells printing the string 'My name is Jack'. The first one has no tags added. The second one has the `#hide-source` tag which results in only the output string being present in the Markdown document. The third cell has the `#hide-output` tag added to it which results in only the cell source (\"the code\") being present in the Markdown document. The last cell has the `#hide-cell` tag which removes the whole cell (source and output) altogether."
   ]
  },
  {
   "cell_type": "code",
   "execution_count": null,
   "id": "complimentary-morris",
   "metadata": {},
   "outputs": [
    {
     "name": "stdout",
     "output_type": "stream",
     "text": [
      "\n",
      "## Hiding cells              \n",
      "\n",
      "\n",
      "```python\n",
      "print('My name is Jack')\n",
      "```\n",
      "\n",
      "    My name is Jack\n",
      "\n",
      "\n",
      "Same as above but hiding source (aka input), output and all (aka whole cell)\n",
      "\n",
      "### The source of the next cell is hidden\n",
      "\n",
      "    My name is Jack\n",
      "\n",
      "\n",
      "### The output of the next cell is hidden\n",
      "\n",
      "\n",
      "```python\n",
      "#hide-output\n",
      "print('My name is Jack')\n",
      "```\n",
      "\n",
      "### The entire next cell is hidden\n",
      "\n"
     ]
    }
   ],
   "source": [
    "b, r = m.from_filename('../tests/test-hiding.ipynb')\n",
    "print(b)"
   ]
  },
  {
   "cell_type": "markdown",
   "id": "guided-wound",
   "metadata": {},
   "source": [
    "**Above** has been the exploration of how to implement hiding cells sources, cells outputs and entire cells based on text based tags. These will be added in the main `nb2md()` function at the end of this module"
   ]
  },
  {
   "cell_type": "markdown",
   "id": "french-tattoo",
   "metadata": {},
   "source": [
    "### Gister tags"
   ]
  },
  {
   "cell_type": "markdown",
   "id": "fourth-medline",
   "metadata": {},
   "source": [
    "I like syntax highlighting in Medium articles and this is only available (to my knowledge) via GitHub Gists. We will be making our own [preprocessor](https://nbconvert.readthedocs.io/en/latest/nbconvert_library.html#Using-different-preprocessors) to uploads the source code of cells that start with the special tag `# gist`. Creating a POST request to submit a Github Gist is easy enough, here we have simply translated the [GitHub API](https://docs.github.com/en/rest/reference/gists#create-a-gist) to a python request"
   ]
  },
  {
   "cell_type": "markdown",
   "id": "multiple-museum",
   "metadata": {},
   "source": [
    "The only thing needed to submit GET/POST request via the GitHub API is a github token. In the same way than with the Medium tokens we can have the environment variable declared in our `~/.bashrc` or `~/.zshrc` files. The documentation to create a token can be found [in this page](https://docs.github.com/en/github/authenticating-to-github/creating-a-personal-access-token)"
   ]
  },
  {
   "cell_type": "code",
   "execution_count": null,
   "id": "attempted-glass",
   "metadata": {},
   "outputs": [],
   "source": [
    "#export\n",
    "import os\n",
    "def check_gh_auth():\n",
    "    if not os.getenv('GITHUB_TOKEN'):\n",
    "        raise Exception('Please declare your GITHUB_TOKEN as an environment variable, \\\n",
    "        read more here: https://docs.github.com/en/github/authenticating-to-github/creating-a-personal-access-token')\n",
    "    else:\n",
    "        return True"
   ]
  },
  {
   "cell_type": "code",
   "execution_count": null,
   "id": "postal-kansas",
   "metadata": {},
   "outputs": [],
   "source": [
    "#export\n",
    "from requests import post\n",
    "import json\n",
    "\n",
    "def upload_gist(description, gistcontent, gistname = None, public = False):\n",
    "    \"\"\"\n",
    "    description: Description of gist, i.e. some metatext explaining what the gist is about\n",
    "    gistname: name displayed for the gist, this impacts how the file is rendered based\n",
    "    on the extension (e.g. script.py, README.md, script.R, query.sql...)\n",
    "    gistcontent: this maybe the name of a file or just a a string describing a program\n",
    "    public: whether the gist should be public or private \n",
    "    \"\"\"\n",
    "    if os.path.isfile(gistcontent):\n",
    "        gistname = gistcontent if gistname is None else gistname\n",
    "        gistcontent =  open(gistcontent, 'r').read()\n",
    "        \n",
    "    post_req = post(\"https://api.github.com/gists\",\n",
    "                data = json.dumps({\n",
    "                    'description': description, \n",
    "                    'files': {gistname: {'content': gistcontent}},\n",
    "                    'public': False\n",
    "                }),\n",
    "                headers = {\n",
    "                    'Authorization': f\"token {os.getenv('GITHUB_TOKEN')}\",\n",
    "                    \"Accept\": \"application/vnd.github.v3+json\"\n",
    "                }\n",
    "        ).json() # to return dict response\n",
    "    return post_req['id'], post_req['html_url']"
   ]
  },
  {
   "cell_type": "code",
   "execution_count": null,
   "id": "recent-colleague",
   "metadata": {},
   "outputs": [
    {
     "data": {
      "text/plain": [
       "('3d8ca9a4dfc644d990bcc8d65cceb37d',\n",
       " 'https://gist.github.com/3d8ca9a4dfc644d990bcc8d65cceb37d')"
      ]
     },
     "execution_count": null,
     "metadata": {},
     "output_type": "execute_result"
    }
   ],
   "source": [
    "upload_gist('ghapitest', gistcontent = 'CONTRIBUTING.md')"
   ]
  },
  {
   "cell_type": "markdown",
   "id": "undefined-jaguar",
   "metadata": {},
   "source": [
    "I wish to have a gister that acts like a magic function but without being a magic function, instead it's just a set of instruction that are sent to the parser like so:\n",
    "```python\n",
    "# gist description: My python program gistname: script.py public: false\n",
    "a = 1\n",
    "b = 2\n",
    "c = a*b\n",
    "```\n",
    "where the `public` flag is optional and default to `False`"
   ]
  },
  {
   "cell_type": "code",
   "execution_count": null,
   "id": "nutritional-acrylic",
   "metadata": {},
   "outputs": [],
   "source": [
    "#export\n",
    "class GisterPreprocessor(Preprocessor):\n",
    "    \"\"\"\n",
    "    Preprocessor that detects the presence of the #gist tag in a Jupyter Notebook cell,\n",
    "    uploads the code in that cell as a GitHub gist for the authenticated user and replaces the original cell\n",
    "    for a link to the gist in the resulting markdown file\n",
    "    \"\"\"\n",
    "    \n",
    "    patterns = List(Unicode(), default_value=[]).tag(config=True)\n",
    "\n",
    "    def check_conditions(self, cell):\n",
    "        \"\"\"\n",
    "        Checks that a cell matches the pattern.\n",
    "        Returns: Boolean.\n",
    "        True means cell should *not* be removed.\n",
    "        \"\"\"\n",
    "\n",
    "        # Compile all the patterns into one: each pattern is first wrapped\n",
    "        # by a non-capturing group to ensure the correct order of precedence\n",
    "        # and the patterns are joined with a logical or\n",
    "        pattern = re.compile('|'.join('(?:%s)' % pattern\n",
    "                             for pattern in self.patterns))\n",
    "\n",
    "        # Filter out cells that meet the pattern and have no outputs\n",
    "        return pattern.match(cell.source.split('\\n')[0]) # only matches in first line of cell     \n",
    "    \n",
    "    def get_params(self,cell, **kwargs):\n",
    "        keywords = ['description', 'gistname', 'public']\n",
    "        params_string = re.search(r\"#\\s*gist\\s*(.*)\", cell.source.split('\\n')[0])\n",
    "        if params_string is None:\n",
    "            raise Exception('Cell was labelled with a #gist tag but no parameters were passed')\n",
    "        else:\n",
    "            params_string = params_string.group(1)\n",
    "        \n",
    "        for keyword in keywords: \n",
    "            params_string = params_string.replace(keyword, f'\\n{keyword}')\n",
    "            \n",
    "        params_string = params_string.split('\\n')[1:]\n",
    "        params_dict = {}\n",
    "        for param in params_string:\n",
    "            param = param.split(':')\n",
    "            params_dict[param[0]] = param[1].strip()\n",
    "\n",
    "        return params_dict    \n",
    "    \n",
    "    def preprocess_cell(self, cell, resources, cell_index):\n",
    "        \"\"\"\n",
    "        Preprocessing to apply to each cell.\n",
    "        \"\"\"\n",
    "        # Skip preprocessing if the list of patterns is empty\n",
    "        if not self.patterns:\n",
    "            return cell, resources\n",
    "        \n",
    "        # gist handling\n",
    "        if self.check_conditions(cell):\n",
    "            params = self.get_params(cell)\n",
    "            gist_id, gist_url = upload_gist(gistcontent = '\\n'.join(cell.source.split('\\n')[1:]), **params)\n",
    "            cell.source = f\"[{gist_url}]({gist_url})\"\n",
    "            cell.cell_type = 'markdown'\n",
    "            \n",
    "        return cell, resources\n",
    "        "
   ]
  },
  {
   "cell_type": "markdown",
   "id": "automated-juice",
   "metadata": {},
   "source": [
    "__Note:__ The output of the *gisted* cell will be removed as the code cell is turned into a markdown cell"
   ]
  },
  {
   "cell_type": "code",
   "execution_count": null,
   "id": "welsh-trader",
   "metadata": {},
   "outputs": [
    {
     "data": {
      "text/plain": [
       "<__main__.GisterPreprocessor at 0x7fca55ebc880>"
      ]
     },
     "execution_count": null,
     "metadata": {},
     "output_type": "execute_result"
    }
   ],
   "source": [
    "m.register_preprocessor(GisterPreprocessor(patterns = ['^#\\s*gist']), enabled = True)\n"
   ]
  },
  {
   "cell_type": "code",
   "execution_count": null,
   "id": "systematic-principal",
   "metadata": {},
   "outputs": [
    {
     "name": "stdout",
     "output_type": "stream",
     "text": [
      "\n",
      "## Uploading cells as gists            \n",
      "\n",
      "[https://gist.github.com/a90e764d5ed31da1de5ba5cdfe8c982f](https://gist.github.com/a90e764d5ed31da1de5ba5cdfe8c982f)\n",
      "\n",
      "### same code no gist\n",
      "\n",
      "\n",
      "```python\n",
      "a = 1\n",
      "b = 2\n",
      "c = a*b**b\n",
      "c\n",
      "```\n",
      "\n",
      "\n",
      "\n",
      "\n",
      "    4\n",
      "\n",
      "\n",
      "\n"
     ]
    }
   ],
   "source": [
    "b, r = m.from_filename('../tests/test-gister.ipynb')\n",
    "print(b)"
   ]
  },
  {
   "cell_type": "code",
   "execution_count": null,
   "id": "voluntary-tongue",
   "metadata": {},
   "outputs": [
    {
     "data": {
      "text/plain": [
       "'../tests/test-gister.md'"
      ]
     },
     "execution_count": null,
     "metadata": {},
     "output_type": "execute_result"
    }
   ],
   "source": [
    "WriteMarkdown(b,r, filename = 'test-gister')"
   ]
  },
  {
   "cell_type": "code",
   "execution_count": null,
   "id": "cubic-newcastle",
   "metadata": {},
   "outputs": [
    {
     "data": {
      "text/plain": [
       "'../tests/test-notebook.md'"
      ]
     },
     "execution_count": null,
     "metadata": {},
     "output_type": "execute_result"
    }
   ],
   "source": [
    "#hide\n",
    "b, r = m.from_filename('../tests/test-notebook.ipynb')\n",
    "WriteMarkdown(b, r, filename = 'test-notebook')"
   ]
  },
  {
   "cell_type": "code",
   "execution_count": null,
   "id": "primary-administration",
   "metadata": {},
   "outputs": [],
   "source": [
    "# hide\n",
    "!rm -rf ../tests/test-gister.md ../tests/test-notebook.md"
   ]
  },
  {
   "cell_type": "markdown",
   "id": "unique-symphony",
   "metadata": {},
   "source": [
    "### Image preprocessor"
   ]
  },
  {
   "cell_type": "markdown",
   "id": "powerful-academy",
   "metadata": {},
   "source": [
    "As we have noticed before when we use an `nbconvert`'s exporter on a Jupyter notebook it extracts the images from that notebook (e.g. plots) and stores them locally. We now need to take those images, upload them to Medium and replace the image with the image URL. It is very similar to what we have done with code cells.m"
   ]
  },
  {
   "cell_type": "markdown",
   "id": "certain-telephone",
   "metadata": {},
   "source": [
    "Notice in the cell below how the cells that containg an image have an entry such at `cell['outputs']...['data']['image/png'`]. We can detect the presence of such file and upload the image to Medium via the python Medium API we have written"
   ]
  },
  {
   "cell_type": "code",
   "execution_count": null,
   "id": "occasional-portrait",
   "metadata": {},
   "outputs": [
    {
     "name": "stdout",
     "output_type": "stream",
     "text": [
      "dict_keys(['data', 'execution_count', 'metadata', 'output_type']) \n",
      " dict_keys(['text/plain']) \n",
      " dict_keys(['data', 'metadata', 'output_type']) \n",
      " dict_keys(['image/png', 'text/plain'])\n"
     ]
    }
   ],
   "source": [
    "demonb = json.load(open('../tests/test-notebook.ipynb'))\n",
    "print(\n",
    "    demonb['cells'][4]['outputs'][0].keys(), '\\n',\n",
    "    demonb['cells'][4]['outputs'][0]['data'].keys(), '\\n',\n",
    "    demonb['cells'][4]['outputs'][1].keys(), '\\n',\n",
    "    demonb['cells'][4]['outputs'][1]['data'].keys()\n",
    ")"
   ]
  },
  {
   "cell_type": "code",
   "execution_count": null,
   "id": "verbal-suffering",
   "metadata": {},
   "outputs": [
    {
     "data": {
      "text/plain": [
       "{'data': {'image/png': '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\\n',\n",
       "  'text/plain': ['<Figure size 432x288 with 1 Axes>']},\n",
       " 'metadata': {'needs_background': 'light'},\n",
       " 'output_type': 'display_data'}"
      ]
     },
     "execution_count": null,
     "metadata": {},
     "output_type": "execute_result"
    }
   ],
   "source": [
    "demonb['cells'][4]['outputs'][1]"
   ]
  },
  {
   "cell_type": "markdown",
   "id": "liked-earth",
   "metadata": {},
   "source": [
    "I am going to make a bold assumption. I am going to assume that if in a given cell the user outputs an image, the user doesn't want anything else to be outputted (e.g. text, or values). "
   ]
  },
  {
   "cell_type": "markdown",
   "id": "interstate-hindu",
   "metadata": {},
   "source": [
    "The representation of images in raw Jupyter Notebooks is not actually that of a valid image file, the image is represents with ASCII characters. We need to use `binascii.a2b_base64` to turns the ASCII characters into binary ones which results in a valid image, which can then upload to medium. I figured this out by exploring how they extract images in `nbconvert`'s [`ExtractOutputPreprocessor`](https://github.com/jupyter/nbconvert/blob/42cfece9ed07232c3c440ad0768b6a76f667fe47/nbconvert/preprocessors/extractoutput.py)"
   ]
  },
  {
   "cell_type": "code",
   "execution_count": null,
   "id": "becoming-barcelona",
   "metadata": {},
   "outputs": [],
   "source": [
    "#export\n",
    "from nb2medium.API import post_image\n",
    "from binascii import a2b_base64\n",
    "\n",
    "class ImagePreprocessor(Preprocessor):\n",
    "    \"\"\"\n",
    "    Preprocessor that detects the presence of the image in a Jupyter Notebook cell's output,\n",
    "    uploads the image to Medium \n",
    "    \"\"\"\n",
    "    \n",
    "    def preprocess_cell(self, cell, resources, cell_index):\n",
    "        \"\"\"\n",
    "        Preprocessing to apply to each cell.\n",
    "        Images can either be in a cell's output as a result of a plot being generated in the code (Scenario 1)\n",
    "        Or they can be passed from a local file or the internet in a Markdown cell's source (Scenario 2)\n",
    "        \"\"\"\n",
    "        cell, resources = self.upload_image_from_cell_output(cell, resources)\n",
    "        cell, resources = self.upload_local_image_from_md(cell, resources)\n",
    "        return cell, resources\n",
    "        \n",
    "    def upload_local_image_from_md(self, cell, resources):\n",
    "        # Scenario 2\n",
    "        # extract name and path of notebook being processed\n",
    "        name = resources['metadata']['name']\n",
    "        path = resources['metadata']['path']\n",
    "        \n",
    "        # regex matches the way of insert images in Markdown (e.g `![](somestring)`)\n",
    "        if cell.cell_type == 'markdown' and re.match('!\\[\\]\\(.*\\)', cell.source):\n",
    "            # figure out if path is local or online, if local upload\n",
    "            # we use a capture group in the regex to directly extract the content \n",
    "            # the image tag\n",
    "            imgs = re.findall('!\\[\\]\\((.*)\\)', cell.source)\n",
    "            for img in imgs:\n",
    "                img_path = os.path.join(path, img)\n",
    "                if os.path.isfile(img_path): # local file\n",
    "                    upload = post_image(filename = img_path).json()\n",
    "                    url = upload['data']['url']\n",
    "                    cell.source = re.sub(pattern = img,\n",
    "                                         repl = url,\n",
    "                                         string = cell.source)\n",
    "        return cell, resources\n",
    "        \n",
    "    def upload_image_from_cell_output(self, cell, resources):\n",
    "        # Scenario 1\n",
    "        if 'outputs' in cell.keys():\n",
    "            # Iterate thorugh each output of the cell, if at least 1 image is found \n",
    "            # clear all other content; for each img upload and replace with url\n",
    "            # change cell to markdown (output removed in this operation)\n",
    "            img_counter = 0\n",
    "            for output in cell.outputs:\n",
    "                # matplotlib images seem to be already in an ASCII PNG format\n",
    "                # hence we are going with that\n",
    "                if 'image/png' in output.data.keys():\n",
    "                    img_counter += 1\n",
    "                    img_bin = a2b_base64(output.data['image/png'])\n",
    "                    img = post_image(img = img_bin).json()\n",
    "                    url = img['data']['url']\n",
    "                    cell.source = f\"![]({url})\\n\" if img_counter == 1 else '\\n'.join([cell.source, f\"![]({url})\\n\"])\n",
    "                \n",
    "            if img_counter > 0: cell.cell_type = 'markdown'\n",
    "                \n",
    "\n",
    "        return cell, resources\n",
    "        "
   ]
  },
  {
   "cell_type": "code",
   "execution_count": null,
   "id": "mexican-blade",
   "metadata": {},
   "outputs": [
    {
     "data": {
      "text/plain": [
       "<__main__.ImagePreprocessor at 0x7fca5483fa30>"
      ]
     },
     "execution_count": null,
     "metadata": {},
     "output_type": "execute_result"
    }
   ],
   "source": [
    "m = MarkdownExporter()\n",
    "m.register_preprocessor(ImagePreprocessor(), enabled = True)"
   ]
  },
  {
   "cell_type": "code",
   "execution_count": null,
   "id": "ecological-powell",
   "metadata": {},
   "outputs": [],
   "source": [
    "b, r = m.from_filename('../tests/test-notebook.ipynb')"
   ]
  },
  {
   "cell_type": "code",
   "execution_count": null,
   "id": "requested-queue",
   "metadata": {},
   "outputs": [
    {
     "data": {
      "text/plain": [
       "'../tests/test-notebook.md'"
      ]
     },
     "execution_count": null,
     "metadata": {},
     "output_type": "execute_result"
    }
   ],
   "source": [
    "WriteMarkdown(b,r, filename='test-notebook')"
   ]
  },
  {
   "cell_type": "code",
   "execution_count": null,
   "id": "speaking-encoding",
   "metadata": {},
   "outputs": [],
   "source": [
    "#hide\n",
    "#clean up\n",
    "!rm -rf ../tests/output*png"
   ]
  },
  {
   "cell_type": "markdown",
   "id": "involved-clark",
   "metadata": {},
   "source": [
    "## Wrapping it all together"
   ]
  },
  {
   "cell_type": "markdown",
   "id": "charged-undergraduate",
   "metadata": {},
   "source": [
    "Given all the work we have done making the final function that wraps eveything together is easy! We combine all the tools we have built in this module in the `uploader` module"
   ]
  }
 ],
 "metadata": {
  "kernelspec": {
   "display_name": "Python 3",
   "language": "python",
   "name": "python3"
  }
 },
 "nbformat": 4,
 "nbformat_minor": 5
}
