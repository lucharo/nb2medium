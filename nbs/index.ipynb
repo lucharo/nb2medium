{
 "cells": [
  {
   "cell_type": "code",
   "execution_count": null,
   "metadata": {},
   "outputs": [],
   "source": [
    "#hide\n",
    "from nb2medium import *"
   ]
  },
  {
   "cell_type": "markdown",
   "metadata": {},
   "source": [
    "[![Testing](https://github.com/lucharo/nb2medium/actions/workflows/main.yml/badge.svg)](https://github.com/lucharo/nb2medium/actions/workflows/main.yml)"
   ]
  },
  {
   "cell_type": "markdown",
   "metadata": {},
   "source": [
    "# nb2medium\n",
    "\n",
    "> Python package and Jupyter extension that enables submitting Medium drafts elegantly from a Jupyter Notebook"
   ]
  },
  {
   "cell_type": "markdown",
   "metadata": {},
   "source": [
    "**nb2medium main assets are:** \n",
    "\n",
    "> * Written using `nbdev` and therefore easy to maintain \n",
    "> * Simple pythonic implementation of Medium API\n",
    "> * Makes use of `nbconvert` and custom preprocessors to turn notebooks to Markdown documents\n",
    "> * Supports uploading blocks as GitHub gists with simple in-cell tags\n",
    "> * Supports hiding of cells sources, cells outputs or cells\n",
    "> * Comes with Jupyter extension and CLI for ease-of-use"
   ]
  },
  {
   "cell_type": "markdown",
   "metadata": {},
   "source": [
    "nb2medium represents a simple yet sufficient framework to upload Jupyter notebook to Medium. Its main strenghts are that it makes use of great existing tools such as `nbconvert` or the `requests` package for its main functionality. Moreover the package is developed using `nbdev` from Jeremy Howard and the fastai team, which is claimed to accelerate development an debugging time."
   ]
  },
  {
   "cell_type": "markdown",
   "metadata": {},
   "source": [
    "![dialog](https://user-images.githubusercontent.com/47890755/110972057-7b5abb00-8353-11eb-8ddb-21e09dd78ccf.png)"
   ]
  },
  {
   "cell_type": "markdown",
   "metadata": {},
   "source": [
    "## Install"
   ]
  },
  {
   "cell_type": "markdown",
   "metadata": {},
   "source": [
    "`pip install nb2medium`"
   ]
  },
  {
   "cell_type": "markdown",
   "metadata": {},
   "source": [
    "Then enable the notebook extension by running:\n",
    "```bash\n",
    "jupyter notebook install nb2medium --py\n",
    "jupyter notebook enable nb2medium --py\n",
    "```\n",
    "Add `--user` to these commands if you want to activate the extension only for the current user.\\\n",
    "Add `--sys-prefix` to these commands if you want to activate the extension only in current virtual environment."
   ]
  },
  {
   "cell_type": "markdown",
   "metadata": {},
   "source": [
    "## Setup"
   ]
  },
  {
   "cell_type": "markdown",
   "metadata": {},
   "source": [
    "You will need a Medium Integration token to be able to upload your articles to Medium. If you wish to upload some code blocks as gists, you will need a GitHub token too.\n",
    "Both token should be available as environment variables, hence we recommend you add these 2 lines to your shell configuration file (`~/.bashrc` or `~/.zshrc` are the most common ones):\n",
    "```bash\n",
    "export MEDIUM_TOKEN=<your-medium-token>\n",
    "export GITHUB_TOKEN=<your-github-token>\n",
    "```\n",
    "\n",
    "**Obtain an Medium Integration Token from [your Medium settings page](https://medium.com/me/settings)\\\n",
    "Obtain a GitHub token by following [GitHub's docs](https://docs.github.com/en/github/authenticating-to-github/creating-a-personal-access-token)**"
   ]
  },
  {
   "cell_type": "markdown",
   "metadata": {},
   "source": [
    "## How to use"
   ]
  },
  {
   "cell_type": "markdown",
   "metadata": {},
   "source": [
    "You may choose to use nb2medium as a command line tool, directly from python or using the Jupyter notebook extension button or menu. _Note:_ nb2medium uploads Jupyter notebooks as they are, the notebooks do not get executed before being rendered."
   ]
  },
  {
   "cell_type": "markdown",
   "metadata": {},
   "source": [
    "### From the Jupyter notebook"
   ]
  },
  {
   "cell_type": "markdown",
   "metadata": {},
   "source": [
    "You may choose to use the `nb2medium` under file or the button on the top toolbar"
   ]
  },
  {
   "cell_type": "markdown",
   "metadata": {},
   "source": [
    "![menu_and_button](https://user-images.githubusercontent.com/47890755/110972060-7c8be800-8353-11eb-92cd-51d1fb746faf.png)"
   ]
  },
  {
   "cell_type": "markdown",
   "metadata": {},
   "source": [
    "### From the CLI"
   ]
  },
  {
   "cell_type": "markdown",
   "metadata": {},
   "source": [
    "From the shell (bash, zsh, sh):\n",
    "```bash\n",
    "nb2medium \"My article\" path/to/notebook.ipynb\n",
    "```\n",
    "Use `nb2medium --help` to see all the different options"
   ]
  },
  {
   "cell_type": "markdown",
   "metadata": {},
   "source": [
    "### From python"
   ]
  },
  {
   "cell_type": "code",
   "execution_count": null,
   "metadata": {},
   "outputs": [
    {
     "name": "stderr",
     "output_type": "stream",
     "text": [
      "converter:INFO - Found a hide-source tag in cell #35.\n",
      "converter:INFO - Found a hide-output tag in cell #36.\n",
      "converter:INFO - Found a hide-cell tag in cell #37.\n",
      "converter:INFO - Gist notebooktest.py from cell 26 succesfully uploaded!\n",
      "converter:INFO - Gist print.py from cell 27 succesfully uploaded!\n",
      "converter:INFO - Gist pandas.py from cell 30 succesfully uploaded!\n",
      "converter:INFO - Gist pandas.py.csv from cell 30 succesfully uploaded!\n",
      "converter:INFO - Gist pandas-doubleupload.py from cell 33 succesfully uploaded!\n",
      "converter:INFO - Gist pandas-doubleupload.py.csv from cell 33 succesfully uploaded!\n",
      "converter:INFO - Detected 4 plots and 2 local images in notebook.\n",
      "converter:INFO - Markdown document written to ../samples/test-notebook/test-notebook.md\n",
      "uploader:INFO - Draft of 'My First Article' from test-notebook.ipynb notebook uploaded to Medium: https://medium.com/@lucha6/946f9176365b\n"
     ]
    }
   ],
   "source": [
    "from nb2medium.upload import nb2medium\n",
    "\n",
    "nb2medium(title = 'My First Article', notebook = '../samples/test-notebook.ipynb');"
   ]
  },
  {
   "cell_type": "markdown",
   "metadata": {},
   "source": [
    "### Images, code cells and tables"
   ]
  },
  {
   "cell_type": "markdown",
   "metadata": {},
   "source": [
    "#### Images"
   ]
  },
  {
   "cell_type": "markdown",
   "metadata": {},
   "source": [
    "Images usually come from a local file, online site or are the result of a plot. `nb2medium` can handle these 3 situations. If an image correspond to a local file in markdown cell (e.g. `![](path/to/image.png)`)\n",
    "\n",
    "The image is uploaded to the Medium end point and the path to the image is swapped for the newly generated image URL.\n",
    "If the image is the result of a plot, such as:\n",
    "```python\n",
    "import numpy as np\n",
    "import matplotlib.pyplot as plt\n",
    "x = np.arange(0, 10, 0.1)\n",
    "y = np.sin(x)\n",
    "plt.plot(x,y)\n",
    "```\n",
    "The result of the image is uploaded to the Medium endpoint (without being written to memory) and the corresponding plot is replaced by the plot's URL.\n",
    "\n",
    "If the image is already online, nothing changes to it, as Medium can access it directly from the internet when loading the article"
   ]
  },
  {
   "cell_type": "markdown",
   "metadata": {},
   "source": [
    "#### Code cells as GitHub gists"
   ]
  },
  {
   "cell_type": "markdown",
   "metadata": {},
   "source": [
    "By default a code cell is rendered without syntax highlighting or anything fancy like:\n",
    "```\n",
    "import pandas as pd\n",
    "pd.DataFrame({'a': [1,2,3], 'b': [2,4,6]})\n",
    "```\n",
    "Though if a GitHub token is available and the user includes the following header in a cell:\n",
    "```python\n",
    "# %gist gistname: pandas.py\n",
    "import pandas as pd\n",
    "pd.DataFrame({'a': [1,2,3], 'b': [2,4,6]})\n",
    "```\n",
    "The code block will be uploaded to the user's GitHub as a private gist (by default - can be changed to be made public) and the respective code cell will be replaced by the gist URL. The user can also use the `description:` and the `public:` flags in the `#gist` header."
   ]
  },
  {
   "cell_type": "markdown",
   "metadata": {},
   "source": [
    "The `#%gist` takes the following arguments:\n",
    "\n",
    "* gistname: name of script with file extension (critical for correct syntax highlighting, e.g script.py)\n",
    "* description: [optional] string (no quotes are necessary) describing the gist\n",
    "* public: [optional - default False] whether gist should be public or not\n",
    "* output: [optional - default source] whether cell's source, output or both should be uploaded as gists (e.g. `upload: both`, `upload: source`)"
   ]
  },
  {
   "cell_type": "markdown",
   "metadata": {},
   "source": [
    "#### Hiding cells"
   ]
  },
  {
   "cell_type": "markdown",
   "metadata": {},
   "source": [
    "It is often convenient to hide either a cell's source (i.e. the code), a cell's output (the result of evaluating the code) or the whole cell altogether. To achieve this the user can place the following header at the start of the relevant cells.\n",
    "* To hide a cell's source:\n",
    "```python\n",
    "# %hide-source\n",
    "print(\"This code won't be shown, but it's output will\")\n",
    "```\n",
    "* To hide a cell's output:\n",
    "```python\n",
    "# %hide-output\n",
    "print(\"This code will be shown, but it's output won't\")\n",
    "```\n",
    "* To hide a cell completely (source and output):\n",
    "```python\n",
    "# %hide-cell\n",
    "print(\"This cell won't make it to the final document\")\n",
    "```"
   ]
  },
  {
   "cell_type": "markdown",
   "metadata": {},
   "source": [
    "_Note:_ all tags (`%hide-*` and `%gist`) were not designed with the idea to be combined so such usage has not been tested. In general there should be no need for such behaviour."
   ]
  },
  {
   "cell_type": "markdown",
   "metadata": {},
   "source": [
    "#### Tables"
   ]
  },
  {
   "cell_type": "markdown",
   "metadata": {},
   "source": [
    "Medium does not have good support for HTML nor Markdown tables. My preferred existing option for tables is `gist`. If a cell outputs a pandas dataframe and you choose the `#%gist` option with the value of the `upload:` flag set to `both` or `output`, `nd2medium` will detect your table and upload it as a CSV to your GitHub gist repo.\n",
    "```python\n",
    "#% gist gistname: pandas.py upload: both\n",
    "import pandas as pd\n",
    "pd.DataFrame({'a': [1,2,3], 'b': [0,0,0], 'c': ['One', 'Two', 'Three']})\n",
    "```"
   ]
  },
  {
   "cell_type": "markdown",
   "metadata": {},
   "source": [
    "## Documentation"
   ]
  },
  {
   "cell_type": "markdown",
   "metadata": {},
   "source": [
    "The docs are available at [https://lucharo.github.io/nb2medium](https://lucharo.github.io/nb2medium) and are rendered automatically from the `nbdev` notebooks so they are always up to date with the package source code"
   ]
  },
  {
   "cell_type": "markdown",
   "metadata": {},
   "source": [
    "## Contributing"
   ]
  },
  {
   "cell_type": "markdown",
   "metadata": {},
   "source": [
    "If you find a bug or think of an enhancement feel free to raise issues or submit pull requests. If you want to contribute to open source projects such as this one have a look at the issues with the label/tag `help needed` in particular."
   ]
  }
 ],
 "metadata": {
  "kernelspec": {
   "display_name": "Python 3",
   "language": "python",
   "name": "python3"
  }
 },
 "nbformat": 4,
 "nbformat_minor": 2
}
