{
 "cells": [
  {
   "cell_type": "code",
   "execution_count": null,
   "metadata": {},
   "outputs": [],
   "source": [
    "#hide\n",
    "from nb2medium import *"
   ]
  },
  {
   "cell_type": "markdown",
   "metadata": {},
   "source": [
    "[![Testing](https://github.com/lucharo/nb2medium/actions/workflows/main.yml/badge.svg)](https://github.com/lucharo/nb2medium/actions/workflows/main.yml)"
   ]
  },
  {
   "cell_type": "markdown",
   "metadata": {},
   "source": [
    "# nb2medium\n",
    "\n",
    "> Python package and Jupyter extension that enables submitting Medium drafts elegantly from a Jupyter Notebook\n",
    "nb2medium main assets are:\n",
    "> * Written using `nbdev` and therefore easy to maintain\n",
    "> * Simple pythonic implementation of Medium API\n",
    "> * Makes use of `nbconvert` and custom preprocessors to turn notebooks to Markdown documents\n",
    "> * Supports uploading blocks as GitHub gists"
   ]
  },
  {
   "cell_type": "markdown",
   "metadata": {},
   "source": [
    "nb2medium represents a simple yet sufficient framework to upload Jupyter notebook to Medium. Its main strenghts are that it makes use of great existing tools such as `nbconvert` or the `requests` package for its main functionality. Moreover the package is build using `nbdev` from Jeremy Howard and the fastai team, which is claimed to accelerate development time."
   ]
  },
  {
   "cell_type": "markdown",
   "metadata": {},
   "source": [
    "## Install"
   ]
  },
  {
   "cell_type": "markdown",
   "metadata": {},
   "source": [
    "`pip install nb2medium`"
   ]
  },
  {
   "cell_type": "markdown",
   "metadata": {},
   "source": [
    "## Setup"
   ]
  },
  {
   "cell_type": "markdown",
   "metadata": {},
   "source": [
    "You will need a Medium Integration token to be able to upload your articles to Medium. If you wish to upload some code blocks as gists, you will need a GitHub token too.\n",
    "Both token should be available as environment variables, hence we recommend you add these 2 lines to your shell configuration file (`~/.bashrc` or `~/.zshrc` are the most common ones):\n",
    "```bash\n",
    "export MEDIUM_TOKEN=<your-medium-token>\n",
    "export GITHUB_TOKEN=<your-github-token>\n",
    "```"
   ]
  },
  {
   "cell_type": "markdown",
   "metadata": {},
   "source": [
    "## How to use"
   ]
  },
  {
   "cell_type": "markdown",
   "metadata": {},
   "source": [
    "nb2medium uploads Jupyter notebooks as they are, the notebooks do not get executed before being rendered."
   ]
  },
  {
   "cell_type": "code",
   "execution_count": null,
   "metadata": {},
   "outputs": [
    {
     "name": "stderr",
     "output_type": "stream",
     "text": [
      "converter:DEBUG - GITHUB_TOKEN environment variable found.\n",
      "converter:INFO - Detected 4 plots and 2 local images in notebook.\n",
      "converter:INFO - Detected 4 plots and 2 local images in notebook.\n",
      "converter:INFO - Markdown document written to ../samples/test-notebook.md\n",
      "converter:INFO - Markdown document written to ../samples/test-notebook.md\n"
     ]
    }
   ],
   "source": [
    "from nb2medium.upload import nb2medium\n",
    "\n",
    "nb2medium(title = 'My First Article', notebook = '../samples/test-notebook.ipynb');"
   ]
  },
  {
   "cell_type": "markdown",
   "metadata": {},
   "source": [
    "### Images, code cells and tables"
   ]
  },
  {
   "cell_type": "markdown",
   "metadata": {},
   "source": [
    "#### Images"
   ]
  },
  {
   "cell_type": "markdown",
   "metadata": {},
   "source": [
    "Images usually come from a local file, online site or are the result of a plot. `nb2medium` can handle these 3 situations. If an image correspond to a local file in markdown cell (e.g. `![](path/to/image.png)`)\n",
    "\n",
    "The image is uploaded to the Medium end point and the path to the image is swapped for the newly generated image URL.\n",
    "If the image is the result of a plot, such as:\n",
    "```python\n",
    "import numpy as np\n",
    "import matplotlib.pyplot as plt\n",
    "x = np.arange(0, 10, 0.1)\n",
    "y = np.sin(x)\n",
    "plt.plot(x,y)\n",
    "```\n",
    "The result of the image is uploaded to the Medium endpoint (without being written to memory) and the corresponding plot is replaced by the plot's URL.\n",
    "\n",
    "If the image is already online, nothing changes to it,"
   ]
  },
  {
   "cell_type": "markdown",
   "metadata": {},
   "source": [
    "#### Code cells as GitHub gists"
   ]
  },
  {
   "cell_type": "markdown",
   "metadata": {},
   "source": [
    "By default a code cell is rendered without syntax highlighting or anything fancy like:\n",
    "```\n",
    "import pandas as pd\n",
    "pd.DataFrame({'a': [1,2,3], 'b': [2,4,6]})\n",
    "```\n",
    "Though if a GitHub token is available and the user includes the following header in a cell:\n",
    "```python\n",
    "# %gist gistname: pandas.py\n",
    "import pandas as pd\n",
    "pd.DataFrame({'a': [1,2,3], 'b': [2,4,6]})\n",
    "```\n",
    "The code block will be uploaded to the user's GitHub as a private gist (by default - can be changed to be made public) and the respective code cell will be replaced by the gist URL. The user can also use the `description:` and the `public:` flags in the `#gist` header, where `public:` maybe either True or False and description can just be a string (no single or double quotes required - just avoid using the keywords *gistname, public or description*)"
   ]
  },
  {
   "cell_type": "markdown",
   "metadata": {},
   "source": [
    "#### Hiding cells"
   ]
  },
  {
   "cell_type": "markdown",
   "metadata": {},
   "source": [
    "It is often convenient to hide either a cell's source (i.e. the code), a cell's output (the result of evaluating the code) or the whole cell altogether. To achieve this the user can place the following header at the start of the relevant cells.\n",
    "* To hide a cell's source:\n",
    "```python\n",
    "# %hide-source\n",
    "print(\"This code won't be shown, but it's output will\")\n",
    "```\n",
    "* To hide a cell's output:\n",
    "```python\n",
    "# %hide-output\n",
    "print(\"This code will be shown, but it's output won't\")\n",
    "```\n",
    "* To hide a cell completely (source and output):\n",
    "```python\n",
    "# %hide-cell\n",
    "print(\"This cell won't make it to the final document\")\n",
    "```"
   ]
  },
  {
   "cell_type": "markdown",
   "metadata": {},
   "source": [
    "_Note:_ all tags (`%hide-*` and `%gist`) were not designed with the idea to be combined so such usage has not been tested. In general there should be no need for such behaviour."
   ]
  },
  {
   "cell_type": "markdown",
   "metadata": {},
   "source": [
    "#### Tables"
   ]
  },
  {
   "cell_type": "markdown",
   "metadata": {},
   "source": [
    "Medium does not have good support for HTML nor Markdown tables. My preferred existing option for tables is `gist`. If a cell outputs a pandas dataframe and you choose the `#%gist` option with the value of the `upload:` flag set to `both` or `output`, `nd2medium` will detect your table and upload it as a CSV to your GitHub gist repo.\n",
    "```python\n",
    "#% gist gistname: pandas.py upload: both\n",
    "import pandas as pd\n",
    "pd.DataFrame({'a': [1,2,3], 'b': [0,0,0], 'c': ['One', 'Two', 'Three']})\n",
    "```"
   ]
  },
  {
   "cell_type": "code",
   "execution_count": null,
   "metadata": {},
   "outputs": [],
   "source": []
  }
 ],
 "metadata": {
  "kernelspec": {
   "display_name": "Python 3",
   "language": "python",
   "name": "python3"
  }
 },
 "nbformat": 4,
 "nbformat_minor": 2
}
