{
 "cells": [
  {
   "cell_type": "code",
   "execution_count": null,
   "id": "searching-training",
   "metadata": {},
   "outputs": [],
   "source": [
    "# default_exp upload"
   ]
  },
  {
   "cell_type": "markdown",
   "id": "minute-housing",
   "metadata": {},
   "source": [
    "# Uploader\n",
    "\n",
    "> We wrap all the functionality of the tools built in the `API` and the `converter` modules to upload the rendered markdown document to Medium"
   ]
  },
  {
   "cell_type": "code",
   "execution_count": null,
   "id": "knowing-idaho",
   "metadata": {},
   "outputs": [],
   "source": [
    "#hide\n",
    "from nbdev.showdoc import *"
   ]
  },
  {
   "cell_type": "code",
   "execution_count": null,
   "id": "continuous-contribution",
   "metadata": {},
   "outputs": [],
   "source": [
    "#export\n",
    "import os\n",
    "from nb2medium.mediumapi import post_article\n",
    "from nb2medium.convert import (\n",
    "    HidePreprocessor,\n",
    "    GisterPreprocessor, \n",
    "    ImagePreprocessor,\n",
    "    WriteMarkdown,\n",
    "    init_logger\n",
    ")\n",
    "from nbconvert.exporters import MarkdownExporter\n",
    "from nbconvert.preprocessors import TagRemovePreprocessor\n",
    "import logging\n",
    "\n",
    "def nb2medium(\n",
    "    title, \n",
    "    notebook,\n",
    "    log_level = 'info'\n",
    "):\n",
    "    \n",
    "    if isinstance(log_level, str): log_level = log_level.upper()\n",
    "    \n",
    "    # convert logger\n",
    "    init_logger('converter', log_level)\n",
    "    init_logger('uploader', log_level)\n",
    "    upload_logger = logging.getLogger('uploader')\n",
    "    if not os.getenv('MEDIUM_TOKEN'): \n",
    "        upload_logger.critical('MEDIUM_TOKEN not found, please make sure MEDIUM_TOKEN is defined')\n",
    "    else:\n",
    "        upload_logger.debug('Detected MEDIUM_TOKEN')\n",
    "    \n",
    "    # declare exporter\n",
    "    m = MarkdownExporter()\n",
    "    # Hide Preprocessors\n",
    "    m.register_preprocessor(HidePreprocessor(mode = 'source'), enabled = True)\n",
    "    m.register_preprocessor(HidePreprocessor(mode = 'output'), enabled = True)\n",
    "    m.register_preprocessor(HidePreprocessor(mode = 'cell'), enabled = True)\n",
    "    m.register_preprocessor(\n",
    "        TagRemovePreprocessor(\n",
    "            remove_input_tags = ('hide-source',),\n",
    "            remove_all_outputs_tags = ('hide-output',),\n",
    "            remove_cell_tags = ('hide-cell',),\n",
    "            enabled = True)\n",
    "    )\n",
    "    # Gister Preprocessors\n",
    "    m.register_preprocessor(GisterPreprocessor(), enabled = True)\n",
    "    #Image Preprocessors\n",
    "    m.register_preprocessor(ImagePreprocessor(), enabled = True)\n",
    "    \n",
    "    # process notebook\n",
    "    b,r = m.from_filename(notebook)\n",
    "    \n",
    "    # write notebook to Markdown\n",
    "    path, name = os.path.split(notebook)\n",
    "    basename, ext = os.path.splitext(name)\n",
    "    WriteMarkdown(b,r, filename = basename)\n",
    "    md_home = os.path.join(path, basename, f\"{basename}.md\")\n",
    "    \n",
    "    # upload markdown document as medium post\n",
    "    post_request = post_article(\n",
    "        title = title, \n",
    "        content = open(md_home).read()\n",
    "    )\n",
    "\n",
    "    upload_logger.info(f\"Draft of '{title}' from {os.path.basename(notebook)} notebook uploaded to Medium: {post_request.json()['data']['url']}\")\n",
    "    "
   ]
  },
  {
   "cell_type": "code",
   "execution_count": null,
   "id": "looking-wholesale",
   "metadata": {},
   "outputs": [
    {
     "name": "stderr",
     "output_type": "stream",
     "text": [
      "converter:INFO - Found a hide-source tag in cell #35.\n",
      "converter:INFO - Found a hide-output tag in cell #36.\n",
      "converter:INFO - Found a hide-cell tag in cell #37.\n",
      "converter:INFO - Gist notebooktest.py from cell 26 succesfully uploaded!\n",
      "converter:INFO - Gist print.py from cell 27 succesfully uploaded!\n",
      "converter:INFO - Gist pandas.py from cell 30 succesfully uploaded!\n",
      "converter:INFO - Gist pandas.py.csv from cell 30 succesfully uploaded!\n",
      "converter:INFO - Gist pandas-doubleupload.py from cell 33 succesfully uploaded!\n",
      "converter:INFO - Gist pandas-doubleupload.py.csv from cell 33 succesfully uploaded!\n",
      "converter:INFO - Gist pandas-nosource.py from cell 38 succesfully uploaded!\n",
      "converter:INFO - Gist pandas-nosource.py.csv from cell 38 succesfully uploaded!\n",
      "converter:INFO - Detected 4 plots and 2 local images in notebook.\n",
      "converter:INFO - Markdown document written to ../samples/test-notebook/test-notebook.md\n",
      "uploader:INFO - Draft of 'First test' from test-notebook.ipynb notebook uploaded to Medium: https://medium.com/@lucha6/26dd098ab4b3\n"
     ]
    }
   ],
   "source": [
    "first_article = nb2medium(title = 'First test', notebook = '../samples/test-notebook.ipynb')"
   ]
  },
  {
   "cell_type": "code",
   "execution_count": null,
   "id": "million-proposition",
   "metadata": {},
   "outputs": [
    {
     "name": "stdout",
     "output_type": "stream",
     "text": [
      "Converted 00_mediumapi.ipynb.\n",
      "Converted 01_convert.ipynb.\n",
      "Converted 02_upload.ipynb.\n",
      "Converted index.ipynb.\n"
     ]
    }
   ],
   "source": [
    "#hide\n",
    "from nbdev.export import *\n",
    "notebook2script()"
   ]
  }
 ],
 "metadata": {
  "kernelspec": {
   "display_name": "Python 3",
   "language": "python",
   "name": "python3"
  }
 },
 "nbformat": 4,
 "nbformat_minor": 5
}
