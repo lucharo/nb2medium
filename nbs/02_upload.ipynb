{
 "cells": [
  {
   "cell_type": "code",
   "execution_count": null,
   "id": "searching-training",
   "metadata": {},
   "outputs": [],
   "source": [
    "# default_exp upload"
   ]
  },
  {
   "cell_type": "markdown",
   "id": "minute-housing",
   "metadata": {},
   "source": [
    "# Upload\n",
    "\n",
    "> We wrap all the functionality of the tools built in the `mediumapi` and the `convert` modules to upload the rendered markdown document to Medium"
   ]
  },
  {
   "cell_type": "code",
   "execution_count": null,
   "id": "knowing-idaho",
   "metadata": {},
   "outputs": [],
   "source": [
    "#hide\n",
    "from nbdev.showdoc import *"
   ]
  },
  {
   "cell_type": "code",
   "execution_count": null,
   "id": "continuous-contribution",
   "metadata": {},
   "outputs": [],
   "source": [
    "#export\n",
    "import os\n",
    "from nb2medium.mediumapi import post_article\n",
    "from nb2medium.convert import (\n",
    "    HidePreprocessor,\n",
    "    GisterPreprocessor, \n",
    "    ImagePreprocessor,\n",
    "    WriteMarkdown,\n",
    "    init_logger\n",
    ")\n",
    "from nbconvert.exporters import MarkdownExporter\n",
    "from nbconvert.preprocessors import TagRemovePreprocessor\n",
    "import logging\n",
    "from fastcore.script import *\n",
    "\n",
    "@call_parse\n",
    "def nb2medium(\n",
    "    title:Param(\"The title of your article\"), \n",
    "    notebook:Param(\"Path to your notebook\"),\n",
    "    log_level:Param(\"The minimum reported logging level (debug, info, warning, error or critical)\") = 'info',\n",
    "    log_to_stdout:Param(\"Whether logging should be redirected to stdout (internal use)\", store_true) = False\n",
    "):\n",
    "    \n",
    "    if isinstance(log_level, str): log_level = log_level.upper()\n",
    "    \n",
    "    # convert logger\n",
    "    init_logger('converter', log_level, log_to_stdout = log_to_stdout)\n",
    "    init_logger('uploader', log_level, log_to_stdout = log_to_stdout)\n",
    "    upload_logger = logging.getLogger('uploader')\n",
    "    if not os.getenv('MEDIUM_TOKEN'): \n",
    "        upload_logger.critical('MEDIUM_TOKEN not found, please make sure MEDIUM_TOKEN is defined')\n",
    "    else:\n",
    "        upload_logger.debug('Detected MEDIUM_TOKEN')\n",
    "    \n",
    "    # declare exporter\n",
    "    m = MarkdownExporter()\n",
    "    # Hide Preprocessors\n",
    "    m.register_preprocessor(HidePreprocessor(mode = 'source'), enabled = True)\n",
    "    m.register_preprocessor(HidePreprocessor(mode = 'output'), enabled = True)\n",
    "    m.register_preprocessor(HidePreprocessor(mode = 'cell'), enabled = True)\n",
    "    m.register_preprocessor(\n",
    "        TagRemovePreprocessor(\n",
    "            remove_input_tags = ('hide-source',),\n",
    "            remove_all_outputs_tags = ('hide-output',),\n",
    "            remove_cell_tags = ('hide-cell',),\n",
    "            enabled = True)\n",
    "    )\n",
    "    # Gister Preprocessors\n",
    "    m.register_preprocessor(GisterPreprocessor(), enabled = True)\n",
    "    #Image Preprocessors\n",
    "    m.register_preprocessor(ImagePreprocessor(), enabled = True)\n",
    "    \n",
    "    # process notebook\n",
    "    b,r = m.from_filename(notebook)\n",
    "    \n",
    "    # write notebook to Markdown\n",
    "    path, name = os.path.split(notebook)\n",
    "    basename, ext = os.path.splitext(name)\n",
    "    WriteMarkdown(b,r, filename = basename)\n",
    "    md_home = os.path.join(path, basename, f\"{basename}.md\")\n",
    "    \n",
    "    # upload markdown document as medium post\n",
    "    post_request = post_article(\n",
    "        title = title, \n",
    "        content = open(md_home).read()\n",
    "    )\n",
    "\n",
    "    upload_logger.info(f\"Draft of '{title}' from {os.path.basename(notebook)} notebook uploaded to Medium: {post_request.json()['data']['url']}\")\n",
    "    "
   ]
  },
  {
   "cell_type": "code",
   "execution_count": null,
   "id": "looking-wholesale",
   "metadata": {},
   "outputs": [
    {
     "name": "stderr",
     "output_type": "stream",
     "text": [
      "converter:INFO - Found a hide-source tag in cell #35.\n",
      "converter:INFO - Found a hide-output tag in cell #36.\n",
      "converter:INFO - Found a hide-cell tag in cell #37.\n",
      "converter:INFO - Gist notebooktest.py from cell 26 succesfully uploaded!\n",
      "converter:INFO - Gist print.py from cell 27 succesfully uploaded!\n",
      "converter:INFO - Gist pandas.py from cell 30 succesfully uploaded!\n",
      "converter:INFO - Gist pandas.py.csv from cell 30 succesfully uploaded!\n",
      "converter:INFO - Gist pandas-doubleupload.py from cell 33 succesfully uploaded!\n",
      "converter:INFO - Gist pandas-doubleupload.py.csv from cell 33 succesfully uploaded!\n",
      "converter:INFO - Detected 4 plots and 2 local images in notebook.\n",
      "converter:INFO - Markdown document written to ../samples/test-notebook/test-notebook.md\n",
      "uploader:INFO - Draft of 'First test' from test-notebook.ipynb notebook uploaded to Medium: https://medium.com/@lucha6/5b2bc2673bd8\n"
     ]
    }
   ],
   "source": [
    "first_article = nb2medium(title = 'First test',\n",
    "                          notebook = '../samples/test-notebook.ipynb')"
   ]
  },
  {
   "cell_type": "markdown",
   "id": "synthetic-monroe",
   "metadata": {},
   "source": [
    "### CLI"
   ]
  },
  {
   "cell_type": "markdown",
   "id": "removed-pledge",
   "metadata": {},
   "source": [
    "nb2medium can both be used from python or as a CLI thanks to the amazing `@call_parse` decorator developed by fastcore. You can use `nb2medium` from the command line in the following way"
   ]
  },
  {
   "cell_type": "markdown",
   "id": "nonprofit-plumbing",
   "metadata": {},
   "source": [
    "#### To get the help "
   ]
  },
  {
   "cell_type": "code",
   "execution_count": null,
   "id": "constant-handy",
   "metadata": {},
   "outputs": [
    {
     "name": "stdout",
     "output_type": "stream",
     "text": [
      "usage: nb2medium [-h] [--log_level LOG_LEVEL] [--log_to_stdout] title notebook\r\n",
      "\r\n",
      "positional arguments:\r\n",
      "  title                  The title of your article\r\n",
      "  notebook               Path to your notebook\r\n",
      "\r\n",
      "optional arguments:\r\n",
      "  -h, --help             show this help message and exit\r\n",
      "  --log_level LOG_LEVEL  The minimum reported logging level (debug, info,\r\n",
      "                         warning, error or critical) (default: info)\r\n",
      "  --log_to_stdout        Whether logging should be redirected to stdout\r\n",
      "                         (internal use) (default: False)\r\n"
     ]
    }
   ],
   "source": [
    "!nb2medium --help"
   ]
  },
  {
   "cell_type": "markdown",
   "id": "subtle-samoa",
   "metadata": {},
   "source": [
    "#### Uploading article through the CLI"
   ]
  },
  {
   "cell_type": "markdown",
   "id": "partial-athens",
   "metadata": {},
   "source": [
    "Both the `title` and `notebook` arguments are positional and hence you need to pass them in order in addition to that if your `title` contains any spaces you will need to put it between double or single quotes."
   ]
  },
  {
   "cell_type": "code",
   "execution_count": null,
   "id": "different-belief",
   "metadata": {},
   "outputs": [
    {
     "name": "stderr",
     "output_type": "stream",
     "text": [
      "converter:INFO - Gist pandas.py from cell 0 succesfully uploaded!\n",
      "converter:INFO - Gist pandas.py.csv from cell 0 succesfully uploaded!\n",
      "converter:INFO - Detected 0 plots and 0 local images in notebook.\n",
      "converter:INFO - Markdown document written to ../samples/test-gist-output-df/test-gist-output-df.md\n",
      "uploader:INFO - Draft of 'My really cool article' from test-gist-output-df.ipynb notebook uploaded to Medium: https://medium.com/@lucha6/1aa29832faec\n"
     ]
    }
   ],
   "source": [
    "%%sh\n",
    "nb2medium \"My really cool article\" ../samples/test-gist-output-df.ipynb"
   ]
  },
  {
   "cell_type": "markdown",
   "id": "contemporary-concentration",
   "metadata": {},
   "source": [
    "_Note:_ I am using the `%%sh` and the shebang `!` magic to emulate what you would usually run from bash, zshell or your preferred shell"
   ]
  },
  {
   "cell_type": "code",
   "execution_count": null,
   "id": "million-proposition",
   "metadata": {},
   "outputs": [
    {
     "name": "stdout",
     "output_type": "stream",
     "text": [
      "Converted 00_mediumapi.ipynb.\n",
      "Converted 01_convert.ipynb.\n",
      "Converted 02_upload.ipynb.\n",
      "Converted 04_cli.ipynb.\n",
      "Converted index.ipynb.\n"
     ]
    }
   ],
   "source": [
    "#hide\n",
    "from nbdev.export import *\n",
    "notebook2script()"
   ]
  }
 ],
 "metadata": {
  "kernelspec": {
   "display_name": "Python 3",
   "language": "python",
   "name": "python3"
  }
 },
 "nbformat": 4,
 "nbformat_minor": 5
}
