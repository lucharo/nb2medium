{
 "cells": [
  {
   "cell_type": "code",
   "execution_count": null,
   "id": "searching-training",
   "metadata": {},
   "outputs": [],
   "source": [
    "# default_exp upload"
   ]
  },
  {
   "cell_type": "markdown",
   "id": "minute-housing",
   "metadata": {},
   "source": [
    "# Uploader\n",
    "\n",
    "> We wrap all the functionality of the tools built in the `API` and the `converter` modules to upload the rendered markdown document to Medium"
   ]
  },
  {
   "cell_type": "code",
   "execution_count": null,
   "id": "knowing-idaho",
   "metadata": {},
   "outputs": [],
   "source": [
    "#hide\n",
    "from nbdev.showdoc import *"
   ]
  },
  {
   "cell_type": "code",
   "execution_count": null,
   "id": "continuous-contribution",
   "metadata": {},
   "outputs": [],
   "source": [
    "#export\n",
    "import os\n",
    "from nb2medium.mediumapi import post_article\n",
    "from nb2medium.convert import (\n",
    "    HidePreprocessor,\n",
    "    GisterPreprocessor, \n",
    "    ImagePreprocessor,\n",
    "    WriteMarkdown,\n",
    "    init_convert_logger\n",
    ")\n",
    "from nbconvert.exporters import MarkdownExporter\n",
    "from nbconvert.preprocessors import TagRemovePreprocessor\n",
    "\n",
    "def nb2medium(\n",
    "    title, \n",
    "    notebook\n",
    "):\n",
    "    \n",
    "    init_convert_logger()\n",
    "    \n",
    "    # declare exporter\n",
    "    m = MarkdownExporter()\n",
    "    # Hide Preprocessors\n",
    "    m.register_preprocessor(HidePreprocessor(mode = 'source'), enabled = True)\n",
    "    m.register_preprocessor(HidePreprocessor(mode = 'output'), enabled = True)\n",
    "    m.register_preprocessor(HidePreprocessor(mode = 'cell'), enabled = True)\n",
    "    m.register_preprocessor(\n",
    "        TagRemovePreprocessor(\n",
    "            remove_input_tags = ('hide-source',),\n",
    "            remove_all_outputs_tags = ('hide-output',),\n",
    "            remove_cell_tags = ('hide-cell',),\n",
    "            enabled = True)\n",
    "    )\n",
    "    # Gister Preprocessors\n",
    "    m.register_preprocessor(GisterPreprocessor(), enabled = True)\n",
    "    #Image Preprocessors\n",
    "    m.register_preprocessor(ImagePreprocessor(), enabled = True)\n",
    "    \n",
    "    # process notebook\n",
    "    b,r = m.from_filename(notebook)\n",
    "    \n",
    "    # write notebook to Markdown\n",
    "    path, name = os.path.split(notebook)\n",
    "    basename, ext = os.path.splitext(name)\n",
    "    WriteMarkdown(b,r, filename = basename)\n",
    "    \n",
    "    # upload markdown document as medium post\n",
    "    return post_article(\n",
    "        title = title, \n",
    "        content = open(f\"{os.path.splitext(notebook)[0]}.md\").read()\n",
    "    )\n",
    "    \n",
    "    \n",
    "    "
   ]
  },
  {
   "cell_type": "code",
   "execution_count": null,
   "id": "looking-wholesale",
   "metadata": {},
   "outputs": [],
   "source": [
    "first_article = nb2medium(title = 'First test', notebook = '../tests/test-notebook.ipynb')"
   ]
  },
  {
   "cell_type": "code",
   "execution_count": null,
   "id": "intended-homework",
   "metadata": {},
   "outputs": [
    {
     "data": {
      "text/plain": [
       "{'data': {'id': '84c1679ca3e0',\n",
       "  'title': 'First test',\n",
       "  'authorId': '1e344db7dfd2a8efa9698a758030e05e28ff4c396f1f87f003704e0a8a80b9656',\n",
       "  'url': 'https://medium.com/@lucha6/84c1679ca3e0',\n",
       "  'canonicalUrl': '',\n",
       "  'publishStatus': 'draft',\n",
       "  'license': '',\n",
       "  'licenseUrl': 'https://policy.medium.com/medium-terms-of-service-9db0094a1e0f',\n",
       "  'tags': []}}"
      ]
     },
     "execution_count": null,
     "metadata": {},
     "output_type": "execute_result"
    }
   ],
   "source": [
    "first_article.json()"
   ]
  },
  {
   "cell_type": "code",
   "execution_count": null,
   "id": "million-proposition",
   "metadata": {},
   "outputs": [],
   "source": [
    "#hide\n",
    "from nbdev.export import *\n",
    "notebook2script()"
   ]
  }
 ],
 "metadata": {
  "kernelspec": {
   "display_name": "Python 3",
   "language": "python",
   "name": "python3"
  }
 },
 "nbformat": 4,
 "nbformat_minor": 5
}
