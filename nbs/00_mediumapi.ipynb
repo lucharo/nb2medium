{
 "cells": [
  {
   "cell_type": "code",
   "execution_count": null,
   "metadata": {},
   "outputs": [],
   "source": [
    "# default_exp mediumapi"
   ]
  },
  {
   "cell_type": "markdown",
   "metadata": {},
   "source": [
    "# MediumAPI\n",
    "\n",
    "> This module is as close as possible to the barebone [Medium API](https://github.com/Medium/medium-api-docs#33-posts) but written in python instead of GET/POST commands. Not all the kinds requests are implemented, only the ones that are useful to post an article or an image"
   ]
  },
  {
   "cell_type": "code",
   "execution_count": null,
   "metadata": {},
   "outputs": [],
   "source": [
    "#hide\n",
    "from nbdev.showdoc import *"
   ]
  },
  {
   "cell_type": "code",
   "execution_count": null,
   "metadata": {},
   "outputs": [],
   "source": [
    "#export \n",
    "from requests import get, post, HTTPError\n",
    "import os"
   ]
  },
  {
   "cell_type": "code",
   "execution_count": null,
   "metadata": {},
   "outputs": [],
   "source": [
    "#export\n",
    "def base_request():\n",
    "    try:\n",
    "        response = get(url)\n",
    "        # If the response was successful, no Exception will be raised\n",
    "        response.raise_for_status()\n",
    "    except HTTPError as http_err:\n",
    "        print(f'HTTP error occurred: {http_err}')\n",
    "    except Exception as err:\n",
    "        print(f'Other error occurred: {err}')\n",
    "    else:\n",
    "        print('Successfull GET Request')"
   ]
  },
  {
   "cell_type": "markdown",
   "metadata": {},
   "source": [
    "## Fetch User Data"
   ]
  },
  {
   "cell_type": "markdown",
   "metadata": {},
   "source": [
    "The basic user data can be requested by passing the Medium Integration token via a GET request. The Medium Integration Token needs to be requested from the writer's Medium profile page. For now, this token should be stored as an environment variable under the user's `$HOME/.profile` file:\n",
    "```md\n",
    "export MEDIUM_TOKEN=<the-token>\n",
    "```\n",
    "I may consider using keyring to store the token locally as that may more user friendly."
   ]
  },
  {
   "cell_type": "code",
   "execution_count": null,
   "metadata": {},
   "outputs": [],
   "source": [
    "#export\n",
    "def auth_header(token = None):\n",
    "    token = os.getenv('MEDIUM_TOKEN') \n",
    "    return {'Authorization': f\"Bearer {token}\"}"
   ]
  },
  {
   "cell_type": "code",
   "execution_count": null,
   "metadata": {},
   "outputs": [],
   "source": [
    "#export\n",
    "def fetch_user_data():\n",
    "    return get(\"https://api.medium.com/v1/me\", headers = auth_header())"
   ]
  },
  {
   "cell_type": "code",
   "execution_count": null,
   "metadata": {},
   "outputs": [],
   "source": [
    "a = fetch_user_data()"
   ]
  },
  {
   "cell_type": "code",
   "execution_count": null,
   "metadata": {},
   "outputs": [
    {
     "data": {
      "text/plain": [
       "{'data': {'id': '1e344db7dfd2a8efa9698a758030e05e28ff4c396f1f87f003704e0a8a80b9656',\n",
       "  'username': 'lucha6',\n",
       "  'name': 'Luis Chaves',\n",
       "  'url': 'https://medium.com/@lucha6',\n",
       "  'imageUrl': 'https://cdn-images-1.medium.com/fit/c/400/400/0*rM2cEh8f6ZQMOAZK.jpg'}}"
      ]
     },
     "execution_count": null,
     "metadata": {},
     "output_type": "execute_result"
    }
   ],
   "source": [
    "a.json()"
   ]
  },
  {
   "cell_type": "markdown",
   "metadata": {},
   "source": [
    "Which is equivalent to the `curl` alternative:"
   ]
  },
  {
   "cell_type": "code",
   "execution_count": null,
   "metadata": {},
   "outputs": [
    {
     "name": "stdout",
     "output_type": "stream",
     "text": [
      "\u001b[1;39m{\r\n",
      "  \u001b[0m\u001b[34;1m\"data\"\u001b[0m\u001b[1;39m: \u001b[0m\u001b[1;39m{\r\n",
      "    \u001b[0m\u001b[34;1m\"id\"\u001b[0m\u001b[1;39m: \u001b[0m\u001b[0;32m\"1e344db7dfd2a8efa9698a758030e05e28ff4c396f1f87f003704e0a8a80b9656\"\u001b[0m\u001b[1;39m,\r\n",
      "    \u001b[0m\u001b[34;1m\"username\"\u001b[0m\u001b[1;39m: \u001b[0m\u001b[0;32m\"lucha6\"\u001b[0m\u001b[1;39m,\r\n",
      "    \u001b[0m\u001b[34;1m\"name\"\u001b[0m\u001b[1;39m: \u001b[0m\u001b[0;32m\"Luis Chaves\"\u001b[0m\u001b[1;39m,\r\n",
      "    \u001b[0m\u001b[34;1m\"url\"\u001b[0m\u001b[1;39m: \u001b[0m\u001b[0;32m\"https://medium.com/@lucha6\"\u001b[0m\u001b[1;39m,\r\n",
      "    \u001b[0m\u001b[34;1m\"imageUrl\"\u001b[0m\u001b[1;39m: \u001b[0m\u001b[0;32m\"https://cdn-images-1.medium.com/fit/c/400/400/0*rM2cEh8f6ZQMOAZK.jpg\"\u001b[0m\u001b[1;39m\r\n",
      "  \u001b[1;39m}\u001b[0m\u001b[1;39m\r\n",
      "\u001b[1;39m}\u001b[0m\r\n"
     ]
    }
   ],
   "source": [
    "!curl -s -H \"Authorization: Bearer $MEDIUM_TOKEN\" https://api.medium.com/v1/me | jq"
   ]
  },
  {
   "cell_type": "code",
   "execution_count": null,
   "metadata": {},
   "outputs": [],
   "source": [
    "assert 'data' in fetch_user_data().json().keys()"
   ]
  },
  {
   "cell_type": "markdown",
   "metadata": {},
   "source": [
    "## Get User ID\n"
   ]
  },
  {
   "cell_type": "code",
   "execution_count": null,
   "metadata": {},
   "outputs": [],
   "source": [
    "#export\n",
    "def get_user_id():\n",
    "    return fetch_user_data().json()['data']['id']"
   ]
  },
  {
   "cell_type": "code",
   "execution_count": null,
   "metadata": {},
   "outputs": [
    {
     "data": {
      "text/plain": [
       "'1e344db7dfd2a8efa9698a758030e05e28ff4c396f1f87f003704e0a8a80b9656'"
      ]
     },
     "execution_count": null,
     "metadata": {},
     "output_type": "execute_result"
    }
   ],
   "source": [
    "get_user_id()"
   ]
  },
  {
   "cell_type": "markdown",
   "metadata": {},
   "source": [
    "## Fetch User Publications"
   ]
  },
  {
   "cell_type": "markdown",
   "metadata": {},
   "source": [
    "We can also request the user's publications. In Medium's definition a publication is not an article but rather an editorial-like group under which articles are written (e.g. Towards Data Science, Elemental AI...)"
   ]
  },
  {
   "cell_type": "code",
   "execution_count": null,
   "metadata": {},
   "outputs": [],
   "source": [
    "#export\n",
    "def fetch_publications():\n",
    "    return get(f\"https://api.medium.com/v1/users/{get_user_id()}/publications\", headers = auth_header())"
   ]
  },
  {
   "cell_type": "code",
   "execution_count": null,
   "metadata": {},
   "outputs": [
    {
     "data": {
      "text/plain": [
       "{'data': [{'id': '7f60cf5620c9',\n",
       "   'name': 'Towards Data Science',\n",
       "   'description': 'Your home for data science. A Medium publication sharing concepts, ideas and codes.',\n",
       "   'url': 'https://medium.com/towards-data-science',\n",
       "   'imageUrl': 'https://cdn-images-1.medium.com/fit/c/400/400/1*hVxgUA6kP-PgL5TJjuyePg.png'},\n",
       "  {'id': '4b3a1ed4f11c',\n",
       "   'name': 'JavaScript in Plain English',\n",
       "   'description': 'New JavaScript and Web Development articles every day.',\n",
       "   'url': 'https://medium.com/javascript-in-plain-english',\n",
       "   'imageUrl': 'https://cdn-images-1.medium.com/fit/c/400/400/1*iETPsI-y6GMmx-AJEQRBnw@2x.png'},\n",
       "  {'id': '261e46dce6ca',\n",
       "   'name': '<pretty/code>',\n",
       "   'description': 'Topics centered around Ruby, Rails, Coffeescript, Vim, Tmux and Productivity.',\n",
       "   'url': 'https://medium.com/raise-coffee',\n",
       "   'imageUrl': 'https://cdn-images-1.medium.com/fit/c/400/400/1*pLo2lxSseBKg09Nc_1EOlw.png'},\n",
       "  {'id': '3a8144eabfe3',\n",
       "   'name': 'HackerNoon.com',\n",
       "   'description': 'Elijah McClain, George Floyd, Eric Garner, Breonna Taylor, Ahmaud Arbery, Michael Brown, Oscar Grant, Atatiana Jefferson, Tamir Rice, Bettie Jones, Botham Jean',\n",
       "   'url': 'https://medium.com/hackernoon',\n",
       "   'imageUrl': 'https://cdn-images-1.medium.com/fit/c/400/400/1*76XiKOa05Yya6_CdYX8pVg.jpeg'},\n",
       "  {'id': '5517fd7b58a6',\n",
       "   'name': 'Level Up Coding',\n",
       "   'description': 'Coding tutorials and news. The developer homepage gitconnected.com',\n",
       "   'url': 'https://medium.com/gitconnected',\n",
       "   'imageUrl': 'https://cdn-images-1.medium.com/fit/c/400/400/1*5D9oYBd58pyjMkV_5-zXXQ.jpeg'},\n",
       "  {'id': '8d6b8a439e32',\n",
       "   'name': 'Elemental',\n",
       "   'description': 'Your life, sourced by science. A publication from Medium about health and wellness.',\n",
       "   'url': 'https://medium.com/elemental-by-medium',\n",
       "   'imageUrl': 'https://cdn-images-1.medium.com/fit/c/400/400/1*GhG8ZeoE0TGfCHwL9SCrfw.png'},\n",
       "  {'id': '98111c9905da',\n",
       "   'name': 'Towards AI',\n",
       "   'description': 'Towards AI is the world’s leading multidisciplinary science publication. Towards AI publishes the best of tech, science, and engineering. Read by thought-leaders and decision-makers around the world.',\n",
       "   'url': 'https://medium.com/towards-artificial-intelligence',\n",
       "   'imageUrl': 'https://cdn-images-1.medium.com/fit/c/400/400/1*JyIThO-cLjlChQLb6kSlVQ.png'},\n",
       "  {'id': 'b7e45b22fec3',\n",
       "   'name': 'Creators Hub',\n",
       "   'description': 'The Creators Hub is your source of ongoing education and inspiration to help your presence on Medium grow and support your creative practice. You’ll find tips on the craft of writing, spotlights on thinkers across the platform, and advice from Medium editors and fellow writers.',\n",
       "   'url': 'https://medium.com/creators-hub',\n",
       "   'imageUrl': 'https://cdn-images-1.medium.com/fit/c/400/400/1*8Zti0Ox8AfGECDO_O1Ifug.png'},\n",
       "  {'id': 'd0b105d10f0a',\n",
       "   'name': 'Better Programming',\n",
       "   'description': 'Advice for programmers.',\n",
       "   'url': 'https://medium.com/better-programming',\n",
       "   'imageUrl': 'https://cdn-images-1.medium.com/fit/c/400/400/1*TyRLQdZO7NdPATwSeut8gg.png'},\n",
       "  {'id': 'f5105b08f43a',\n",
       "   'name': 'DailyJS',\n",
       "   'description': 'JavaScript news and opinion.',\n",
       "   'url': 'https://medium.com/dailyjs',\n",
       "   'imageUrl': 'https://cdn-images-1.medium.com/fit/c/400/400/1*3RTyL2e-UvYez9Qo4YuFiA.png'},\n",
       "  {'id': 'f5af2b715248',\n",
       "   'name': 'The Startup',\n",
       "   'description': 'Get smarter at building your thing. Follow to join The Startup’s +8 million monthly readers & +780K followers.',\n",
       "   'url': 'https://medium.com/swlh',\n",
       "   'imageUrl': 'https://cdn-images-1.medium.com/fit/c/400/400/1*pKOfOAOvx-fWzfITATgGRg.jpeg'}]}"
      ]
     },
     "execution_count": null,
     "metadata": {},
     "output_type": "execute_result"
    }
   ],
   "source": [
    "fetch_publications().json()"
   ]
  },
  {
   "cell_type": "code",
   "execution_count": null,
   "metadata": {},
   "outputs": [],
   "source": [
    "assert 'data' in fetch_publications().json().keys()"
   ]
  },
  {
   "cell_type": "markdown",
   "metadata": {},
   "source": [
    "## Post an Article"
   ]
  },
  {
   "cell_type": "markdown",
   "metadata": {},
   "source": [
    "As easily an article can be submitted. Many options are available which can be explored in the [Medium API official docs](https://github.com/Medium/medium-api-docs#33-posts). The possible parameters and parameter values are as follow:\n",
    "\n",
    "\n",
    "| Parameter       | Type         | Required?  | Description                                     |\n",
    "| -------------   |--------------|------------|-------------------------------------------------|\n",
    "| title           | string       | required   | The title of the post. Note that this title is used for SEO and when rendering the post as a listing, but will not appear in the actual post—for that, the title must be specified in the `content` field as well. Titles longer than 100 characters will be ignored. In that case, a title will be synthesized from the first content in the post when it is published.  |\n",
    "| contentFormat   | string       | required   | The format of the \"content\" field. There are two valid values, \"html\", and \"markdown\" |\n",
    "| content         | string       | required   | The body of the post, in a valid, semantic, HTML fragment, or Markdown. Further markups may be supported in the future. For a full list of accepted HTML tags, see [here](https://medium.com/@katie/a4367010924e). If you want your title to appear on the post page, you must also include it as part of the post content.                |\n",
    "| tags            | string array | optional   | Tags to classify the post. Only the first three will be used. Tags longer than 25 characters will be ignored.                                        |\n",
    "| canonicalUrl    | string       | optional   | The original home of this content, if it was originally published elsewhere.                         |\n",
    "| publishStatus   | enum         | optional   | The status of the post. Valid values are “public”, “draft”, or “unlisted”. The default is “public”.  |\n",
    "| license         | enum         | optional   | The license of the post. Valid values are “all-rights-reserved”, “cc-40-by”, “cc-40-by-sa”, “cc-40-by-nd”, “cc-40-by-nc”, “cc-40-by-nc-nd”, “cc-40-by-nc-sa”, “cc-40-zero”, “public-domain”. The default is “all-rights-reserved”. |\n",
    "| notifyFollowers | bool         | optional   | Whether to notifyFollowers that the user has published. |\n",
    "\n",
    "\n"
   ]
  },
  {
   "cell_type": "markdown",
   "metadata": {},
   "source": [
    "The default `publishStatus` for posting articles will __always__ be set to 'draft' because that is how I would always like to use this API. "
   ]
  },
  {
   "cell_type": "code",
   "execution_count": null,
   "metadata": {},
   "outputs": [],
   "source": [
    "#export\n",
    "def post_article(\n",
    "    title,\n",
    "    content,\n",
    "    contentFormat = 'markdown',\n",
    "    tags = None,\n",
    "    canonicalUrl = None,\n",
    "    publishStatus = 'draft',\n",
    "    license = None,\n",
    "    notifyFollowers = False\n",
    "):\n",
    "    data = {\n",
    "        'title': title,\n",
    "        'contentFormat': contentFormat,\n",
    "        'content': content,\n",
    "        'tags': tags,\n",
    "        'canonicalUrl': canonicalUrl,\n",
    "        'publishStatus': publishStatus,\n",
    "        'license': license,\n",
    "        'notifyFollowers': notifyFollowers\n",
    "    }\n",
    "    \n",
    "    return post(f\"https://api.medium.com/v1/users/{get_user_id()}/posts\",\n",
    "                data = data,\n",
    "                headers = auth_header())"
   ]
  },
  {
   "cell_type": "markdown",
   "metadata": {},
   "source": [
    "Which is equivalent to:"
   ]
  },
  {
   "cell_type": "markdown",
   "metadata": {},
   "source": [
    "This command posts an article via a simple POST request. If the article is correctly submitted a JSON response like the below will be returned"
   ]
  },
  {
   "cell_type": "markdown",
   "metadata": {},
   "source": [
    "### Posting a string of text"
   ]
  },
  {
   "cell_type": "code",
   "execution_count": null,
   "metadata": {},
   "outputs": [],
   "source": [
    "my_post = post_article('Test from nb',\n",
    "             '# Markdown title \\n\\n markdown text')"
   ]
  },
  {
   "cell_type": "code",
   "execution_count": null,
   "metadata": {},
   "outputs": [
    {
     "data": {
      "text/plain": [
       "{'data': {'id': '4955a2343f8c',\n",
       "  'title': 'Test from nb',\n",
       "  'authorId': '1e344db7dfd2a8efa9698a758030e05e28ff4c396f1f87f003704e0a8a80b9656',\n",
       "  'url': 'https://medium.com/@lucha6/4955a2343f8c',\n",
       "  'canonicalUrl': '',\n",
       "  'publishStatus': 'draft',\n",
       "  'license': '',\n",
       "  'licenseUrl': 'https://policy.medium.com/medium-terms-of-service-9db0094a1e0f',\n",
       "  'tags': []}}"
      ]
     },
     "execution_count": null,
     "metadata": {},
     "output_type": "execute_result"
    }
   ],
   "source": [
    "my_post.json()"
   ]
  },
  {
   "cell_type": "markdown",
   "metadata": {},
   "source": [
    "The request should return the [HTTP 201 code](https://developer.mozilla.org/en-US/docs/Web/HTTP/Status/201)"
   ]
  },
  {
   "cell_type": "markdown",
   "metadata": {},
   "source": [
    "### Posting a text document"
   ]
  },
  {
   "cell_type": "code",
   "execution_count": null,
   "metadata": {},
   "outputs": [],
   "source": [
    "my_post_from_file = post_article('Test from file',open('../samples/LEARNING.md', 'rb').read())"
   ]
  },
  {
   "cell_type": "code",
   "execution_count": null,
   "metadata": {},
   "outputs": [
    {
     "data": {
      "text/plain": [
       "{'data': {'id': '8ffa0d606ea5',\n",
       "  'title': 'Test from file',\n",
       "  'authorId': '1e344db7dfd2a8efa9698a758030e05e28ff4c396f1f87f003704e0a8a80b9656',\n",
       "  'url': 'https://medium.com/@lucha6/8ffa0d606ea5',\n",
       "  'canonicalUrl': '',\n",
       "  'publishStatus': 'draft',\n",
       "  'license': '',\n",
       "  'licenseUrl': 'https://policy.medium.com/medium-terms-of-service-9db0094a1e0f',\n",
       "  'tags': []}}"
      ]
     },
     "execution_count": null,
     "metadata": {},
     "output_type": "execute_result"
    }
   ],
   "source": [
    "my_post_from_file.json()"
   ]
  },
  {
   "cell_type": "code",
   "execution_count": null,
   "metadata": {},
   "outputs": [],
   "source": [
    "assert my_post_from_file.ok\n",
    "assert my_post_from_file.status_code == 201 "
   ]
  },
  {
   "cell_type": "markdown",
   "metadata": {},
   "source": [
    "## Post/Upload an image"
   ]
  },
  {
   "cell_type": "code",
   "execution_count": null,
   "metadata": {},
   "outputs": [],
   "source": [
    "#export\n",
    "import random\n",
    "from io import BytesIO\n",
    "\n",
    "def post_image(filename = None, img = None):\n",
    "    \"\"\"\n",
    "    filename: needs to be a valid image file path supported my Medium\n",
    "    img: can be a binary image representation\n",
    "    \"\"\"\n",
    "    if img is None:\n",
    "        img = open(filename, 'rb')\n",
    "    else: \n",
    "        filename = str(random.randint(1e4, 1e5))\n",
    "    files = {\n",
    "        'image': (os.path.basename(filename), img, 'image/png')\n",
    "    }\n",
    "    img.close() if img is None else 1\n",
    "    return post(f\"https://api.medium.com/v1/images\",\n",
    "                headers = auth_header(),\n",
    "                files = files)"
   ]
  },
  {
   "cell_type": "markdown",
   "metadata": {},
   "source": [
    "## Upload image from file"
   ]
  },
  {
   "cell_type": "code",
   "execution_count": null,
   "metadata": {},
   "outputs": [
    {
     "data": {
      "text/plain": [
       "{'data': {'url': 'https://cdn-images-1.medium.com/proxy/1*sV7tva-728oySeOUL0-vOw.png',\n",
       "  'md5': 'sV7tva-728oySeOUL0-vOw'}}"
      ]
     },
     "execution_count": null,
     "metadata": {},
     "output_type": "execute_result"
    }
   ],
   "source": [
    "my_img = post_image('../samples/github-logo.png')\n",
    "my_img.json()"
   ]
  },
  {
   "cell_type": "code",
   "execution_count": null,
   "metadata": {},
   "outputs": [],
   "source": [
    "assert my_img.ok\n",
    "assert my_img.status_code == 201"
   ]
  },
  {
   "cell_type": "markdown",
   "metadata": {},
   "source": [
    "### Upload image as byte stream"
   ]
  },
  {
   "cell_type": "code",
   "execution_count": null,
   "metadata": {},
   "outputs": [
    {
     "name": "stdout",
     "output_type": "stream",
     "text": [
      "Which is some sort of byte stream: like b'\\x89PNG\\r\\n\\x1a\\n\\x00\\x00'\n"
     ]
    }
   ],
   "source": [
    "from io import BytesIO\n",
    "img = BytesIO(open('../samples/github-logo.png', 'rb').read()).getvalue()\n",
    "print(f\"Which is some sort of byte stream: like {img[:10]}\")"
   ]
  },
  {
   "cell_type": "code",
   "execution_count": null,
   "metadata": {},
   "outputs": [
    {
     "data": {
      "text/plain": [
       "{'data': {'url': 'https://cdn-images-1.medium.com/proxy/1*sV7tva-728oySeOUL0-vOw.png',\n",
       "  'md5': 'sV7tva-728oySeOUL0-vOw'}}"
      ]
     },
     "execution_count": null,
     "metadata": {},
     "output_type": "execute_result"
    }
   ],
   "source": [
    "image_from_bytes = post_image(filename = 'github-logo.png', img = img).json()\n",
    "image_from_bytes"
   ]
  },
  {
   "cell_type": "markdown",
   "metadata": {},
   "source": [
    "It may not become apparent why this functionality is useful right now. Being able to upload a file as a binary stream is actually really useful because we can avoid saving the images to memory and upload them directly to Medium, the `nbconvert` modules that we will be using later represent images in such intermediate states"
   ]
  },
  {
   "cell_type": "markdown",
   "metadata": {},
   "source": [
    "Which as a `curl` call would be:"
   ]
  },
  {
   "cell_type": "code",
   "execution_count": null,
   "metadata": {},
   "outputs": [
    {
     "name": "stdout",
     "output_type": "stream",
     "text": [
      "  % Total    % Received % Xferd  Average Speed   Time    Time     Time  Current\n",
      "                                 Dload  Upload   Total   Spent    Left  Speed\n",
      "100 51237  100   116  100 51121     65  28800  0:00:01  0:00:01 --:--:-- 28865\n",
      "\u001b[1;39m{\n",
      "  \u001b[0m\u001b[34;1m\"data\"\u001b[0m\u001b[1;39m: \u001b[0m\u001b[1;39m{\n",
      "    \u001b[0m\u001b[34;1m\"url\"\u001b[0m\u001b[1;39m: \u001b[0m\u001b[0;32m\"https://cdn-images-1.medium.com/proxy/1*sV7tva-728oySeOUL0-vOw.png\"\u001b[0m\u001b[1;39m,\n",
      "    \u001b[0m\u001b[34;1m\"md5\"\u001b[0m\u001b[1;39m: \u001b[0m\u001b[0;32m\"sV7tva-728oySeOUL0-vOw\"\u001b[0m\u001b[1;39m\n",
      "  \u001b[1;39m}\u001b[0m\u001b[1;39m\n",
      "\u001b[1;39m}\u001b[0m\n"
     ]
    }
   ],
   "source": [
    "!curl -X POST https://api.medium.com/v1/images \\\n",
    "\t-H \"Authorization: Bearer $MEDIUM_TOKEN\" \\\n",
    "\t-F 'name=\"image\"; filename=\"../samples/github-logo.png\" ; type=\"image/png\";' \\\n",
    "\t-F 'image=@../samples/github-logo.png' | jq"
   ]
  },
  {
   "cell_type": "markdown",
   "metadata": {},
   "source": [
    "## Posting an article with an image"
   ]
  },
  {
   "cell_type": "markdown",
   "metadata": {},
   "source": [
    "### Post with online image links"
   ]
  },
  {
   "cell_type": "markdown",
   "metadata": {},
   "source": [
    "It turns out that uploading a file with an online image may be easier"
   ]
  },
  {
   "cell_type": "code",
   "execution_count": null,
   "metadata": {},
   "outputs": [],
   "source": [
    "with open('../samples/test-offline-image.md', 'rb') as article:\n",
    "    my_post_from_file_with_online_image = post_article(\n",
    "        'Test from file with online image',\n",
    "        article.read())"
   ]
  },
  {
   "cell_type": "code",
   "execution_count": null,
   "metadata": {},
   "outputs": [
    {
     "data": {
      "text/plain": [
       "{'data': {'id': '148cba4f9155',\n",
       "  'title': 'Test from file with online image',\n",
       "  'authorId': '1e344db7dfd2a8efa9698a758030e05e28ff4c396f1f87f003704e0a8a80b9656',\n",
       "  'url': 'https://medium.com/@lucha6/148cba4f9155',\n",
       "  'canonicalUrl': '',\n",
       "  'publishStatus': 'draft',\n",
       "  'license': '',\n",
       "  'licenseUrl': 'https://policy.medium.com/medium-terms-of-service-9db0094a1e0f',\n",
       "  'tags': []}}"
      ]
     },
     "execution_count": null,
     "metadata": {},
     "output_type": "execute_result"
    }
   ],
   "source": [
    "my_post_from_file_with_online_image.json()"
   ]
  },
  {
   "cell_type": "markdown",
   "metadata": {},
   "source": [
    "For those reading this code above, there is no way for me to show that the draft was posted succesfully and that the image is displayed correctly as the draft is posted to my account, but trust me it is posted correctly. Where as obtaining a correct JSON back is a good sign that the article was posted succesfully, the posted draft still needs to be verified and potentially modified."
   ]
  },
  {
   "cell_type": "code",
   "execution_count": null,
   "metadata": {},
   "outputs": [],
   "source": [
    "with open('../samples/test-offline-image.md', 'rb') as article:\n",
    "    my_post_from_file_with_offline_image = post_article(\n",
    "        'Test from file with offline image',\n",
    "        article.read())"
   ]
  },
  {
   "cell_type": "code",
   "execution_count": null,
   "metadata": {},
   "outputs": [
    {
     "data": {
      "text/plain": [
       "{'data': {'id': '9e2aeeeaaf12',\n",
       "  'title': 'Test from file with offline image',\n",
       "  'authorId': '1e344db7dfd2a8efa9698a758030e05e28ff4c396f1f87f003704e0a8a80b9656',\n",
       "  'url': 'https://medium.com/@lucha6/9e2aeeeaaf12',\n",
       "  'canonicalUrl': '',\n",
       "  'publishStatus': 'draft',\n",
       "  'license': '',\n",
       "  'licenseUrl': 'https://policy.medium.com/medium-terms-of-service-9db0094a1e0f',\n",
       "  'tags': []}}"
      ]
     },
     "execution_count": null,
     "metadata": {},
     "output_type": "execute_result"
    }
   ],
   "source": [
    "my_post_from_file_with_offline_image.json()"
   ]
  },
  {
   "cell_type": "markdown",
   "metadata": {},
   "source": [
    "In this case, we referred to a local image in our markdown document as opposed to one found oneline. When we post an article with references to offline/local images, the medium Markdown renderer won't recognise the path to those images and will faily to display the image. __What would need to be done__ in this case is to get the local image paths, upload them with the `post_image()` function and then replace the local path reference by the one in the Medium DB."
   ]
  },
  {
   "cell_type": "code",
   "execution_count": null,
   "metadata": {},
   "outputs": [
    {
     "name": "stdout",
     "output_type": "stream",
     "text": [
      "Converted 00_mediumapi.ipynb.\n",
      "Converted 01_convert.ipynb.\n",
      "Converted 02_upload.ipynb.\n",
      "Converted index.ipynb.\n"
     ]
    }
   ],
   "source": [
    "#hide\n",
    "from nbdev.export import *\n",
    "notebook2script()"
   ]
  }
 ],
 "metadata": {
  "kernelspec": {
   "display_name": "Python 3",
   "language": "python",
   "name": "python3"
  }
 },
 "nbformat": 4,
 "nbformat_minor": 2
}
