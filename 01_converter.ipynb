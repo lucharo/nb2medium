{
 "cells": [
  {
   "cell_type": "code",
   "execution_count": null,
   "id": "diagnostic-beaver",
   "metadata": {},
   "outputs": [],
   "source": [
    "# default_exp converter"
   ]
  },
  {
   "cell_type": "markdown",
   "id": "agreed-representation",
   "metadata": {},
   "source": [
    "# Converter\n",
    "> The Jupyter Notebooks need to be turned into either Markdown or HTML documents to be compatible with the Medium API. Quite good tools to do just this already exists such as Jupyter's `nbconvert` or nbdev's `nbdev_nb2md` so we are not going to reinvent the wheel."
   ]
  },
  {
   "cell_type": "code",
   "execution_count": null,
   "id": "overhead-romance",
   "metadata": {},
   "outputs": [],
   "source": [
    "# hide\n",
    "from nbdev.showdoc import *"
   ]
  },
  {
   "cell_type": "code",
   "execution_count": null,
   "id": "ethical-johnson",
   "metadata": {},
   "outputs": [],
   "source": [
    "from nbconvert import MarkdownExporter, FilenameExtension\n",
    "from nbconvert.writers import FilesWriter"
   ]
  },
  {
   "cell_type": "markdown",
   "id": "demanding-relay",
   "metadata": {},
   "source": [
    "## Jupyter nbconvert"
   ]
  },
  {
   "cell_type": "markdown",
   "id": "supreme-lying",
   "metadata": {},
   "source": [
    "Jupyter's nbconvert is a well established tool created and maintained by the core jupyter developers. There is no need to reinvent the wheel, hence we will be using `nbconvert`'s python API to convert Jupyter Notebook to Markdown documents. You can read more about `nbconvert`'s function in the [official documentation](https://nbconvert.readthedocs.io/en/latest/nbconvert_library.html)"
   ]
  },
  {
   "cell_type": "markdown",
   "id": "favorite-polls",
   "metadata": {},
   "source": [
    "We will be using `Exporter`, namely the `MarkdownExporter` which can read a python notebook and extract the main body (text) and resources (images, etc). Let's first see the basics of how it works and then make a thin wrapper function around it."
   ]
  },
  {
   "cell_type": "code",
   "execution_count": null,
   "id": "departmental-selection",
   "metadata": {},
   "outputs": [],
   "source": [
    "m = MarkdownExporter()"
   ]
  },
  {
   "cell_type": "code",
   "execution_count": null,
   "id": "oriental-lender",
   "metadata": {},
   "outputs": [],
   "source": [
    "body, resources = m.from_filename('LEARNING/test-notebook.ipynb')"
   ]
  },
  {
   "cell_type": "markdown",
   "id": "double-sector",
   "metadata": {},
   "source": [
    "All notebook exporters return a tuple containing the body and the resources of the document, for instance the matplotlib image from our test notebook was stored as `output_4_1.png`"
   ]
  },
  {
   "cell_type": "code",
   "execution_count": null,
   "id": "minus-expense",
   "metadata": {},
   "outputs": [
    {
     "data": {
      "text/plain": [
       "dict_keys(['output_4_1.png'])"
      ]
     },
     "execution_count": null,
     "metadata": {},
     "output_type": "execute_result"
    }
   ],
   "source": [
    "resources['outputs']['output_4_1.png'];\n",
    "resources['outputs'].keys()"
   ]
  },
  {
   "cell_type": "markdown",
   "id": "dated-silver",
   "metadata": {},
   "source": [
    "Also it is important to know that so far, the notebook markdown representation only exists as a python object and no files have been written."
   ]
  },
  {
   "cell_type": "code",
   "execution_count": null,
   "id": "familiar-singer",
   "metadata": {},
   "outputs": [],
   "source": [
    "def nb2md_draft(notebook:str):\n",
    "    \"\"\"\n",
    "    Paper thin wrapper around nbconvert.MarkdownExporter. This function takes the path to a jupyter\n",
    "    notebook and passes it to `MarkdownExporter().from_filename` which returns the body and resources\n",
    "    of the document\n",
    "    \"\"\"\n",
    "    m = MarkdownExporter()\n",
    "    body, resources = m.from_filename(notebook)\n",
    "    return body, resources"
   ]
  },
  {
   "cell_type": "markdown",
   "id": "approximate-overview",
   "metadata": {},
   "source": [
    "This is a very basic notebook to markdown converter that is greatly improved and features are added to it with preprocessors further down in this module, hence this `nb2md()` function is not the one that will be exported and is hence marked as draft."
   ]
  },
  {
   "cell_type": "code",
   "execution_count": null,
   "id": "banner-short",
   "metadata": {},
   "outputs": [],
   "source": [
    "b, r = nb2md_draft('LEARNING/test-notebook.ipynb')"
   ]
  },
  {
   "cell_type": "markdown",
   "id": "through-limitation",
   "metadata": {},
   "source": [
    "## Writing Notebook to file"
   ]
  },
  {
   "cell_type": "markdown",
   "id": "alternative-sound",
   "metadata": {},
   "source": [
    "We use the `FilesWriter` object to write the resulting markdown file onto our laptop's storage. We can precise the `build_directory` attribute ([see more Writer options](https://nbconvert.readthedocs.io/en/latest/config_options.html#writer-options)) to indicate where we would like to store our Notebook and the auxiliary files (images, etc). The FilesWriter is \"aggresive\", meaning it will overwrite whatever files exists if there is a directory or filename clash. Lastly, it is also possible to write a custom Writer such as `MediumWriter` that renders the document and then uploads it to Medium but because I am learning I'd rather see every step in the pipeline."
   ]
  },
  {
   "cell_type": "code",
   "execution_count": null,
   "id": "chubby-elder",
   "metadata": {},
   "outputs": [],
   "source": [
    "f = FilesWriter(build_directory = 'Rendered/')"
   ]
  },
  {
   "cell_type": "markdown",
   "id": "adapted-mattress",
   "metadata": {},
   "source": [
    "Conveniently, the `write()` method of `FilesWriter` returns the output path."
   ]
  },
  {
   "cell_type": "code",
   "execution_count": null,
   "id": "coupled-graph",
   "metadata": {},
   "outputs": [
    {
     "data": {
      "text/plain": [
       "'Rendered/test-notebook.md'"
      ]
     },
     "execution_count": null,
     "metadata": {},
     "output_type": "execute_result"
    }
   ],
   "source": [
    "f.write(output = body, \n",
    "        resources = resources,\n",
    "        notebook_name = 'test-notebook')"
   ]
  },
  {
   "cell_type": "markdown",
   "id": "applicable-evening",
   "metadata": {},
   "source": [
    "### Simple writing function"
   ]
  },
  {
   "cell_type": "code",
   "execution_count": null,
   "id": "finished-pathology",
   "metadata": {},
   "outputs": [],
   "source": [
    "#export\n",
    "def WriteMarkdown(body, resources, dir_path = None, filename = None):\n",
    "    \"\"\"\n",
    "    body & resources are the output of any Jupyter nbconvert `Exporter`.\n",
    "    dir_path should be a relative path with respect to the current working directory. \n",
    "    If dir_path is not passed, the output document and its auxiliary files will be written\n",
    "    to the same location than the input jupyter notebook\n",
    "    filename should be the output document's name\n",
    "    \n",
    "    This function returns the location of the newly written file\n",
    "    \"\"\"\n",
    "    return FilesWriter(build_directory = '' if dir_path is None else dir_path) \\\n",
    "    .write(\n",
    "        output = body,\n",
    "        resources = resources,\n",
    "        notebook_name = filename\n",
    "    )"
   ]
  },
  {
   "cell_type": "markdown",
   "id": "raising-canon",
   "metadata": {},
   "source": [
    "#### Example 1 - Write to Jupyter's Notebook directory"
   ]
  },
  {
   "cell_type": "code",
   "execution_count": null,
   "id": "offensive-kuwait",
   "metadata": {},
   "outputs": [
    {
     "data": {
      "text/plain": [
       "'LEARNING/test-notebook.md'"
      ]
     },
     "execution_count": null,
     "metadata": {},
     "output_type": "execute_result"
    }
   ],
   "source": [
    "WriteMarkdown(body, resources, filename = 'test-notebook')"
   ]
  },
  {
   "cell_type": "markdown",
   "id": "dental-gabriel",
   "metadata": {},
   "source": [
    "#### Example 2 - Write to new directory"
   ]
  },
  {
   "cell_type": "code",
   "execution_count": null,
   "id": "greenhouse-electron",
   "metadata": {},
   "outputs": [
    {
     "data": {
      "text/plain": [
       "'Docs/test-notebook.md'"
      ]
     },
     "execution_count": null,
     "metadata": {},
     "output_type": "execute_result"
    }
   ],
   "source": [
    "WriteMarkdown(body, resources, dir_path= 'Docs', filename= 'test-notebook')"
   ]
  },
  {
   "cell_type": "markdown",
   "id": "pediatric-greenhouse",
   "metadata": {},
   "source": [
    "#### Example 3 - Write to directory with subdirectory"
   ]
  },
  {
   "cell_type": "code",
   "execution_count": null,
   "id": "dirty-remark",
   "metadata": {},
   "outputs": [
    {
     "data": {
      "text/plain": [
       "'Docs/Attempt1/test-notebook.md'"
      ]
     },
     "execution_count": null,
     "metadata": {},
     "output_type": "execute_result"
    }
   ],
   "source": [
    "WriteMarkdown(body, resources, dir_path= 'Docs/Attempt1', filename= 'test-notebook')"
   ]
  },
  {
   "cell_type": "markdown",
   "id": "fleet-romania",
   "metadata": {},
   "source": [
    "#### Example 4 - Write outside the current working directory"
   ]
  },
  {
   "cell_type": "code",
   "execution_count": null,
   "id": "union-scotland",
   "metadata": {},
   "outputs": [
    {
     "data": {
      "text/plain": [
       "'../Docs/test-notebook.md'"
      ]
     },
     "execution_count": null,
     "metadata": {},
     "output_type": "execute_result"
    }
   ],
   "source": [
    "WriteMarkdown(body, resources, dir_path= '../Docs', filename= 'test-notebook')"
   ]
  },
  {
   "cell_type": "code",
   "execution_count": null,
   "id": "computational-husband",
   "metadata": {},
   "outputs": [],
   "source": [
    "# hide\n",
    "!rm -rf Docs/ Rendered/ ../Docs/ LEARNING/test-notebook.md LEARNING/output_4_1.png"
   ]
  },
  {
   "cell_type": "markdown",
   "id": "parallel-shirt",
   "metadata": {},
   "source": [
    "## Handling special tags"
   ]
  },
  {
   "cell_type": "markdown",
   "id": "armed-accordance",
   "metadata": {},
   "source": [
    "### Hide tags - Remove cell if cell has no output"
   ]
  },
  {
   "cell_type": "markdown",
   "id": "mysterious-patent",
   "metadata": {},
   "source": [
    "We may wish certain markdown or code cells to not be present in the output document. To achieve this we can use `nbconvert`'s [`RegexRemovePreprocessor`](https://nbconvert.readthedocs.io/en/latest/removing_cells.html#removing-cells-using-regular-expressions-on-cell-content). preprocessors such as this one can either be registered to an `Exporter`(see [how](https://nbconvert.readthedocs.io/en/latest/api/exporters.html#nbconvert.exporters.Exporter.register_preprocessor)) or passed as part of a config (see [how](https://nbconvert.readthedocs.io/en/latest/removing_cells.html#removing-pieces-of-cells-using-cell-tags)). "
   ]
  },
  {
   "cell_type": "code",
   "execution_count": null,
   "id": "smooth-connecticut",
   "metadata": {},
   "outputs": [],
   "source": [
    "#export \n",
    "from nbconvert.preprocessors import RegexRemovePreprocessor\n",
    "\n",
    "m = MarkdownExporter()\n",
    "m.register_preprocessor(RegexRemovePreprocessor(patterns = ['^#\\s*hide-cell']), enabled = True);"
   ]
  },
  {
   "cell_type": "markdown",
   "id": "effective-antarctica",
   "metadata": {},
   "source": [
    "__Funnily enough__, the `RegexRemovePreprocessor` [only hides cells that have the tag AND that do no produce an output](https://github.com/jupyter/nbconvert/issues/1091). For example:\n",
    "```python \n",
    "#hide-cell\n",
    "a = 1\n",
    "```\n",
    "would be removed, but:\n",
    "```python \n",
    "#hide-cell\n",
    "a = 1\n",
    "print(a) # or simply a\n",
    "````\n",
    "would _not_ be removed."
   ]
  },
  {
   "cell_type": "markdown",
   "id": "plain-green",
   "metadata": {},
   "source": [
    "### Clear Output - Remove cell's output but keep cell's content"
   ]
  },
  {
   "cell_type": "markdown",
   "id": "upper-partition",
   "metadata": {},
   "source": [
    "The standard preprocessors aren't really useful for what I want to do. [`RegexRemovePreprocessors`](https://github.com/jupyter/nbconvert/blob/master/nbconvert/preprocessors/regexremove.py) only remove cells if they have no output in addition to matching the pattern(s) specified. The [`ClearOuputPreprocessor`](https://github.com/jupyter/nbconvert/blob/master/nbconvert/preprocessors/clearoutput.py) removes all outputs from a notebook. Hence I am just going to write a custom preprocessor that is able to hide either a cell's source, a cell's output or the whole cell based on pattern matching performed on a cell's source. After some investigation I realised that best way to achieve this was using [cell tags](https://stackoverflow.com/a/48084050/12821043), though I do not like Jupyter's current tag environment. I do not like them because you have to use the GUI entirely to add tags to a cell, navigating to the the top sidebar, then the **View** section and then the **Cell Toolbar** sub-section and finally click on **Tags** to enable this extra chunky section added to all your cells, even those you may not want to add tag onto. *Hence* I've gone for an implementation that allows for both the use of tags and the of use of text/regex based tagging in the custom preprocessor `HidePreprocessor` written below."
   ]
  },
  {
   "cell_type": "code",
   "execution_count": null,
   "id": "outstanding-oxygen",
   "metadata": {},
   "outputs": [],
   "source": [
    "#export \n",
    "from nbconvert.preprocessors import Preprocessor, TagRemovePreprocessor\n",
    "from traitlets import List, Unicode, Set\n",
    "import re\n",
    "\n",
    "class HidePreprocessor(Preprocessor):\n",
    "    \"\"\"\n",
    "    Preprocessor that hides cell's body and only keeps the output based on regex matching\n",
    "    \n",
    "    Regex matching is based on the [RegexRemovePreprocessor source]\n",
    "    (https://github.com/jupyter/nbconvert/blob/master/nbconvert/preprocessors/regexremove.py)\n",
    "\n",
    "    \"\"\"\n",
    "    \n",
    "    \n",
    "    \n",
    "    mode = Unicode().tag(config = True) # , 'output', 'all'\n",
    "    patterns = List(Unicode(), default_value=[]).tag(config=True)\n",
    "    remove_metadata_fields = Set(\n",
    "        {'collapsed', 'scrolled'}\n",
    "    ).tag(config=True)\n",
    "\n",
    "    def check_conditions(self, cell):\n",
    "        \"\"\"\n",
    "        Checks that a cell matches the pattern.\n",
    "        Returns: Boolean.\n",
    "        True means cell should *not* be removed.\n",
    "        \"\"\"\n",
    "\n",
    "        # Compile all the patterns into one: each pattern is first wrapped\n",
    "        # by a non-capturing group to ensure the correct order of precedence\n",
    "        # and the patterns are joined with a logical or\n",
    "        pattern = re.compile('|'.join('(?:%s)' % pattern\n",
    "                             for pattern in self.patterns))\n",
    "\n",
    "        # Filter out cells that meet the pattern and have no outputs\n",
    "        return pattern.match(cell.source)     \n",
    "    \n",
    "    def preprocess_cell(self, cell, resources, cell_index):\n",
    "        \"\"\"\n",
    "        Preprocessing to apply to each cell.\n",
    "        \"\"\"\n",
    "        # Skip preprocessing if the list of patterns is empty\n",
    "        if not self.patterns:\n",
    "            return cell, resources\n",
    "        \n",
    "        if self.mode == 'source': \n",
    "            cell, resources = self.hide_source(cell, resources)\n",
    "        elif self.mode == 'output': \n",
    "            cell, resources = self.hide_output(cell, resources)\n",
    "        elif self.mode == 'cell' or self.mode == 'all':\n",
    "            cell, resources = self.hide_cell(cell, resources)\n",
    "        \n",
    "        return cell, resources\n",
    "    \n",
    "    def hide_source(self, cell, resources):\n",
    "        \n",
    "        if self.check_conditions(cell):\n",
    "            cell.metadata.tags = ['hide-source']\n",
    "            \n",
    "        return cell, resources\n",
    "        \n",
    "    def hide_output(self, cell, resources):\n",
    "        \n",
    "        if cell.cell_type == 'code' and self.check_conditions(cell):\n",
    "            cell.metadata.tags = ['hide-output']\n",
    "                    \n",
    "        return cell, resources\n",
    "    \n",
    "    def hide_cell(self, cell, resources):\n",
    "        \n",
    "        if self.check_conditions(cell):\n",
    "            cell.metadata.tags = ['hide-cell']\n",
    "            \n",
    "        return cell, resources\n",
    "    "
   ]
  },
  {
   "cell_type": "markdown",
   "id": "unavailable-drunk",
   "metadata": {},
   "source": [
    "`nbconvert` uses [`traitlets`](https://github.com/ipython/traitlets) where I would normally expect an `__init__()` method. Luckily it is quite intuitive to work with traitlets but I do not grasp the pros and cons of using it."
   ]
  },
  {
   "cell_type": "code",
   "execution_count": null,
   "id": "caroline-animation",
   "metadata": {},
   "outputs": [
    {
     "data": {
      "text/plain": [
       "<nbconvert.preprocessors.tagremove.TagRemovePreprocessor at 0x7ff9a58ba9a0>"
      ]
     },
     "execution_count": null,
     "metadata": {},
     "output_type": "execute_result"
    }
   ],
   "source": [
    "m = MarkdownExporter()\n",
    "m.register_preprocessor(HidePreprocessor(mode = 'source', patterns = ['^#\\s*hide-source']), enabled = True)\n",
    "m.register_preprocessor(HidePreprocessor(mode = 'output', patterns = ['^#\\s*hide-output']), enabled = True)\n",
    "m.register_preprocessor(HidePreprocessor(mode = 'cell', patterns = ['^#\\s*hide-cell']), enabled = True)\n",
    "m.register_preprocessor(\n",
    "    TagRemovePreprocessor(\n",
    "        remove_input_tags = ('hide-source',),\n",
    "        remove_all_outputs_tags = ('hide-output',),\n",
    "        remove_cell_tags = ('hide-cell',),\n",
    "        enabled = True)\n",
    ")"
   ]
  },
  {
   "cell_type": "markdown",
   "id": "unavailable-diary",
   "metadata": {},
   "source": [
    "The file `test-hiding.ipynb` contains 4 cells printing the string 'My name is Jack'. The first one has no tags added. The second one has the `#hide-source` tag which results in only the output string being present in the Markdown document. The third cell has the `#hide-output` tag added to it which results in only the cell source (\"the code\") being present in the Markdown document. The last cell has the `#hide-cell` tag which removes the whole cell (source and output) altogether."
   ]
  },
  {
   "cell_type": "code",
   "execution_count": null,
   "id": "complimentary-morris",
   "metadata": {},
   "outputs": [],
   "source": [
    "b, r = m.from_filename('LEARNING/test-hiding.ipynb')"
   ]
  },
  {
   "cell_type": "code",
   "execution_count": null,
   "id": "altered-haiti",
   "metadata": {},
   "outputs": [
    {
     "name": "stdout",
     "output_type": "stream",
     "text": [
      "\n",
      "## Hiding cells              \n",
      "\n",
      "\n",
      "```python\n",
      "print('My name is Jack')\n",
      "```\n",
      "\n",
      "    My name is Jack\n",
      "\n",
      "\n",
      "Same as above but hiding source (aka input), output and all (aka whole cell)\n",
      "\n",
      "### The source of the next cell is hidden\n",
      "\n",
      "    My name is Jack\n",
      "\n",
      "\n",
      "### The output of the next cell is hidden\n",
      "\n",
      "\n",
      "```python\n",
      "#hide-output\n",
      "print('My name is Jack')\n",
      "```\n",
      "\n",
      "### The entire next cell is hidden\n",
      "\n"
     ]
    }
   ],
   "source": [
    "print(b)"
   ]
  },
  {
   "cell_type": "markdown",
   "id": "guided-wound",
   "metadata": {},
   "source": [
    "**Above** has been the exploration of how to implement hiding cells sources, cells outputs and entire cells based on text based tags. These will be added in the main `nb2md()` function at the end of this module"
   ]
  },
  {
   "cell_type": "markdown",
   "id": "french-tattoo",
   "metadata": {},
   "source": [
    "### Gister tags"
   ]
  },
  {
   "cell_type": "markdown",
   "id": "fourth-medline",
   "metadata": {},
   "source": [
    "I like syntax highlighting in Medium articles and this is only available (to my knowledge) via GitHub Gists. We will be making our own [preprocessor](https://nbconvert.readthedocs.io/en/latest/nbconvert_library.html#Using-different-preprocessors) to uploads the source code of cells that start with the special tag `# gist`. We will be using the python module [`ghapi`](https://ghapi.fast.ai/) to upload gists."
   ]
  },
  {
   "cell_type": "markdown",
   "id": "useful-economy",
   "metadata": {},
   "source": [
    "#### Uploading gists via `ghapi`"
   ]
  },
  {
   "cell_type": "code",
   "execution_count": null,
   "id": "fifty-furniture",
   "metadata": {},
   "outputs": [],
   "source": [
    "import ghapi\n",
    "from ghapi.auth import GhDeviceAuth, github_auth_device\n",
    "from ghapi.all import GhApi"
   ]
  },
  {
   "cell_type": "code",
   "execution_count": null,
   "id": "theoretical-sleeping",
   "metadata": {},
   "outputs": [
    {
     "data": {
      "text/plain": [
       "'0.1.16'"
      ]
     },
     "execution_count": null,
     "metadata": {},
     "output_type": "execute_result"
    }
   ],
   "source": [
    "ghapi.__version__"
   ]
  },
  {
   "cell_type": "code",
   "execution_count": null,
   "id": "attempted-glass",
   "metadata": {},
   "outputs": [],
   "source": [
    "import os\n",
    "def check_gh_auth():\n",
    "    ghauth = GhDeviceAuth()\n",
    "    if os.getenv('GITHUB_TOKEN') or ghauth.auth() is not None:\n",
    "        return True\n",
    "    else:\n",
    "        return False #User has not authenticated to GH github_auth_device()"
   ]
  },
  {
   "cell_type": "code",
   "execution_count": null,
   "id": "differential-lodging",
   "metadata": {},
   "outputs": [],
   "source": [
    "api = GhApi(owner='lc5415')"
   ]
  },
  {
   "cell_type": "code",
   "execution_count": null,
   "id": "heavy-punch",
   "metadata": {},
   "outputs": [
    {
     "ename": "HTTP404NotFoundError",
     "evalue": "HTTP Error 404: Not Found",
     "output_type": "error",
     "traceback": [
      "\u001b[0;31m---------------------------------------------------------------------------\u001b[0m",
      "\u001b[0;31mHTTP404NotFoundError\u001b[0m                      Traceback (most recent call last)",
      "\u001b[0;32m<ipython-input-162-8d8a34fb1969>\u001b[0m in \u001b[0;36m<module>\u001b[0;34m\u001b[0m\n\u001b[0;32m----> 1\u001b[0;31m \u001b[0mapi\u001b[0m\u001b[0;34m.\u001b[0m\u001b[0mgists\u001b[0m\u001b[0;34m.\u001b[0m\u001b[0mcreate\u001b[0m\u001b[0;34m(\u001b[0m\u001b[0mdescription\u001b[0m\u001b[0;34m=\u001b[0m\u001b[0;34m'ghapi.md'\u001b[0m\u001b[0;34m,\u001b[0m \u001b[0mfiles\u001b[0m\u001b[0;34m=\u001b[0m \u001b[0;34m'CONTRIBUTING.md'\u001b[0m\u001b[0;34m,\u001b[0m \u001b[0mpublic\u001b[0m \u001b[0;34m=\u001b[0m \u001b[0;32mFalse\u001b[0m\u001b[0;34m)\u001b[0m\u001b[0;34m\u001b[0m\u001b[0;34m\u001b[0m\u001b[0m\n\u001b[0m",
      "\u001b[0;32m~/.config/miniconda3/envs/nb2medium/lib/python3.9/site-packages/ghapi/core.py\u001b[0m in \u001b[0;36m__call__\u001b[0;34m(self, headers, *args, **kwargs)\u001b[0m\n\u001b[1;32m     59\u001b[0m         route_p,query_p,data_p = [{p:kwargs[p] for p in o if p in kwargs}\n\u001b[1;32m     60\u001b[0m                                  for o in (self.route_ps,self.params,d)]\n\u001b[0;32m---> 61\u001b[0;31m         \u001b[0;32mreturn\u001b[0m \u001b[0mself\u001b[0m\u001b[0;34m.\u001b[0m\u001b[0mclient\u001b[0m\u001b[0;34m(\u001b[0m\u001b[0mself\u001b[0m\u001b[0;34m.\u001b[0m\u001b[0mpath\u001b[0m\u001b[0;34m,\u001b[0m \u001b[0mself\u001b[0m\u001b[0;34m.\u001b[0m\u001b[0mverb\u001b[0m\u001b[0;34m,\u001b[0m \u001b[0mheaders\u001b[0m\u001b[0;34m=\u001b[0m\u001b[0mheaders\u001b[0m\u001b[0;34m,\u001b[0m \u001b[0mroute\u001b[0m\u001b[0;34m=\u001b[0m\u001b[0mroute_p\u001b[0m\u001b[0;34m,\u001b[0m \u001b[0mquery\u001b[0m\u001b[0;34m=\u001b[0m\u001b[0mquery_p\u001b[0m\u001b[0;34m,\u001b[0m \u001b[0mdata\u001b[0m\u001b[0;34m=\u001b[0m\u001b[0mdata_p\u001b[0m\u001b[0;34m)\u001b[0m\u001b[0;34m\u001b[0m\u001b[0;34m\u001b[0m\u001b[0m\n\u001b[0m\u001b[1;32m     62\u001b[0m \u001b[0;34m\u001b[0m\u001b[0m\n\u001b[1;32m     63\u001b[0m     \u001b[0;32mdef\u001b[0m \u001b[0m__str__\u001b[0m\u001b[0;34m(\u001b[0m\u001b[0mself\u001b[0m\u001b[0;34m)\u001b[0m\u001b[0;34m:\u001b[0m \u001b[0;32mreturn\u001b[0m \u001b[0;34mf'{self.tag}.{self.name}{signature(self)}\\n{self.doc_url}'\u001b[0m\u001b[0;34m\u001b[0m\u001b[0;34m\u001b[0m\u001b[0m\n",
      "\u001b[0;32m~/.config/miniconda3/envs/nb2medium/lib/python3.9/site-packages/ghapi/core.py\u001b[0m in \u001b[0;36m__call__\u001b[0;34m(self, path, verb, headers, route, query, data)\u001b[0m\n\u001b[1;32m    102\u001b[0m         \u001b[0mheaders\u001b[0m \u001b[0;34m=\u001b[0m \u001b[0;34m{\u001b[0m\u001b[0;34m**\u001b[0m\u001b[0mself\u001b[0m\u001b[0;34m.\u001b[0m\u001b[0mheaders\u001b[0m\u001b[0;34m,\u001b[0m\u001b[0;34m**\u001b[0m\u001b[0;34m(\u001b[0m\u001b[0mheaders\u001b[0m \u001b[0;32mor\u001b[0m \u001b[0;34m{\u001b[0m\u001b[0;34m}\u001b[0m\u001b[0;34m)\u001b[0m\u001b[0;34m}\u001b[0m\u001b[0;34m\u001b[0m\u001b[0;34m\u001b[0m\u001b[0m\n\u001b[1;32m    103\u001b[0m         \u001b[0;32mif\u001b[0m \u001b[0mpath\u001b[0m\u001b[0;34m[\u001b[0m\u001b[0;34m:\u001b[0m\u001b[0;36m7\u001b[0m\u001b[0;34m]\u001b[0m \u001b[0;32mnot\u001b[0m \u001b[0;32min\u001b[0m \u001b[0;34m(\u001b[0m\u001b[0;34m'http://'\u001b[0m\u001b[0;34m,\u001b[0m\u001b[0;34m'https:/'\u001b[0m\u001b[0;34m)\u001b[0m\u001b[0;34m:\u001b[0m \u001b[0mpath\u001b[0m \u001b[0;34m=\u001b[0m \u001b[0mGH_HOST\u001b[0m\u001b[0;34m+\u001b[0m\u001b[0mpath\u001b[0m\u001b[0;34m\u001b[0m\u001b[0;34m\u001b[0m\u001b[0m\n\u001b[0;32m--> 104\u001b[0;31m         res,self.recv_hdrs = urlsend(path, verb, headers=headers or None, debug=self.debug, return_headers=True,\n\u001b[0m\u001b[1;32m    105\u001b[0m                                      route=route or None, query=query or None, data=data or None)\n\u001b[1;32m    106\u001b[0m         \u001b[0;32mif\u001b[0m \u001b[0;34m'X-RateLimit-Remaining'\u001b[0m \u001b[0;32min\u001b[0m \u001b[0mself\u001b[0m\u001b[0;34m.\u001b[0m\u001b[0mrecv_hdrs\u001b[0m\u001b[0;34m:\u001b[0m\u001b[0;34m\u001b[0m\u001b[0;34m\u001b[0m\u001b[0m\n",
      "\u001b[0;32m~/.config/miniconda3/envs/nb2medium/lib/python3.9/site-packages/fastcore/net.py\u001b[0m in \u001b[0;36murlsend\u001b[0;34m(url, verb, headers, route, query, data, json_data, return_json, return_headers, debug)\u001b[0m\n\u001b[1;32m    173\u001b[0m     \u001b[0mreq\u001b[0m \u001b[0;34m=\u001b[0m \u001b[0murlrequest\u001b[0m\u001b[0;34m(\u001b[0m\u001b[0murl\u001b[0m\u001b[0;34m,\u001b[0m \u001b[0mverb\u001b[0m\u001b[0;34m,\u001b[0m \u001b[0mheaders\u001b[0m\u001b[0;34m,\u001b[0m \u001b[0mroute\u001b[0m\u001b[0;34m=\u001b[0m\u001b[0mroute\u001b[0m\u001b[0;34m,\u001b[0m \u001b[0mquery\u001b[0m\u001b[0;34m=\u001b[0m\u001b[0mquery\u001b[0m\u001b[0;34m,\u001b[0m \u001b[0mdata\u001b[0m\u001b[0;34m=\u001b[0m\u001b[0mdata\u001b[0m\u001b[0;34m,\u001b[0m \u001b[0mjson_data\u001b[0m\u001b[0;34m=\u001b[0m\u001b[0mjson_data\u001b[0m\u001b[0;34m)\u001b[0m\u001b[0;34m\u001b[0m\u001b[0;34m\u001b[0m\u001b[0m\n\u001b[1;32m    174\u001b[0m     \u001b[0;32mif\u001b[0m \u001b[0mdebug\u001b[0m\u001b[0;34m:\u001b[0m \u001b[0mdebug\u001b[0m\u001b[0;34m(\u001b[0m\u001b[0mreq\u001b[0m\u001b[0;34m)\u001b[0m\u001b[0;34m\u001b[0m\u001b[0;34m\u001b[0m\u001b[0m\n\u001b[0;32m--> 175\u001b[0;31m     \u001b[0;32mreturn\u001b[0m \u001b[0murlread\u001b[0m\u001b[0;34m(\u001b[0m\u001b[0mreq\u001b[0m\u001b[0;34m,\u001b[0m \u001b[0mreturn_json\u001b[0m\u001b[0;34m=\u001b[0m\u001b[0mreturn_json\u001b[0m\u001b[0;34m,\u001b[0m \u001b[0mreturn_headers\u001b[0m\u001b[0;34m=\u001b[0m\u001b[0mreturn_headers\u001b[0m\u001b[0;34m)\u001b[0m\u001b[0;34m\u001b[0m\u001b[0;34m\u001b[0m\u001b[0m\n\u001b[0m\u001b[1;32m    176\u001b[0m \u001b[0;34m\u001b[0m\u001b[0m\n\u001b[1;32m    177\u001b[0m \u001b[0;31m# Cell\u001b[0m\u001b[0;34m\u001b[0m\u001b[0;34m\u001b[0m\u001b[0;34m\u001b[0m\u001b[0m\n",
      "\u001b[0;32m~/.config/miniconda3/envs/nb2medium/lib/python3.9/site-packages/fastcore/net.py\u001b[0m in \u001b[0;36murlread\u001b[0;34m(url, data, headers, decode, return_json, return_headers, **kwargs)\u001b[0m\n\u001b[1;32m    110\u001b[0m         \u001b[0;32mwith\u001b[0m \u001b[0murlopen\u001b[0m\u001b[0;34m(\u001b[0m\u001b[0murl\u001b[0m\u001b[0;34m,\u001b[0m \u001b[0mdata\u001b[0m\u001b[0;34m=\u001b[0m\u001b[0mdata\u001b[0m\u001b[0;34m,\u001b[0m \u001b[0mheaders\u001b[0m\u001b[0;34m=\u001b[0m\u001b[0mheaders\u001b[0m\u001b[0;34m,\u001b[0m \u001b[0;34m**\u001b[0m\u001b[0mkwargs\u001b[0m\u001b[0;34m)\u001b[0m \u001b[0;32mas\u001b[0m \u001b[0mu\u001b[0m\u001b[0;34m:\u001b[0m \u001b[0mres\u001b[0m\u001b[0;34m,\u001b[0m\u001b[0mhdrs\u001b[0m \u001b[0;34m=\u001b[0m \u001b[0mu\u001b[0m\u001b[0;34m.\u001b[0m\u001b[0mread\u001b[0m\u001b[0;34m(\u001b[0m\u001b[0;34m)\u001b[0m\u001b[0;34m,\u001b[0m\u001b[0mu\u001b[0m\u001b[0;34m.\u001b[0m\u001b[0mheaders\u001b[0m\u001b[0;34m\u001b[0m\u001b[0;34m\u001b[0m\u001b[0m\n\u001b[1;32m    111\u001b[0m     \u001b[0;32mexcept\u001b[0m \u001b[0mHTTPError\u001b[0m \u001b[0;32mas\u001b[0m \u001b[0me\u001b[0m\u001b[0;34m:\u001b[0m\u001b[0;34m\u001b[0m\u001b[0;34m\u001b[0m\u001b[0m\n\u001b[0;32m--> 112\u001b[0;31m         \u001b[0;32mif\u001b[0m \u001b[0;36m400\u001b[0m \u001b[0;34m<=\u001b[0m \u001b[0me\u001b[0m\u001b[0;34m.\u001b[0m\u001b[0mcode\u001b[0m \u001b[0;34m<\u001b[0m \u001b[0;36m500\u001b[0m\u001b[0;34m:\u001b[0m \u001b[0;32mraise\u001b[0m \u001b[0mExceptionsHTTP\u001b[0m\u001b[0;34m[\u001b[0m\u001b[0me\u001b[0m\u001b[0;34m.\u001b[0m\u001b[0mcode\u001b[0m\u001b[0;34m]\u001b[0m\u001b[0;34m(\u001b[0m\u001b[0me\u001b[0m\u001b[0;34m.\u001b[0m\u001b[0murl\u001b[0m\u001b[0;34m,\u001b[0m \u001b[0me\u001b[0m\u001b[0;34m.\u001b[0m\u001b[0mhdrs\u001b[0m\u001b[0;34m,\u001b[0m \u001b[0me\u001b[0m\u001b[0;34m.\u001b[0m\u001b[0mfp\u001b[0m\u001b[0;34m)\u001b[0m \u001b[0;32mfrom\u001b[0m \u001b[0;32mNone\u001b[0m\u001b[0;34m\u001b[0m\u001b[0;34m\u001b[0m\u001b[0m\n\u001b[0m\u001b[1;32m    113\u001b[0m         \u001b[0;32melse\u001b[0m\u001b[0;34m:\u001b[0m \u001b[0;32mraise\u001b[0m\u001b[0;34m\u001b[0m\u001b[0;34m\u001b[0m\u001b[0m\n\u001b[1;32m    114\u001b[0m \u001b[0;34m\u001b[0m\u001b[0m\n",
      "\u001b[0;31mHTTP404NotFoundError\u001b[0m: HTTP Error 404: Not Found"
     ]
    }
   ],
   "source": [
    "api.gists.create(description='ghapi-test.md', files= 'CONTRIBUTING.md', public = False)"
   ]
  },
  {
   "cell_type": "code",
   "execution_count": null,
   "id": "african-typing",
   "metadata": {},
   "outputs": [],
   "source": []
  },
  {
   "cell_type": "code",
   "execution_count": null,
   "id": "postal-kansas",
   "metadata": {},
   "outputs": [],
   "source": []
  },
  {
   "cell_type": "code",
   "execution_count": null,
   "id": "nutritional-acrylic",
   "metadata": {},
   "outputs": [],
   "source": [
    "#export\n",
    "import keyring\n",
    "from ghapi.all import GhApi\n",
    "\n",
    "class GisterProcessor(Preprocessor):\n",
    "    \"\"\"\n",
    "    Preprocessor that detects the presence of the #gister tag and upload gist to user's github \n",
    "\n",
    "    \"\"\"\n",
    "    \n",
    "    mode = Unicode().tag(config = True) # , 'output', 'all'\n",
    "    patterns = List(Unicode(), default_value=[]).tag(config=True)\n",
    "    remove_metadata_fields = Set(\n",
    "        {'collapsed', 'scrolled'}\n",
    "    ).tag(config=True)\n",
    "\n",
    "    def check_conditions(self, cell):\n",
    "        \"\"\"\n",
    "        Checks that a cell matches the pattern.\n",
    "        Returns: Boolean.\n",
    "        True means cell should *not* be removed.\n",
    "        \"\"\"\n",
    "\n",
    "        # Compile all the patterns into one: each pattern is first wrapped\n",
    "        # by a non-capturing group to ensure the correct order of precedence\n",
    "        # and the patterns are joined with a logical or\n",
    "        pattern = re.compile('|'.join('(?:%s)' % pattern\n",
    "                             for pattern in self.patterns))\n",
    "\n",
    "        # Filter out cells that meet the pattern and have no outputs\n",
    "        return pattern.match(cell.source)     \n",
    "    \n",
    "    def preprocess_cell(self, cell, resources, cell_index):\n",
    "        \"\"\"\n",
    "        Preprocessing to apply to each cell.\n",
    "        \"\"\"\n",
    "        # Skip preprocessing if the list of patterns is empty\n",
    "        if not self.patterns:\n",
    "            return cell, resources\n",
    "        \n",
    "        if self.mode == 'source': \n",
    "            cell, resources = self.hide_source(cell, resources)\n",
    "        elif self.mode == 'output': \n",
    "            cell, resources = self.hide_output(cell, resources)\n",
    "        elif self.mode == 'cell' or self.mode == 'all':\n",
    "            cell, resources = self.hide_cell(cell, resources)\n",
    "        \n",
    "        return cell, resources\n",
    "    \n",
    "    def hide_source(self, cell, resources):\n",
    "        \n",
    "        if self.check_conditions(cell):\n",
    "            cell.metadata.tags = ['hide-source']\n",
    "            \n",
    "        return cell, resources\n",
    "        \n",
    "    def hide_output(self, cell, resources):\n",
    "        \n",
    "        if cell.cell_type == 'code' and self.check_conditions(cell):\n",
    "            cell.metadata.tags = ['hide-output']\n",
    "                    \n",
    "        return cell, resources\n",
    "    \n",
    "    def hide_cell(self, cell, resources):\n",
    "        \n",
    "        if self.check_conditions(cell):\n",
    "            cell.metadata.tags = ['hide-cell']\n",
    "            \n",
    "        return cell, resources"
   ]
  },
  {
   "cell_type": "markdown",
   "id": "unique-symphony",
   "metadata": {},
   "source": [
    "### Image (no tags needed)"
   ]
  },
  {
   "cell_type": "code",
   "execution_count": null,
   "id": "supposed-probability",
   "metadata": {},
   "outputs": [],
   "source": []
  },
  {
   "cell_type": "markdown",
   "id": "involved-clark",
   "metadata": {},
   "source": [
    "## Wrapping preprocessors and the Exporter"
   ]
  },
  {
   "cell_type": "code",
   "execution_count": null,
   "id": "natural-albania",
   "metadata": {},
   "outputs": [],
   "source": [
    "#export\n",
    "def register_preprocessors(markdown_exporter,\n",
    "                           preprocessors = [\n",
    "                               hide_cell_with_no_output,\n",
    "                               \n",
    "                           ]):\n",
    "    \"\"\"\n",
    "    Iterates through the `register_preprocessor` given a bunch of preprocessors\n",
    "    \"\"\"\n",
    "    for p in preprocessors:\n",
    "        m.register_preprocessor(p, enabled = True)\n",
    "    return m"
   ]
  }
 ],
 "metadata": {
  "kernelspec": {
   "display_name": "Python 3",
   "language": "python",
   "name": "python3"
  }
 },
 "nbformat": 4,
 "nbformat_minor": 5
}
