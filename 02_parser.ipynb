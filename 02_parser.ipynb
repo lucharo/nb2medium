{
 "cells": [
  {
   "cell_type": "code",
   "execution_count": null,
   "id": "searching-training",
   "metadata": {},
   "outputs": [],
   "source": [
    "# default_exp parser"
   ]
  },
  {
   "cell_type": "markdown",
   "id": "minute-housing",
   "metadata": {},
   "source": [
    "# Parser\n",
    "\n",
    "> After converting the Jupyter Notebook into a Markdown document in order to submit it as an article, some parsing of code cells needs to be parsed, especially regarding images and code blocks"
   ]
  },
  {
   "cell_type": "code",
   "execution_count": null,
   "id": "knowing-idaho",
   "metadata": {},
   "outputs": [],
   "source": [
    "#hide\n",
    "from nbdev.showdoc import *"
   ]
  },
  {
   "cell_type": "code",
   "execution_count": null,
   "id": "continuous-contribution",
   "metadata": {},
   "outputs": [],
   "source": []
  }
 ],
 "metadata": {
  "kernelspec": {
   "display_name": "Python 3",
   "language": "python",
   "name": "python3"
  }
 },
 "nbformat": 4,
 "nbformat_minor": 5
}
