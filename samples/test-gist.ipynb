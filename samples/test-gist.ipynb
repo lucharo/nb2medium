{
 "cells": [
  {
   "cell_type": "markdown",
   "id": "faced-spain",
   "metadata": {},
   "source": [
    "## Uploading cells as gists            "
   ]
  },
  {
   "cell_type": "code",
   "execution_count": null,
   "id": "radical-ghana",
   "metadata": {},
   "outputs": [
    {
     "data": {
      "text/plain": [
       "4"
      ]
     },
     "execution_count": null,
     "metadata": {},
     "output_type": "execute_result"
    }
   ],
   "source": [
    "# %gist description: nb2medium-test gistname: script.py\n",
    "a = 1\n",
    "b = 2\n",
    "c = a*b**b\n",
    "c"
   ]
  }
 ],
 "metadata": {
  "kernelspec": {
   "display_name": "Python 3",
   "language": "python",
   "name": "python3"
  }
 },
 "nbformat": 4,
 "nbformat_minor": 5
}
