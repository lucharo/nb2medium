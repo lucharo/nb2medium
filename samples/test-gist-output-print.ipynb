{
 "cells": [
  {
   "cell_type": "markdown",
   "id": "faced-spain",
   "metadata": {},
   "source": [
    "## Uploading cells as gists            "
   ]
  },
  {
   "cell_type": "code",
   "execution_count": null,
   "id": "radical-ghana",
   "metadata": {},
   "outputs": [
    {
     "name": "stdout",
     "output_type": "stream",
     "text": [
      "[2, 2, 1, 2, 2, 3, 4, 421, 3, 12, 121, 2, 12, 12, 13, 13, 1, 31, 3, 13]\n"
     ]
    }
   ],
   "source": [
    "# %gist description: my python script gistname: script.py upload: both\n",
    "a = 1\n",
    "b = 2\n",
    "c = a*b**b\n",
    "c = [2,2,1,2,2,3,4,421,3,12,121,2,12,12,13,13,1,31,3,13]\n",
    "print(c)"
   ]
  }
 ],
 "metadata": {
  "kernelspec": {
   "display_name": "Python 3",
   "language": "python",
   "name": "python3"
  }
 },
 "nbformat": 4,
 "nbformat_minor": 5
}
