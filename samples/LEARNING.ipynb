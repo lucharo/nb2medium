{
 "cells": [
  {
   "cell_type": "markdown",
   "id": "consecutive-closer",
   "metadata": {},
   "source": [
    "Summary of the things I learn while writing this package\n",
    "\n",
    "# Medium API\n",
    "\n",
    "## Where can I get a Medium API token?\n",
    "\n",
    "To get a token for your Medium account you will need to go to: __Settings > Integration tokens__, then create a new integration token. You can give your token any name but I propose using something like `nb2medium`.\n",
    "\n",
    "If this option is not available by default you may need to:\n",
    "> Users can request an access token by emailing yourfriends@medium.com. We will then grant access on the Settings page of their Medium account.\n",
    "\n",
    "## Where can I read the Medium API documentation?\n",
    "\n",
    "[Medium's Github](https://github.com/Medium/medium-api-docs)\n",
    "\n",
    "## What is REST API?\n",
    "\n",
    "From [stackify.com](https://stackify.com/rest-api-tutorial/):\n",
    "> Even though REpresentational State Transfer, also known as REST, is often referred to as a protocol, it’s an architectural style. It defines how applications communicate over the Hypertext Transfer Protocol (HTTP). Applications that use REST are loosely-coupled and transfer information quickly and efficiently. While REST doesn’t define data formats, it’s usually associated with exchanging JSON or XML documents between a client and a server.\n",
    "\n",
    "## How to authenticate to Medium API from command line\n",
    "\n",
    "First of all the access/integration token needs to be used for all communications. Now, how do we pass the token to the server?"
   ]
  },
  {
   "cell_type": "code",
   "execution_count": null,
   "id": "genuine-practitioner",
   "metadata": {},
   "outputs": [
    {
     "name": "stdout",
     "output_type": "stream",
     "text": [
      "{\"data\":{\"id\":\"1e344db7dfd2a8efa9698a758030e05e28ff4c396f1f87f003704e0a8a80b9656\",\"username\":\"lucha6\",\"name\":\"Luis Chaves\",\"url\":\"https://medium.com/@lucha6\",\"imageUrl\":\"https://cdn-images-1.medium.com/fit/c/400/400/0*rM2cEh8f6ZQMOAZK.jpg\"}}"
     ]
    }
   ],
   "source": [
    "%%sh \n",
    "curl -s -H \"Authorization: Bearer $MEDIUM_TOKEN\" https://api.medium.com/v1/me "
   ]
  },
  {
   "cell_type": "markdown",
   "id": "combined-cigarette",
   "metadata": {},
   "source": [
    "This command will return info about the user (yourself if you're not malicious) as a JSON.\n",
    "\n",
    "`MEDIUM_TOKEN` in this case is an environment variable stored in my computer.\n",
    "\n",
    "curl docs for these options:\n",
    "```\n",
    "-s, --silent\n",
    "      Silent or quiet mode. Don't show progress meter or error messages.  Makes Curl mute. It will still output the data you\n",
    "      ask for, potentially even to the terminal/stdout unless you redirect it.\n",
    "\n",
    "      Use -S, --show-error in addition to this option to disable progress meter but still show error messages.\n",
    "\n",
    "      See also -v, --verbose and --stderr.\n",
    "-H, --header <header/@file>\n",
    "              (HTTP) Extra header to include in the request when sending HTTP to a server. You may specify any number of extra head‐\n",
    "              ers. Note that if you should add a custom header that has the same name as one of the internal ones  curl  would  use,\n",
    "              your  externally set header will be used instead of the internal one. This allows you to make even trickier stuff than\n",
    "              curl would normally do. You should not replace internally set headers without knowing perfectly well what  you're  do‐\n",
    "              ing.  Remove  an  internal  header  by  giving a replacement without content on the right side of the colon, as in: -H\n",
    "              \"Host:\". If you send the custom header with no-value then its header must be terminated with a semicolon, such  as  -H\n",
    "              \"X-Custom-Header;\" to send \"X-Custom-Header:\".\n",
    "```"
   ]
  },
  {
   "cell_type": "markdown",
   "id": "lesser-ethics",
   "metadata": {},
   "source": [
    "Also, I think the [Medium documentation](https://github.com/Medium/medium-api-docs#31-users) does not clearly show how to do this (if you are like me with no Web experience)\n",
    "\n",
    "### The command line thinks the output is just text and print its uglily? How can I pretty print?\n",
    "\n",
    "Using [`jq`](https://ostechnix.com/how-to-parse-and-pretty-print-json-with-linux-commandline-tools/) and piping the `curl` stdout into it:"
   ]
  },
  {
   "cell_type": "code",
   "execution_count": null,
   "id": "fitting-exception",
   "metadata": {},
   "outputs": [
    {
     "name": "stdout",
     "output_type": "stream",
     "text": [
      "\u001b[1;39m{\n",
      "  \u001b[0m\u001b[34;1m\"data\"\u001b[0m\u001b[1;39m: \u001b[0m\u001b[1;39m{\n",
      "    \u001b[0m\u001b[34;1m\"id\"\u001b[0m\u001b[1;39m: \u001b[0m\u001b[0;32m\"1e344db7dfd2a8efa9698a758030e05e28ff4c396f1f87f003704e0a8a80b9656\"\u001b[0m\u001b[1;39m,\n",
      "    \u001b[0m\u001b[34;1m\"username\"\u001b[0m\u001b[1;39m: \u001b[0m\u001b[0;32m\"lucha6\"\u001b[0m\u001b[1;39m,\n",
      "    \u001b[0m\u001b[34;1m\"name\"\u001b[0m\u001b[1;39m: \u001b[0m\u001b[0;32m\"Luis Chaves\"\u001b[0m\u001b[1;39m,\n",
      "    \u001b[0m\u001b[34;1m\"url\"\u001b[0m\u001b[1;39m: \u001b[0m\u001b[0;32m\"https://medium.com/@lucha6\"\u001b[0m\u001b[1;39m,\n",
      "    \u001b[0m\u001b[34;1m\"imageUrl\"\u001b[0m\u001b[1;39m: \u001b[0m\u001b[0;32m\"https://cdn-images-1.medium.com/fit/c/400/400/0*rM2cEh8f6ZQMOAZK.jpg\"\u001b[0m\u001b[1;39m\n",
      "  \u001b[1;39m}\u001b[0m\u001b[1;39m\n",
      "\u001b[1;39m}\u001b[0m\n"
     ]
    }
   ],
   "source": [
    "!curl -s -H \"Authorization: Bearer $MEDIUM_TOKEN\" https://api.medium.com/v1/me | jq"
   ]
  },
  {
   "cell_type": "markdown",
   "id": "quarterly-community",
   "metadata": {},
   "source": [
    "### How to get publications from your account?\n",
    "\n",
    "In the Medium jargon, publications is more akin to an Editor or publisher, not an article by itself (e.g. Towards Data Science, Towards AI, JavaScript in English...)"
   ]
  },
  {
   "cell_type": "code",
   "execution_count": null,
   "id": "neural-motivation",
   "metadata": {},
   "outputs": [
    {
     "name": "stdout",
     "output_type": "stream",
     "text": [
      "  % Total    % Received % Xferd  Average Speed   Time    Time     Time  Current\n",
      "                                 Dload  Upload   Total   Spent    Left  Speed\n",
      "100  3276    0  3276    0     0  14181      0 --:--:-- --:--:-- --:--:-- 14243\n",
      "\u001b[1;39m{\n",
      "  \u001b[0m\u001b[34;1m\"data\"\u001b[0m\u001b[1;39m: \u001b[0m\u001b[1;39m[\n",
      "    \u001b[1;39m{\n",
      "      \u001b[0m\u001b[34;1m\"id\"\u001b[0m\u001b[1;39m: \u001b[0m\u001b[0;32m\"7f60cf5620c9\"\u001b[0m\u001b[1;39m,\n",
      "      \u001b[0m\u001b[34;1m\"name\"\u001b[0m\u001b[1;39m: \u001b[0m\u001b[0;32m\"Towards Data Science\"\u001b[0m\u001b[1;39m,\n",
      "      \u001b[0m\u001b[34;1m\"description\"\u001b[0m\u001b[1;39m: \u001b[0m\u001b[0;32m\"A Medium publication sharing concepts, ideas, and codes.\"\u001b[0m\u001b[1;39m,\n",
      "      \u001b[0m\u001b[34;1m\"url\"\u001b[0m\u001b[1;39m: \u001b[0m\u001b[0;32m\"https://medium.com/towards-data-science\"\u001b[0m\u001b[1;39m,\n",
      "      \u001b[0m\u001b[34;1m\"imageUrl\"\u001b[0m\u001b[1;39m: \u001b[0m\u001b[0;32m\"https://cdn-images-1.medium.com/fit/c/400/400/1*hVxgUA6kP-PgL5TJjuyePg.png\"\u001b[0m\u001b[1;39m\n",
      "    \u001b[1;39m}\u001b[0m\u001b[1;39m,\n",
      "    \u001b[1;39m{\n",
      "      \u001b[0m\u001b[34;1m\"id\"\u001b[0m\u001b[1;39m: \u001b[0m\u001b[0;32m\"4b3a1ed4f11c\"\u001b[0m\u001b[1;39m,\n",
      "      \u001b[0m\u001b[34;1m\"name\"\u001b[0m\u001b[1;39m: \u001b[0m\u001b[0;32m\"JavaScript In Plain English\"\u001b[0m\u001b[1;39m,\n",
      "      \u001b[0m\u001b[34;1m\"description\"\u001b[0m\u001b[1;39m: \u001b[0m\u001b[0;32m\"New JavaScript + Web Development articles every day.\"\u001b[0m\u001b[1;39m,\n",
      "      \u001b[0m\u001b[34;1m\"url\"\u001b[0m\u001b[1;39m: \u001b[0m\u001b[0;32m\"https://medium.com/javascript-in-plain-english\"\u001b[0m\u001b[1;39m,\n",
      "      \u001b[0m\u001b[34;1m\"imageUrl\"\u001b[0m\u001b[1;39m: \u001b[0m\u001b[0;32m\"https://cdn-images-1.medium.com/fit/c/400/400/1*4F1ZAI1i-eruO4PnbNvTZg@2x.png\"\u001b[0m\u001b[1;39m\n",
      "    \u001b[1;39m}\u001b[0m\u001b[1;39m,\n",
      "    \u001b[1;39m{\n",
      "      \u001b[0m\u001b[34;1m\"id\"\u001b[0m\u001b[1;39m: \u001b[0m\u001b[0;32m\"261e46dce6ca\"\u001b[0m\u001b[1;39m,\n",
      "      \u001b[0m\u001b[34;1m\"name\"\u001b[0m\u001b[1;39m: \u001b[0m\u001b[0;32m\"<pretty/code>\"\u001b[0m\u001b[1;39m,\n",
      "      \u001b[0m\u001b[34;1m\"description\"\u001b[0m\u001b[1;39m: \u001b[0m\u001b[0;32m\"Topics centered around Ruby, Rails, Coffeescript, Vim, Tmux and Productivity.\"\u001b[0m\u001b[1;39m,\n",
      "      \u001b[0m\u001b[34;1m\"url\"\u001b[0m\u001b[1;39m: \u001b[0m\u001b[0;32m\"https://medium.com/raise-coffee\"\u001b[0m\u001b[1;39m,\n",
      "      \u001b[0m\u001b[34;1m\"imageUrl\"\u001b[0m\u001b[1;39m: \u001b[0m\u001b[0;32m\"https://cdn-images-1.medium.com/fit/c/400/400/1*pLo2lxSseBKg09Nc_1EOlw.png\"\u001b[0m\u001b[1;39m\n",
      "    \u001b[1;39m}\u001b[0m\u001b[1;39m,\n",
      "    \u001b[1;39m{\n",
      "      \u001b[0m\u001b[34;1m\"id\"\u001b[0m\u001b[1;39m: \u001b[0m\u001b[0;32m\"3a8144eabfe3\"\u001b[0m\u001b[1;39m,\n",
      "      \u001b[0m\u001b[34;1m\"name\"\u001b[0m\u001b[1;39m: \u001b[0m\u001b[0;32m\"HackerNoon.com\"\u001b[0m\u001b[1;39m,\n",
      "      \u001b[0m\u001b[34;1m\"description\"\u001b[0m\u001b[1;39m: \u001b[0m\u001b[0;32m\"Elijah McClain, George Floyd, Eric Garner, Breonna Taylor, Ahmaud Arbery, Michael Brown, Oscar Grant, Atatiana Jefferson, Tamir Rice, Bettie Jones, Botham Jean\"\u001b[0m\u001b[1;39m,\n",
      "      \u001b[0m\u001b[34;1m\"url\"\u001b[0m\u001b[1;39m: \u001b[0m\u001b[0;32m\"https://medium.com/hackernoon\"\u001b[0m\u001b[1;39m,\n",
      "      \u001b[0m\u001b[34;1m\"imageUrl\"\u001b[0m\u001b[1;39m: \u001b[0m\u001b[0;32m\"https://cdn-images-1.medium.com/fit/c/400/400/1*76XiKOa05Yya6_CdYX8pVg.jpeg\"\u001b[0m\u001b[1;39m\n",
      "    \u001b[1;39m}\u001b[0m\u001b[1;39m,\n",
      "    \u001b[1;39m{\n",
      "      \u001b[0m\u001b[34;1m\"id\"\u001b[0m\u001b[1;39m: \u001b[0m\u001b[0;32m\"5517fd7b58a6\"\u001b[0m\u001b[1;39m,\n",
      "      \u001b[0m\u001b[34;1m\"name\"\u001b[0m\u001b[1;39m: \u001b[0m\u001b[0;32m\"Level Up Coding\"\u001b[0m\u001b[1;39m,\n",
      "      \u001b[0m\u001b[34;1m\"description\"\u001b[0m\u001b[1;39m: \u001b[0m\u001b[0;32m\"Coding tutorials and news. The developer homepage gitconnected.com\"\u001b[0m\u001b[1;39m,\n",
      "      \u001b[0m\u001b[34;1m\"url\"\u001b[0m\u001b[1;39m: \u001b[0m\u001b[0;32m\"https://medium.com/gitconnected\"\u001b[0m\u001b[1;39m,\n",
      "      \u001b[0m\u001b[34;1m\"imageUrl\"\u001b[0m\u001b[1;39m: \u001b[0m\u001b[0;32m\"https://cdn-images-1.medium.com/fit/c/400/400/1*5D9oYBd58pyjMkV_5-zXXQ.jpeg\"\u001b[0m\u001b[1;39m\n",
      "    \u001b[1;39m}\u001b[0m\u001b[1;39m,\n",
      "    \u001b[1;39m{\n",
      "      \u001b[0m\u001b[34;1m\"id\"\u001b[0m\u001b[1;39m: \u001b[0m\u001b[0;32m\"8d6b8a439e32\"\u001b[0m\u001b[1;39m,\n",
      "      \u001b[0m\u001b[34;1m\"name\"\u001b[0m\u001b[1;39m: \u001b[0m\u001b[0;32m\"Elemental\"\u001b[0m\u001b[1;39m,\n",
      "      \u001b[0m\u001b[34;1m\"description\"\u001b[0m\u001b[1;39m: \u001b[0m\u001b[0;32m\"Your life, sourced by science. A publication from Medium about health and wellness.\"\u001b[0m\u001b[1;39m,\n",
      "      \u001b[0m\u001b[34;1m\"url\"\u001b[0m\u001b[1;39m: \u001b[0m\u001b[0;32m\"https://medium.com/elemental-by-medium\"\u001b[0m\u001b[1;39m,\n",
      "      \u001b[0m\u001b[34;1m\"imageUrl\"\u001b[0m\u001b[1;39m: \u001b[0m\u001b[0;32m\"https://cdn-images-1.medium.com/fit/c/400/400/1*GhG8ZeoE0TGfCHwL9SCrfw.png\"\u001b[0m\u001b[1;39m\n",
      "    \u001b[1;39m}\u001b[0m\u001b[1;39m,\n",
      "    \u001b[1;39m{\n",
      "      \u001b[0m\u001b[34;1m\"id\"\u001b[0m\u001b[1;39m: \u001b[0m\u001b[0;32m\"98111c9905da\"\u001b[0m\u001b[1;39m,\n",
      "      \u001b[0m\u001b[34;1m\"name\"\u001b[0m\u001b[1;39m: \u001b[0m\u001b[0;32m\"Towards AI\"\u001b[0m\u001b[1;39m,\n",
      "      \u001b[0m\u001b[34;1m\"description\"\u001b[0m\u001b[1;39m: \u001b[0m\u001b[0;32m\"Towards AI is the world’s leading multidisciplinary science publication. Towards AI publishes the best of tech, science, and engineering. Read by thought-leaders and decision-makers around the world.\"\u001b[0m\u001b[1;39m,\n",
      "      \u001b[0m\u001b[34;1m\"url\"\u001b[0m\u001b[1;39m: \u001b[0m\u001b[0;32m\"https://medium.com/towards-artificial-intelligence\"\u001b[0m\u001b[1;39m,\n",
      "      \u001b[0m\u001b[34;1m\"imageUrl\"\u001b[0m\u001b[1;39m: \u001b[0m\u001b[0;32m\"https://cdn-images-1.medium.com/fit/c/400/400/1*JyIThO-cLjlChQLb6kSlVQ.png\"\u001b[0m\u001b[1;39m\n",
      "    \u001b[1;39m}\u001b[0m\u001b[1;39m,\n",
      "    \u001b[1;39m{\n",
      "      \u001b[0m\u001b[34;1m\"id\"\u001b[0m\u001b[1;39m: \u001b[0m\u001b[0;32m\"b7e45b22fec3\"\u001b[0m\u001b[1;39m,\n",
      "      \u001b[0m\u001b[34;1m\"name\"\u001b[0m\u001b[1;39m: \u001b[0m\u001b[0;32m\"Creators Hub\"\u001b[0m\u001b[1;39m,\n",
      "      \u001b[0m\u001b[34;1m\"description\"\u001b[0m\u001b[1;39m: \u001b[0m\u001b[0;32m\"The Creators Hub is your source of ongoing education and inspiration to help your presence on Medium grow and support your creative practice. You’ll find tips on the craft of writing, spotlights on thinkers across the platform, and advice from Medium editors and fellow writers.\"\u001b[0m\u001b[1;39m,\n",
      "      \u001b[0m\u001b[34;1m\"url\"\u001b[0m\u001b[1;39m: \u001b[0m\u001b[0;32m\"https://medium.com/creators-hub\"\u001b[0m\u001b[1;39m,\n",
      "      \u001b[0m\u001b[34;1m\"imageUrl\"\u001b[0m\u001b[1;39m: \u001b[0m\u001b[0;32m\"https://cdn-images-1.medium.com/fit/c/400/400/1*8Zti0Ox8AfGECDO_O1Ifug.png\"\u001b[0m\u001b[1;39m\n",
      "    \u001b[1;39m}\u001b[0m\u001b[1;39m,\n",
      "    \u001b[1;39m{\n",
      "      \u001b[0m\u001b[34;1m\"id\"\u001b[0m\u001b[1;39m: \u001b[0m\u001b[0;32m\"d0b105d10f0a\"\u001b[0m\u001b[1;39m,\n",
      "      \u001b[0m\u001b[34;1m\"name\"\u001b[0m\u001b[1;39m: \u001b[0m\u001b[0;32m\"Better Programming\"\u001b[0m\u001b[1;39m,\n",
      "      \u001b[0m\u001b[34;1m\"description\"\u001b[0m\u001b[1;39m: \u001b[0m\u001b[0;32m\"Advice for programmers.\"\u001b[0m\u001b[1;39m,\n",
      "      \u001b[0m\u001b[34;1m\"url\"\u001b[0m\u001b[1;39m: \u001b[0m\u001b[0;32m\"https://medium.com/better-programming\"\u001b[0m\u001b[1;39m,\n",
      "      \u001b[0m\u001b[34;1m\"imageUrl\"\u001b[0m\u001b[1;39m: \u001b[0m\u001b[0;32m\"https://cdn-images-1.medium.com/fit/c/400/400/1*TyRLQdZO7NdPATwSeut8gg.png\"\u001b[0m\u001b[1;39m\n",
      "    \u001b[1;39m}\u001b[0m\u001b[1;39m,\n",
      "    \u001b[1;39m{\n",
      "      \u001b[0m\u001b[34;1m\"id\"\u001b[0m\u001b[1;39m: \u001b[0m\u001b[0;32m\"f5105b08f43a\"\u001b[0m\u001b[1;39m,\n",
      "      \u001b[0m\u001b[34;1m\"name\"\u001b[0m\u001b[1;39m: \u001b[0m\u001b[0;32m\"DailyJS\"\u001b[0m\u001b[1;39m,\n",
      "      \u001b[0m\u001b[34;1m\"description\"\u001b[0m\u001b[1;39m: \u001b[0m\u001b[0;32m\"JavaScript news and opinion.\"\u001b[0m\u001b[1;39m,\n",
      "      \u001b[0m\u001b[34;1m\"url\"\u001b[0m\u001b[1;39m: \u001b[0m\u001b[0;32m\"https://medium.com/dailyjs\"\u001b[0m\u001b[1;39m,\n",
      "      \u001b[0m\u001b[34;1m\"imageUrl\"\u001b[0m\u001b[1;39m: \u001b[0m\u001b[0;32m\"https://cdn-images-1.medium.com/fit/c/400/400/1*3RTyL2e-UvYez9Qo4YuFiA.png\"\u001b[0m\u001b[1;39m\n",
      "    \u001b[1;39m}\u001b[0m\u001b[1;39m,\n",
      "    \u001b[1;39m{\n",
      "      \u001b[0m\u001b[34;1m\"id\"\u001b[0m\u001b[1;39m: \u001b[0m\u001b[0;32m\"f5af2b715248\"\u001b[0m\u001b[1;39m,\n",
      "      \u001b[0m\u001b[34;1m\"name\"\u001b[0m\u001b[1;39m: \u001b[0m\u001b[0;32m\"The Startup\"\u001b[0m\u001b[1;39m,\n",
      "      \u001b[0m\u001b[34;1m\"description\"\u001b[0m\u001b[1;39m: \u001b[0m\u001b[0;32m\"Medium's largest active publication, followed by +759K people. Follow to join our community.\"\u001b[0m\u001b[1;39m,\n",
      "      \u001b[0m\u001b[34;1m\"url\"\u001b[0m\u001b[1;39m: \u001b[0m\u001b[0;32m\"https://medium.com/swlh\"\u001b[0m\u001b[1;39m,\n",
      "      \u001b[0m\u001b[34;1m\"imageUrl\"\u001b[0m\u001b[1;39m: \u001b[0m\u001b[0;32m\"https://cdn-images-1.medium.com/fit/c/400/400/1*Xd2uZaVHfrGOP14W_3UQRg.jpeg\"\u001b[0m\u001b[1;39m\n",
      "    \u001b[1;39m}\u001b[0m\u001b[1;39m\n",
      "  \u001b[1;39m]\u001b[0m\u001b[1;39m\n",
      "\u001b[1;39m}\u001b[0m\n"
     ]
    }
   ],
   "source": [
    "!curl -H \"Authorization: Bearer $MEDIUM_TOKEN\" \"https://api.medium.com/v1/users/$MEDIUM_USER_ID/publications\" | jq"
   ]
  },
  {
   "cell_type": "markdown",
   "id": "competent-brother",
   "metadata": {},
   "source": [
    "The Medium User ID can be retrieved from the first request, the one that fetches info about the user (the `id` entry).\n",
    "\n",
    "### How to post an article via the API?\n",
    "\n",
    "[Using the POST method:](https://github.com/Medium/medium-api-docs#33-posts)"
   ]
  },
  {
   "cell_type": "code",
   "execution_count": null,
   "id": "fundamental-azerbaijan",
   "metadata": {},
   "outputs": [
    {
     "name": "stdout",
     "output_type": "stream",
     "text": [
      "  % Total    % Received % Xferd  Average Speed   Time    Time     Time  Current\n",
      "                                 Dload  Upload   Total   Spent    Left  Speed\n",
      "100   408  100   318  100    90    739    209 --:--:-- --:--:-- --:--:--   946\n",
      "\u001b[1;39m{\n",
      "  \u001b[0m\u001b[34;1m\"data\"\u001b[0m\u001b[1;39m: \u001b[0m\u001b[1;39m{\n",
      "    \u001b[0m\u001b[34;1m\"id\"\u001b[0m\u001b[1;39m: \u001b[0m\u001b[0;32m\"341ca4f44950\"\u001b[0m\u001b[1;39m,\n",
      "    \u001b[0m\u001b[34;1m\"title\"\u001b[0m\u001b[1;39m: \u001b[0m\u001b[0;32m\"TestAPI\"\u001b[0m\u001b[1;39m,\n",
      "    \u001b[0m\u001b[34;1m\"authorId\"\u001b[0m\u001b[1;39m: \u001b[0m\u001b[0;32m\"1e344db7dfd2a8efa9698a758030e05e28ff4c396f1f87f003704e0a8a80b9656\"\u001b[0m\u001b[1;39m,\n",
      "    \u001b[0m\u001b[34;1m\"url\"\u001b[0m\u001b[1;39m: \u001b[0m\u001b[0;32m\"https://medium.com/@lucha6/341ca4f44950\"\u001b[0m\u001b[1;39m,\n",
      "    \u001b[0m\u001b[34;1m\"canonicalUrl\"\u001b[0m\u001b[1;39m: \u001b[0m\u001b[0;32m\"\"\u001b[0m\u001b[1;39m,\n",
      "    \u001b[0m\u001b[34;1m\"publishStatus\"\u001b[0m\u001b[1;39m: \u001b[0m\u001b[0;32m\"draft\"\u001b[0m\u001b[1;39m,\n",
      "    \u001b[0m\u001b[34;1m\"license\"\u001b[0m\u001b[1;39m: \u001b[0m\u001b[0;32m\"\"\u001b[0m\u001b[1;39m,\n",
      "    \u001b[0m\u001b[34;1m\"licenseUrl\"\u001b[0m\u001b[1;39m: \u001b[0m\u001b[0;32m\"https://policy.medium.com/medium-terms-of-service-9db0094a1e0f\"\u001b[0m\u001b[1;39m,\n",
      "    \u001b[0m\u001b[34;1m\"tags\"\u001b[0m\u001b[1;39m: \u001b[0m\u001b[1;39m[]\u001b[0m\u001b[1;39m\n",
      "  \u001b[1;39m}\u001b[0m\u001b[1;39m\n",
      "\u001b[1;39m}\u001b[0m\n"
     ]
    }
   ],
   "source": [
    "!curl -X POST \\\n",
    "        -H \"Authorization: Bearer $MEDIUM_TOKEN\" \\\n",
    "        -d 'title=TestAPI&contentFormat=markdown&content=# I can post from the CLI&publishStatus=draft' \\\n",
    "        \"https://api.medium.com/v1/users/$MEDIUM_USER_ID/posts\" | jq"
   ]
  },
  {
   "cell_type": "markdown",
   "id": "preceding-cinema",
   "metadata": {},
   "source": [
    "Which could also look like:"
   ]
  },
  {
   "cell_type": "code",
   "execution_count": null,
   "id": "several-stick",
   "metadata": {},
   "outputs": [
    {
     "name": "stdout",
     "output_type": "stream",
     "text": [
      "  % Total    % Received % Xferd  Average Speed   Time    Time     Time  Current\n",
      "                                 Dload  Upload   Total   Spent    Left  Speed\n",
      "100   408  100   318  100    90    659    186 --:--:-- --:--:-- --:--:--   846\n",
      "\u001b[1;39m{\n",
      "  \u001b[0m\u001b[34;1m\"data\"\u001b[0m\u001b[1;39m: \u001b[0m\u001b[1;39m{\n",
      "    \u001b[0m\u001b[34;1m\"id\"\u001b[0m\u001b[1;39m: \u001b[0m\u001b[0;32m\"576f454033d7\"\u001b[0m\u001b[1;39m,\n",
      "    \u001b[0m\u001b[34;1m\"title\"\u001b[0m\u001b[1;39m: \u001b[0m\u001b[0;32m\"TestAPI\"\u001b[0m\u001b[1;39m,\n",
      "    \u001b[0m\u001b[34;1m\"authorId\"\u001b[0m\u001b[1;39m: \u001b[0m\u001b[0;32m\"1e344db7dfd2a8efa9698a758030e05e28ff4c396f1f87f003704e0a8a80b9656\"\u001b[0m\u001b[1;39m,\n",
      "    \u001b[0m\u001b[34;1m\"url\"\u001b[0m\u001b[1;39m: \u001b[0m\u001b[0;32m\"https://medium.com/@lucha6/576f454033d7\"\u001b[0m\u001b[1;39m,\n",
      "    \u001b[0m\u001b[34;1m\"canonicalUrl\"\u001b[0m\u001b[1;39m: \u001b[0m\u001b[0;32m\"\"\u001b[0m\u001b[1;39m,\n",
      "    \u001b[0m\u001b[34;1m\"publishStatus\"\u001b[0m\u001b[1;39m: \u001b[0m\u001b[0;32m\"draft\"\u001b[0m\u001b[1;39m,\n",
      "    \u001b[0m\u001b[34;1m\"license\"\u001b[0m\u001b[1;39m: \u001b[0m\u001b[0;32m\"\"\u001b[0m\u001b[1;39m,\n",
      "    \u001b[0m\u001b[34;1m\"licenseUrl\"\u001b[0m\u001b[1;39m: \u001b[0m\u001b[0;32m\"https://policy.medium.com/medium-terms-of-service-9db0094a1e0f\"\u001b[0m\u001b[1;39m,\n",
      "    \u001b[0m\u001b[34;1m\"tags\"\u001b[0m\u001b[1;39m: \u001b[0m\u001b[1;39m[]\u001b[0m\u001b[1;39m\n",
      "  \u001b[1;39m}\u001b[0m\u001b[1;39m\n",
      "\u001b[1;39m}\u001b[0m\n"
     ]
    }
   ],
   "source": [
    "!curl -X POST \\\n",
    "        -H \"Authorization: Bearer $MEDIUM_TOKEN\" \\\n",
    "        -d 'title=TestAPI' \\\n",
    "\t-d 'contentFormat=markdown' \\\n",
    "\t-d 'content=# I can post from the CLI' \\\n",
    "\t-d 'publishStatus=draft' \\\n",
    "        \"https://api.medium.com/v1/users/$MEDIUM_USER_ID/posts\" | jq"
   ]
  },
  {
   "cell_type": "markdown",
   "id": "sufficient-creation",
   "metadata": {},
   "source": [
    "__`curl` documentation:__\n",
    "\n",
    "-d, --data <data>\n",
    "       (HTTP)  Sends the specified data in a POST request to the HTTP server, in the same way that a browser does when a user\n",
    "       has filled in an HTML form and presses the submit button. This will cause curl to pass the data to  the  server  using\n",
    "       the content-type application/x-www-form-urlencoded.  Compare to -F, --form.\n",
    "\n",
    "       --data-raw  is  almost the same but does not have a special interpretation of the @ character. To post data purely bi‐\n",
    "       nary, you should instead use the --data-binary option.  To URL-encode the value of a form field you may use --data-ur‐\n",
    "       lencode.\n",
    "\n",
    "       If  any of these options is used more than once on the same command line, the data pieces specified will be merged to‐\n",
    "       gether with a separating &-symbol. Thus, using '-d name=daniel -d skill=lousy' would generate a post chunk that  looks\n",
    "       like 'name=daniel&skill=lousy'.\n",
    "\n",
    "       If  you  start the data with the letter @, the rest should be a file name to read the data from, or - if you want curl\n",
    "       to read the data from stdin. Multiple files can also be specified. Posting data from a file named 'foobar' would  thus\n",
    "       be done with -d, --data @foobar. When --data is told to read from a file like that, carriage returns and newlines will\n",
    "       be stripped out. If you don't want the @ character to have a special interpretation use --data-raw instead.\n",
    "\n",
    "\n",
    "__Note__, we can pass in a file's content by preceding it's path with `@`, for example:\n",
    "If we have file `test.md` such that:\n",
    "```md\n",
    "# This is the title\n",
    "\n",
    "## This is a subtitle\n",
    "\n",
    "This is the main body, __bold__ words, _italic_ and ~deleted~.\n",
    "```\n",
    "a = 1\n",
    "b = 2\n",
    "c = a + b\n",
    "```\n",
    "```\n",
    "\n",
    "The POST request would look like (as long as the `curl` call is in the same directory as `test.md`):"
   ]
  },
  {
   "cell_type": "code",
   "execution_count": null,
   "id": "heard-company",
   "metadata": {},
   "outputs": [
    {
     "name": "stdout",
     "output_type": "stream",
     "text": [
      "  % Total    % Received % Xferd  Average Speed   Time    Time     Time  Current\n",
      "                                 Dload  Upload   Total   Spent    Left  Speed\n",
      "100   623  100   318  100   305    777    745 --:--:-- --:--:-- --:--:--  1523\n",
      "\u001b[1;39m{\n",
      "  \u001b[0m\u001b[34;1m\"data\"\u001b[0m\u001b[1;39m: \u001b[0m\u001b[1;39m{\n",
      "    \u001b[0m\u001b[34;1m\"id\"\u001b[0m\u001b[1;39m: \u001b[0m\u001b[0;32m\"535718ca4807\"\u001b[0m\u001b[1;39m,\n",
      "    \u001b[0m\u001b[34;1m\"title\"\u001b[0m\u001b[1;39m: \u001b[0m\u001b[0;32m\"TestAPI\"\u001b[0m\u001b[1;39m,\n",
      "    \u001b[0m\u001b[34;1m\"authorId\"\u001b[0m\u001b[1;39m: \u001b[0m\u001b[0;32m\"1e344db7dfd2a8efa9698a758030e05e28ff4c396f1f87f003704e0a8a80b9656\"\u001b[0m\u001b[1;39m,\n",
      "    \u001b[0m\u001b[34;1m\"url\"\u001b[0m\u001b[1;39m: \u001b[0m\u001b[0;32m\"https://medium.com/@lucha6/535718ca4807\"\u001b[0m\u001b[1;39m,\n",
      "    \u001b[0m\u001b[34;1m\"canonicalUrl\"\u001b[0m\u001b[1;39m: \u001b[0m\u001b[0;32m\"\"\u001b[0m\u001b[1;39m,\n",
      "    \u001b[0m\u001b[34;1m\"publishStatus\"\u001b[0m\u001b[1;39m: \u001b[0m\u001b[0;32m\"draft\"\u001b[0m\u001b[1;39m,\n",
      "    \u001b[0m\u001b[34;1m\"license\"\u001b[0m\u001b[1;39m: \u001b[0m\u001b[0;32m\"\"\u001b[0m\u001b[1;39m,\n",
      "    \u001b[0m\u001b[34;1m\"licenseUrl\"\u001b[0m\u001b[1;39m: \u001b[0m\u001b[0;32m\"https://policy.medium.com/medium-terms-of-service-9db0094a1e0f\"\u001b[0m\u001b[1;39m,\n",
      "    \u001b[0m\u001b[34;1m\"tags\"\u001b[0m\u001b[1;39m: \u001b[0m\u001b[1;39m[]\u001b[0m\u001b[1;39m\n",
      "  \u001b[1;39m}\u001b[0m\u001b[1;39m\n",
      "\u001b[1;39m}\u001b[0m\n"
     ]
    }
   ],
   "source": [
    "!curl -X POST \\\n",
    "        -H \"Authorization: Bearer $MEDIUM_TOKEN\" \\\n",
    "        -d 'title=TestAPI' \\\n",
    "        -d 'contentFormat=markdown' \\\n",
    "        --data-urlencode \"content@test.md\" \\\n",
    "        -d 'publishStatus=draft' \\\n",
    "        \"https://api.medium.com/v1/users/$MEDIUM_USER_ID/posts\" | jq"
   ]
  },
  {
   "cell_type": "markdown",
   "id": "above-notion",
   "metadata": {},
   "source": [
    "__All the possible options to specify are described in the [Medium API docs (Create a post section)](https://github.com/Medium/medium-api-docs#creating-a-post).__\n",
    "\n",
    "Note also that there is no way to change what's uploaded other than connect to Medium via your web browser. That means, that if you re-upload a file with the same title a new article will be created and be given a unique idenitifier which can make the draft fox rather messy.\n",
    "\n",
    "### Uploading images\n",
    "\n",
    "Let's say we have an image, like GitHub's logo:\n",
    "![](https://cdn.afterdawn.fi/v3/news/original/github-logo.png)\n",
    "\n",
    "We can upload this from the CLI too:"
   ]
  },
  {
   "cell_type": "code",
   "execution_count": null,
   "id": "balanced-celebration",
   "metadata": {},
   "outputs": [
    {
     "name": "stdout",
     "output_type": "stream",
     "text": [
      "  % Total    % Received % Xferd  Average Speed   Time    Time     Time  Current\n",
      "                                 Dload  Upload   Total   Spent    Left  Speed\n",
      "100 51226  100   116  100 51110    324   139k --:--:-- --:--:-- --:--:--  139k\n",
      "\u001b[1;39m{\n",
      "  \u001b[0m\u001b[34;1m\"data\"\u001b[0m\u001b[1;39m: \u001b[0m\u001b[1;39m{\n",
      "    \u001b[0m\u001b[34;1m\"url\"\u001b[0m\u001b[1;39m: \u001b[0m\u001b[0;32m\"https://cdn-images-1.medium.com/proxy/1*sV7tva-728oySeOUL0-vOw.png\"\u001b[0m\u001b[1;39m,\n",
      "    \u001b[0m\u001b[34;1m\"md5\"\u001b[0m\u001b[1;39m: \u001b[0m\u001b[0;32m\"sV7tva-728oySeOUL0-vOw\"\u001b[0m\u001b[1;39m\n",
      "  \u001b[1;39m}\u001b[0m\u001b[1;39m\n",
      "\u001b[1;39m}\u001b[0m\n"
     ]
    }
   ],
   "source": [
    "!curl -X POST https://api.medium.com/v1/images \\\n",
    "\t-H \"Authorization: Bearer $MEDIUM_TOKEN\" \\\n",
    "\t-F 'name=\"image\"; filename=\"github-logo.png\" ; type=\"image/png\";' \\\n",
    "\t-F 'image=@github-logo.png' | jq"
   ]
  },
  {
   "cell_type": "markdown",
   "id": "forward-mounting",
   "metadata": {},
   "source": [
    "This outputs a JSON dictionary with the image's URL and an md5 identifier, which could be useful to store to avoid reuploading images to the Medium servers.\n",
    "\n",
    "I also realised late that `GET` and `POST` are command line programs too but I find it harder to work with them than with cURL.\n",
    "The uncomfortable thing about working with them (at least to upload images) is that that file image.txt(as per seen in the next ref) needs to have CRLF endings (like DOS files) as opposed to LF ending files (like Unix)[SO](https://stackoverflow.com/a/10765244/12821043). This is equivalent to all lines ending by `\\n\\n` in the form part.\n",
    "\n",
    "## CURL conclusion\n",
    "\n",
    "We've gotten quite far with cURL alone from the CLI but we can do the same and potentially in an easier way from python :)\n",
    "\n",
    "# Jupyter Extensions\n",
    "\n",
    "# Parsing a Jupyter notebook"
   ]
  }
 ],
 "metadata": {
  "jupytext": {
   "cell_metadata_filter": "-all",
   "formats": "md,ipynb",
   "main_language": "bash",
   "notebook_metadata_filter": "-all"
  },
  "kernelspec": {
   "display_name": "Python 3",
   "language": "python",
   "name": "python3"
  }
 },
 "nbformat": 4,
 "nbformat_minor": 5
}
