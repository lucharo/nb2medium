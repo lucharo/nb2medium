{
 "cells": [
  {
   "cell_type": "markdown",
   "id": "casual-george",
   "metadata": {},
   "source": [
    "$a = x^2 \\cdot e^x$"
   ]
  }
 ],
 "metadata": {
  "kernelspec": {
   "display_name": "Python 3",
   "language": "python",
   "name": "python3"
  }
 },
 "nbformat": 4,
 "nbformat_minor": 5
}
