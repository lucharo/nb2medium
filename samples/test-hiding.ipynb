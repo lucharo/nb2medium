{
 "cells": [
  {
   "cell_type": "markdown",
   "id": "magnetic-dominant",
   "metadata": {},
   "source": [
    "### The output of the next cell is hidden"
   ]
  },
  {
   "cell_type": "code",
   "execution_count": null,
   "id": "graduate-northern",
   "metadata": {},
   "outputs": [
    {
     "name": "stdout",
     "output_type": "stream",
     "text": [
      "My name is Jack\n"
     ]
    }
   ],
   "source": [
    "#%hide-output\n",
    "print('My name is Jack')"
   ]
  },
  {
   "cell_type": "markdown",
   "id": "traditional-amber",
   "metadata": {},
   "source": [
    "### The source of the next cell is hidden"
   ]
  },
  {
   "cell_type": "code",
   "execution_count": null,
   "id": "radical-ghana",
   "metadata": {},
   "outputs": [
    {
     "name": "stdout",
     "output_type": "stream",
     "text": [
      "My name is Jack\n"
     ]
    }
   ],
   "source": [
    "#%hide-source\n",
    "print('My name is Jack')"
   ]
  },
  {
   "cell_type": "markdown",
   "id": "stuffed-validity",
   "metadata": {},
   "source": [
    "### The entire next cell is hidden"
   ]
  },
  {
   "cell_type": "code",
   "execution_count": null,
   "id": "small-method",
   "metadata": {},
   "outputs": [
    {
     "name": "stdout",
     "output_type": "stream",
     "text": [
      "My name is Jack\n"
     ]
    }
   ],
   "source": [
    "#% hide-cell\n",
    "print('My name is Jack')"
   ]
  }
 ],
 "metadata": {
  "kernelspec": {
   "display_name": "Python 3",
   "language": "python",
   "name": "python3"
  }
 },
 "nbformat": 4,
 "nbformat_minor": 5
}
