{
 "cells": [
  {
   "cell_type": "markdown",
   "id": "incorporate-rocket",
   "metadata": {},
   "source": [
    "![](https://external-content.duckduckgo.com/iu/?u=https%3A%2F%2Ftse1.mm.bing.net%2Fth%3Fid%3DOIP.csqwf4SPoPR9uxnliOJ0cgHaE8%26pid%3DApi&f=1)"
   ]
  }
 ],
 "metadata": {
  "kernelspec": {
   "display_name": "Python 3",
   "language": "python",
   "name": "python3"
  }
 },
 "nbformat": 4,
 "nbformat_minor": 5
}
