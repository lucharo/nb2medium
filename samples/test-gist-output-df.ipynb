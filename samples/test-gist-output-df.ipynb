{
 "cells": [
  {
   "cell_type": "code",
   "execution_count": null,
   "id": "lyric-printing",
   "metadata": {},
   "outputs": [
    {
     "data": {
      "text/html": [
       "<div>\n",
       "<style scoped>\n",
       "    .dataframe tbody tr th:only-of-type {\n",
       "        vertical-align: middle;\n",
       "    }\n",
       "\n",
       "    .dataframe tbody tr th {\n",
       "        vertical-align: top;\n",
       "    }\n",
       "\n",
       "    .dataframe thead th {\n",
       "        text-align: right;\n",
       "    }\n",
       "</style>\n",
       "<table border=\"1\" class=\"dataframe\">\n",
       "  <thead>\n",
       "    <tr style=\"text-align: right;\">\n",
       "      <th></th>\n",
       "      <th>a</th>\n",
       "      <th>b</th>\n",
       "      <th>c</th>\n",
       "    </tr>\n",
       "  </thead>\n",
       "  <tbody>\n",
       "    <tr>\n",
       "      <th>0</th>\n",
       "      <td>1</td>\n",
       "      <td>9</td>\n",
       "      <td>hair</td>\n",
       "    </tr>\n",
       "    <tr>\n",
       "      <th>1</th>\n",
       "      <td>2</td>\n",
       "      <td>0</td>\n",
       "      <td>potato</td>\n",
       "    </tr>\n",
       "    <tr>\n",
       "      <th>2</th>\n",
       "      <td>3</td>\n",
       "      <td>1</td>\n",
       "      <td>water</td>\n",
       "    </tr>\n",
       "  </tbody>\n",
       "</table>\n",
       "</div>"
      ],
      "text/plain": [
       "   a  b       c\n",
       "0  1  9    hair\n",
       "1  2  0  potato\n",
       "2  3  1   water"
      ]
     },
     "execution_count": null,
     "metadata": {},
     "output_type": "execute_result"
    }
   ],
   "source": [
    "# %gist description: nb2medium-test gistname: pandas.py upload: both\n",
    "import pandas as pd\n",
    "pd.DataFrame({'a': [1,2,3], 'b':[9,0,1], 'c': ['hair', 'potato', 'water']})"
   ]
  },
  {
   "cell_type": "code",
   "execution_count": null,
   "id": "applied-plant",
   "metadata": {},
   "outputs": [
    {
     "data": {
      "application/javascript": [
       "const pythonPromise = function(python) {\n",
       "        return new Promise((resolve, reject) => {\n",
       "            var callbacks = {\n",
       "                iopub: {\n",
       "                    output: (data) => {resolve(data.content.text)}\n",
       "                    }\n",
       "                };\n",
       "            Jupyter.notebook.kernel.execute(python, callbacks);  \n",
       "       });\n",
       "    }\n",
       "\n",
       "let a = pythonPromise(`\n",
       "from nb2medium.upload import nb2medium\n",
       "nb2medium(title = 'hi',\n",
       "          notebook = './test-gist-output-df.ipynb')`)\n",
       "console.log(a)\n"
      ],
      "text/plain": [
       "<IPython.core.display.Javascript object>"
      ]
     },
     "metadata": {},
     "output_type": "display_data"
    }
   ],
   "source": [
    "%%js \n",
    "const pythonPromise = function(python) {\n",
    "        return new Promise((resolve, reject) => {\n",
    "            var callbacks = {\n",
    "                iopub: {\n",
    "                    output: (data) => {resolve(data.content.text)}\n",
    "                    }\n",
    "                };\n",
    "            Jupyter.notebook.kernel.execute(python, callbacks);  \n",
    "       });\n",
    "    }\n",
    "\n",
    "let a = pythonPromise(`\n",
    "from nb2medium.upload import nb2medium\n",
    "nb2medium(title = 'hi',\n",
    "          notebook = './test-gist-output-df.ipynb')`)\n",
    "console.log(a)"
   ]
  },
  {
   "cell_type": "code",
   "execution_count": null,
   "id": "assisted-asian",
   "metadata": {},
   "outputs": [
    {
     "name": "stdout",
     "output_type": "stream",
     "text": [
      "uploader:DEBUG - Detected MEDIUM_TOKEN\n",
      "converter:DEBUG - Detected gist tag in cell 0  with arguments: description, gistname, upload; uploading...\n",
      "converter:INFO - Gist pandas.py from cell 0 succesfully uploaded!\n",
      "converter:DEBUG - Found table in cell 0, uploading...\n",
      "converter:INFO - Gist pandas.py.csv from cell 0 succesfully uploaded!\n",
      "converter:INFO - Detected 0 plots and 0 local images in notebook.\n",
      "converter:INFO - Markdown document written to ./test-gist-output-df/test-gist-output-df.md\n",
      "uploader:INFO - Draft of 'hi' from test-gist-output-df.ipynb notebook uploaded to Medium: https://medium.com/@lucha6/fd90a302ae0a\n",
      "\n"
     ]
    }
   ],
   "source": [
    "from nb2medium.upload import nb2medium\n",
    "from io import StringIO\n",
    "from contextlib import redirect_stdout\n",
    "f = StringIO()\n",
    "with redirect_stdout(f):\n",
    "    n2medium_request = nb2medium(\n",
    "        title = 'hi',\n",
    "        notebook = './test-gist-output-df.ipynb',\n",
    "        log_level = 'debug',\n",
    "        log_to_stdout = True)\n",
    "print(f.getvalue())"
   ]
  },
  {
   "cell_type": "code",
   "execution_count": null,
   "id": "naval-banks",
   "metadata": {},
   "outputs": [],
   "source": []
  }
 ],
 "metadata": {
  "kernelspec": {
   "display_name": "Python 3",
   "language": "python",
   "name": "python3"
  }
 },
 "nbformat": 4,
 "nbformat_minor": 5
}
