{
 "cells": [
  {
   "cell_type": "markdown",
   "id": "faced-spain",
   "metadata": {},
   "source": [
    "## Hiding cells              "
   ]
  },
  {
   "cell_type": "code",
   "execution_count": null,
   "id": "distributed-stranger",
   "metadata": {
    "hide_input": true
   },
   "outputs": [
    {
     "name": "stdout",
     "output_type": "stream",
     "text": [
      "My name is Jack\n"
     ]
    }
   ],
   "source": [
    "print('My name is Jack')"
   ]
  },
  {
   "cell_type": "markdown",
   "id": "smart-basement",
   "metadata": {},
   "source": [
    "Same as above but hiding source (aka input), output and all (aka whole cell)"
   ]
  },
  {
   "cell_type": "markdown",
   "id": "growing-employment",
   "metadata": {},
   "source": [
    "### The source of the next cell is hidden"
   ]
  },
  {
   "cell_type": "code",
   "execution_count": null,
   "id": "radical-ghana",
   "metadata": {},
   "outputs": [
    {
     "name": "stdout",
     "output_type": "stream",
     "text": [
      "My name is Jack\n"
     ]
    }
   ],
   "source": [
    "# hide-source\n",
    "print('My name is Jack')"
   ]
  },
  {
   "cell_type": "markdown",
   "id": "organic-artist",
   "metadata": {},
   "source": [
    "### The output of the next cell is hidden"
   ]
  },
  {
   "cell_type": "code",
   "execution_count": null,
   "id": "distant-military",
   "metadata": {},
   "outputs": [
    {
     "name": "stdout",
     "output_type": "stream",
     "text": [
      "My name is Jack\n"
     ]
    }
   ],
   "source": [
    "#hide-output\n",
    "print('My name is Jack')"
   ]
  },
  {
   "cell_type": "markdown",
   "id": "stuffed-validity",
   "metadata": {},
   "source": [
    "### The entire next cell is hidden"
   ]
  },
  {
   "cell_type": "code",
   "execution_count": null,
   "id": "small-method",
   "metadata": {},
   "outputs": [
    {
     "name": "stdout",
     "output_type": "stream",
     "text": [
      "My name is Jack\n"
     ]
    }
   ],
   "source": [
    "# hide-cell\n",
    "print('My name is Jack')"
   ]
  }
 ],
 "metadata": {
  "kernelspec": {
   "display_name": "Python 3",
   "language": "python",
   "name": "python3"
  }
 },
 "nbformat": 4,
 "nbformat_minor": 5
}
